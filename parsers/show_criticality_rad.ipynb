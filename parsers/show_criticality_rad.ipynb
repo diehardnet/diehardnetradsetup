{
 "cells": [
  {
   "cell_type": "code",
   "execution_count": 1,
   "outputs": [],
   "source": [
    "import pandas as pd"
   ],
   "metadata": {
    "collapsed": false
   },
   "id": "55fdc0a85e030bbb"
  },
  {
   "cell_type": "code",
   "execution_count": 2,
   "id": "9b9f9d1c-95f4-407e-ac60-696d80eab5de",
   "metadata": {},
   "outputs": [],
   "source": [
    "df = pd.read_csv(\"../data/parsed_logs_rad.csv\")"
   ]
  },
  {
   "cell_type": "code",
   "execution_count": 3,
   "outputs": [
    {
     "data": {
      "text/plain": "                  start_dt                          config  ecc     hostname  \\\n1257   2022-12-14 05:19:22      c10_res44_test_02_relu6-bn  OFF  carolp20003   \n1258   2022-12-14 05:19:22      c10_res44_test_02_relu6-bn  OFF  carolp20003   \n1259   2022-12-14 05:19:22      c10_res44_test_02_relu6-bn  OFF  carolp20003   \n1260   2022-12-14 05:19:22      c10_res44_test_02_relu6-bn  OFF  carolp20003   \n1261   2022-12-14 05:19:22      c10_res44_test_02_relu6-bn  OFF  carolp20003   \n...                    ...                             ...  ...          ...   \n41277  2022-12-11 18:36:41  c10_res44_test_01_bn-relu_base  OFF  carolp20003   \n41278  2022-12-11 18:36:41  c10_res44_test_01_bn-relu_base  OFF  carolp20003   \n41279  2022-12-11 18:36:41  c10_res44_test_01_bn-relu_base  OFF  carolp20003   \n41280  2022-12-10 19:51:41  c10_res44_test_01_bn-relu_base  OFF  carolp20003   \n41281  2022-12-10 19:51:41  c10_res44_test_01_bn-relu_base  OFF  carolp20003   \n\n                                                 logfile    it  ker_time  \\\n1257   2022_12_14_05_19_22_c10_res44_test_02_relu6-bn...  4502  0.034874   \n1258   2022_12_14_05_19_22_c10_res44_test_02_relu6-bn...     2  0.041432   \n1259   2022_12_14_05_19_22_c10_res44_test_02_relu6-bn...     3  0.038514   \n1260   2022_12_14_05_19_22_c10_res44_test_02_relu6-bn...     5  0.038118   \n1261   2022_12_14_05_19_22_c10_res44_test_02_relu6-bn...     8  0.038179   \n...                                                  ...   ...       ...   \n41277  2022_12_11_18_36_41_c10_res44_test_01_bn-relu_...     7  0.038149   \n41278  2022_12_11_18_36_41_c10_res44_test_01_bn-relu_...     9  0.038110   \n41279  2022_12_11_18_36_41_c10_res44_test_01_bn-relu_...    10  0.038240   \n41280  2022_12_10_19_51_41_c10_res44_test_01_bn-relu_...     1  0.156552   \n41281  2022_12_10_19_51_41_c10_res44_test_01_bn-relu_...     2  0.037626   \n\n       acc_time  ker_err  acc_err  sdc  critical_sdc  evil_sdc  benign_sdc  \\\n1257   0.000000        8     3016    1             0         0           0   \n1258   0.000000        5        5    1             0         0           0   \n1259   0.000000        1        6    1             0         0           0   \n1260   0.000000        7       13    1             0         0           0   \n1261   0.000000        3       16    1             0         0           0   \n...         ...      ...      ...  ...           ...       ...         ...   \n41277  0.000000        5       56    1             0         0           0   \n41278  0.000000        7       63    1             0         0           0   \n41279  1.043624        7       70    1             0         0           0   \n41280  0.000000       10       10    1             0         0           0   \n41281  0.194178       10       20    1             0         0           0   \n\n       batch_size  \n1257          128  \n1258          128  \n1259          128  \n1260          128  \n1261          128  \n...           ...  \n41277         128  \n41278         128  \n41279         128  \n41280         128  \n41281         128  \n\n[40025 rows x 15 columns]",
      "text/html": "<div>\n<style scoped>\n    .dataframe tbody tr th:only-of-type {\n        vertical-align: middle;\n    }\n\n    .dataframe tbody tr th {\n        vertical-align: top;\n    }\n\n    .dataframe thead th {\n        text-align: right;\n    }\n</style>\n<table border=\"1\" class=\"dataframe\">\n  <thead>\n    <tr style=\"text-align: right;\">\n      <th></th>\n      <th>start_dt</th>\n      <th>config</th>\n      <th>ecc</th>\n      <th>hostname</th>\n      <th>logfile</th>\n      <th>it</th>\n      <th>ker_time</th>\n      <th>acc_time</th>\n      <th>ker_err</th>\n      <th>acc_err</th>\n      <th>sdc</th>\n      <th>critical_sdc</th>\n      <th>evil_sdc</th>\n      <th>benign_sdc</th>\n      <th>batch_size</th>\n    </tr>\n  </thead>\n  <tbody>\n    <tr>\n      <th>1257</th>\n      <td>2022-12-14 05:19:22</td>\n      <td>c10_res44_test_02_relu6-bn</td>\n      <td>OFF</td>\n      <td>carolp20003</td>\n      <td>2022_12_14_05_19_22_c10_res44_test_02_relu6-bn...</td>\n      <td>4502</td>\n      <td>0.034874</td>\n      <td>0.000000</td>\n      <td>8</td>\n      <td>3016</td>\n      <td>1</td>\n      <td>0</td>\n      <td>0</td>\n      <td>0</td>\n      <td>128</td>\n    </tr>\n    <tr>\n      <th>1258</th>\n      <td>2022-12-14 05:19:22</td>\n      <td>c10_res44_test_02_relu6-bn</td>\n      <td>OFF</td>\n      <td>carolp20003</td>\n      <td>2022_12_14_05_19_22_c10_res44_test_02_relu6-bn...</td>\n      <td>2</td>\n      <td>0.041432</td>\n      <td>0.000000</td>\n      <td>5</td>\n      <td>5</td>\n      <td>1</td>\n      <td>0</td>\n      <td>0</td>\n      <td>0</td>\n      <td>128</td>\n    </tr>\n    <tr>\n      <th>1259</th>\n      <td>2022-12-14 05:19:22</td>\n      <td>c10_res44_test_02_relu6-bn</td>\n      <td>OFF</td>\n      <td>carolp20003</td>\n      <td>2022_12_14_05_19_22_c10_res44_test_02_relu6-bn...</td>\n      <td>3</td>\n      <td>0.038514</td>\n      <td>0.000000</td>\n      <td>1</td>\n      <td>6</td>\n      <td>1</td>\n      <td>0</td>\n      <td>0</td>\n      <td>0</td>\n      <td>128</td>\n    </tr>\n    <tr>\n      <th>1260</th>\n      <td>2022-12-14 05:19:22</td>\n      <td>c10_res44_test_02_relu6-bn</td>\n      <td>OFF</td>\n      <td>carolp20003</td>\n      <td>2022_12_14_05_19_22_c10_res44_test_02_relu6-bn...</td>\n      <td>5</td>\n      <td>0.038118</td>\n      <td>0.000000</td>\n      <td>7</td>\n      <td>13</td>\n      <td>1</td>\n      <td>0</td>\n      <td>0</td>\n      <td>0</td>\n      <td>128</td>\n    </tr>\n    <tr>\n      <th>1261</th>\n      <td>2022-12-14 05:19:22</td>\n      <td>c10_res44_test_02_relu6-bn</td>\n      <td>OFF</td>\n      <td>carolp20003</td>\n      <td>2022_12_14_05_19_22_c10_res44_test_02_relu6-bn...</td>\n      <td>8</td>\n      <td>0.038179</td>\n      <td>0.000000</td>\n      <td>3</td>\n      <td>16</td>\n      <td>1</td>\n      <td>0</td>\n      <td>0</td>\n      <td>0</td>\n      <td>128</td>\n    </tr>\n    <tr>\n      <th>...</th>\n      <td>...</td>\n      <td>...</td>\n      <td>...</td>\n      <td>...</td>\n      <td>...</td>\n      <td>...</td>\n      <td>...</td>\n      <td>...</td>\n      <td>...</td>\n      <td>...</td>\n      <td>...</td>\n      <td>...</td>\n      <td>...</td>\n      <td>...</td>\n      <td>...</td>\n    </tr>\n    <tr>\n      <th>41277</th>\n      <td>2022-12-11 18:36:41</td>\n      <td>c10_res44_test_01_bn-relu_base</td>\n      <td>OFF</td>\n      <td>carolp20003</td>\n      <td>2022_12_11_18_36_41_c10_res44_test_01_bn-relu_...</td>\n      <td>7</td>\n      <td>0.038149</td>\n      <td>0.000000</td>\n      <td>5</td>\n      <td>56</td>\n      <td>1</td>\n      <td>0</td>\n      <td>0</td>\n      <td>0</td>\n      <td>128</td>\n    </tr>\n    <tr>\n      <th>41278</th>\n      <td>2022-12-11 18:36:41</td>\n      <td>c10_res44_test_01_bn-relu_base</td>\n      <td>OFF</td>\n      <td>carolp20003</td>\n      <td>2022_12_11_18_36_41_c10_res44_test_01_bn-relu_...</td>\n      <td>9</td>\n      <td>0.038110</td>\n      <td>0.000000</td>\n      <td>7</td>\n      <td>63</td>\n      <td>1</td>\n      <td>0</td>\n      <td>0</td>\n      <td>0</td>\n      <td>128</td>\n    </tr>\n    <tr>\n      <th>41279</th>\n      <td>2022-12-11 18:36:41</td>\n      <td>c10_res44_test_01_bn-relu_base</td>\n      <td>OFF</td>\n      <td>carolp20003</td>\n      <td>2022_12_11_18_36_41_c10_res44_test_01_bn-relu_...</td>\n      <td>10</td>\n      <td>0.038240</td>\n      <td>1.043624</td>\n      <td>7</td>\n      <td>70</td>\n      <td>1</td>\n      <td>0</td>\n      <td>0</td>\n      <td>0</td>\n      <td>128</td>\n    </tr>\n    <tr>\n      <th>41280</th>\n      <td>2022-12-10 19:51:41</td>\n      <td>c10_res44_test_01_bn-relu_base</td>\n      <td>OFF</td>\n      <td>carolp20003</td>\n      <td>2022_12_10_19_51_41_c10_res44_test_01_bn-relu_...</td>\n      <td>1</td>\n      <td>0.156552</td>\n      <td>0.000000</td>\n      <td>10</td>\n      <td>10</td>\n      <td>1</td>\n      <td>0</td>\n      <td>0</td>\n      <td>0</td>\n      <td>128</td>\n    </tr>\n    <tr>\n      <th>41281</th>\n      <td>2022-12-10 19:51:41</td>\n      <td>c10_res44_test_01_bn-relu_base</td>\n      <td>OFF</td>\n      <td>carolp20003</td>\n      <td>2022_12_10_19_51_41_c10_res44_test_01_bn-relu_...</td>\n      <td>2</td>\n      <td>0.037626</td>\n      <td>0.194178</td>\n      <td>10</td>\n      <td>20</td>\n      <td>1</td>\n      <td>0</td>\n      <td>0</td>\n      <td>0</td>\n      <td>128</td>\n    </tr>\n  </tbody>\n</table>\n<p>40025 rows × 15 columns</p>\n</div>"
     },
     "execution_count": 3,
     "metadata": {},
     "output_type": "execute_result"
    }
   ],
   "source": [
    "df[df[\"hostname\"] == \"carolp20003\"]"
   ],
   "metadata": {
    "collapsed": false
   },
   "id": "97fd539bb16294af"
  },
  {
   "cell_type": "code",
   "execution_count": 4,
   "id": "67491d89-1160-4a1b-b522-8f9d89a2bcaa",
   "metadata": {},
   "outputs": [],
   "source": [
    "configs = dict(\n",
    "    # Baseline C100\n",
    "    BaseC100=\"c100_res44_test_01_bn-relu_base.yaml\",\n",
    "    # \"c100_res44_test_02_bn-relu6.yaml\",\n",
    "    # Order inversion with relu6 C100\n",
    "    OrderInvC100=\"c100_res44_test_02_relu6-bn.yaml\",\n",
    "    # \"c100_res44_test_02_bn-relu6_base.yaml\",\n",
    "    BaseBnRelu6C100=\"c100_res44_test_02_bn-relu6_base.yaml\",\n",
    "    BnRelu6C100=\"c100_res44_test_02_bn-relu6.yaml\",\n",
    "    # Order inversion + nan filter + Relu6\n",
    "    OrderINanRelu6C100=\"c100_res44_test_02_relu6-bn_nanfilter.yaml\",\n",
    "    # Gelu and nan C100\n",
    "    GeluNanC100=\"c100_res44_test_02_gelu6_nans.yaml\",\n",
    "\n",
    "    # Baseline C10\n",
    "    BaseC10=\"c10_res44_test_01_bn-relu_base.yaml\",\n",
    "    # \"c10_res44_test_02_bn-relu6.yaml\",\n",
    "    BnRelu6C10=\"c10_res44_test_02_bn-relu6.yaml\",\n",
    "    # Order inversion with relu6 C10\n",
    "    OrderInvC10=\"c10_res44_test_02_relu6-bn.yaml\",\n",
    "    # \"c10_res44_test_02_bn-relu6_base.yaml\",\n",
    "    BaseBnRelu6C10=\"c10_res44_test_02_bn-relu6_base.yaml\",\n",
    "    OrderINanRelu6C10=\"c10_res44_test_02_relu6-bn_nanfilter.yaml\",\n",
    "    # Gelu and nan C10\n",
    "    GeluNanC10=\"c10_res44_test_02_gelu6_nans.yaml\",\n",
    "\n",
    "    MobileNetC100=\"cifar100_mobilenetv2_x1_4.yaml\",\n",
    "    MobileNetC10=\"cifar10_mobilenetv2_x1_4.yaml\",\n",
    "\n",
    "    Resnet50ImagenetBase=\"resnet50_imagenet1k_v2_base\",\n",
    "    # Resnet50ImagenetBase=\"resnet50_imagenet1k_v2_base\",\n",
    "    DeepLabV3=\"deeplabv3_resnet50_base\",\n",
    "    ViTPatch16_224=\"vit_base_patch16_224\",\n",
    "    ViTPatchSam32_224=\"vit_base_patch32_224_sam\",\n",
    "    ViTPatch32_224=\"vit_base_patch32_384\",\n",
    ")\n",
    "configs_inv = {v.replace(\".yaml\", \"\"): k for k, v in configs.items()}"
   ]
  },
  {
   "cell_type": "code",
   "execution_count": 5,
   "id": "1a98e0d8-9ed6-40f1-9116-d658f168c767",
   "metadata": {},
   "outputs": [],
   "source": [
    "configs_df = pd.DataFrame([configs]).T.reset_index().rename(columns={0: \"YAML\", \"index\": \"config\"})"
   ]
  },
  {
   "cell_type": "code",
   "execution_count": 6,
   "id": "c6929a77-35e1-4d1f-bfbf-1f1d10515d98",
   "metadata": {},
   "outputs": [
    {
     "data": {
      "text/plain": "                  config                                        YAML\n0               BaseC100        c100_res44_test_01_bn-relu_base.yaml\n1           OrderInvC100            c100_res44_test_02_relu6-bn.yaml\n2        BaseBnRelu6C100       c100_res44_test_02_bn-relu6_base.yaml\n3            BnRelu6C100            c100_res44_test_02_bn-relu6.yaml\n4     OrderINanRelu6C100  c100_res44_test_02_relu6-bn_nanfilter.yaml\n5            GeluNanC100          c100_res44_test_02_gelu6_nans.yaml\n6                BaseC10         c10_res44_test_01_bn-relu_base.yaml\n7             BnRelu6C10             c10_res44_test_02_bn-relu6.yaml\n8            OrderInvC10             c10_res44_test_02_relu6-bn.yaml\n9         BaseBnRelu6C10        c10_res44_test_02_bn-relu6_base.yaml\n10     OrderINanRelu6C10   c10_res44_test_02_relu6-bn_nanfilter.yaml\n11            GeluNanC10           c10_res44_test_02_gelu6_nans.yaml\n12         MobileNetC100              cifar100_mobilenetv2_x1_4.yaml\n13          MobileNetC10               cifar10_mobilenetv2_x1_4.yaml\n14  Resnet50ImagenetBase                 resnet50_imagenet1k_v2_base\n15             DeepLabV3                     deeplabv3_resnet50_base\n16        ViTPatch16_224                        vit_base_patch16_224\n17     ViTPatchSam32_224                    vit_base_patch32_224_sam\n18        ViTPatch32_224                        vit_base_patch32_384",
      "text/html": "<div>\n<style scoped>\n    .dataframe tbody tr th:only-of-type {\n        vertical-align: middle;\n    }\n\n    .dataframe tbody tr th {\n        vertical-align: top;\n    }\n\n    .dataframe thead th {\n        text-align: right;\n    }\n</style>\n<table border=\"1\" class=\"dataframe\">\n  <thead>\n    <tr style=\"text-align: right;\">\n      <th></th>\n      <th>config</th>\n      <th>YAML</th>\n    </tr>\n  </thead>\n  <tbody>\n    <tr>\n      <th>0</th>\n      <td>BaseC100</td>\n      <td>c100_res44_test_01_bn-relu_base.yaml</td>\n    </tr>\n    <tr>\n      <th>1</th>\n      <td>OrderInvC100</td>\n      <td>c100_res44_test_02_relu6-bn.yaml</td>\n    </tr>\n    <tr>\n      <th>2</th>\n      <td>BaseBnRelu6C100</td>\n      <td>c100_res44_test_02_bn-relu6_base.yaml</td>\n    </tr>\n    <tr>\n      <th>3</th>\n      <td>BnRelu6C100</td>\n      <td>c100_res44_test_02_bn-relu6.yaml</td>\n    </tr>\n    <tr>\n      <th>4</th>\n      <td>OrderINanRelu6C100</td>\n      <td>c100_res44_test_02_relu6-bn_nanfilter.yaml</td>\n    </tr>\n    <tr>\n      <th>5</th>\n      <td>GeluNanC100</td>\n      <td>c100_res44_test_02_gelu6_nans.yaml</td>\n    </tr>\n    <tr>\n      <th>6</th>\n      <td>BaseC10</td>\n      <td>c10_res44_test_01_bn-relu_base.yaml</td>\n    </tr>\n    <tr>\n      <th>7</th>\n      <td>BnRelu6C10</td>\n      <td>c10_res44_test_02_bn-relu6.yaml</td>\n    </tr>\n    <tr>\n      <th>8</th>\n      <td>OrderInvC10</td>\n      <td>c10_res44_test_02_relu6-bn.yaml</td>\n    </tr>\n    <tr>\n      <th>9</th>\n      <td>BaseBnRelu6C10</td>\n      <td>c10_res44_test_02_bn-relu6_base.yaml</td>\n    </tr>\n    <tr>\n      <th>10</th>\n      <td>OrderINanRelu6C10</td>\n      <td>c10_res44_test_02_relu6-bn_nanfilter.yaml</td>\n    </tr>\n    <tr>\n      <th>11</th>\n      <td>GeluNanC10</td>\n      <td>c10_res44_test_02_gelu6_nans.yaml</td>\n    </tr>\n    <tr>\n      <th>12</th>\n      <td>MobileNetC100</td>\n      <td>cifar100_mobilenetv2_x1_4.yaml</td>\n    </tr>\n    <tr>\n      <th>13</th>\n      <td>MobileNetC10</td>\n      <td>cifar10_mobilenetv2_x1_4.yaml</td>\n    </tr>\n    <tr>\n      <th>14</th>\n      <td>Resnet50ImagenetBase</td>\n      <td>resnet50_imagenet1k_v2_base</td>\n    </tr>\n    <tr>\n      <th>15</th>\n      <td>DeepLabV3</td>\n      <td>deeplabv3_resnet50_base</td>\n    </tr>\n    <tr>\n      <th>16</th>\n      <td>ViTPatch16_224</td>\n      <td>vit_base_patch16_224</td>\n    </tr>\n    <tr>\n      <th>17</th>\n      <td>ViTPatchSam32_224</td>\n      <td>vit_base_patch32_224_sam</td>\n    </tr>\n    <tr>\n      <th>18</th>\n      <td>ViTPatch32_224</td>\n      <td>vit_base_patch32_384</td>\n    </tr>\n  </tbody>\n</table>\n</div>"
     },
     "execution_count": 6,
     "metadata": {},
     "output_type": "execute_result"
    }
   ],
   "source": [
    "configs_df"
   ]
  },
  {
   "cell_type": "code",
   "execution_count": 7,
   "id": "46d5c87d-df10-4fb2-b355-67a24b1d2c4a",
   "metadata": {},
   "outputs": [],
   "source": [
    "df[\"config\"] = df[\"config\"].apply(lambda x: configs_inv[x])"
   ]
  },
  {
   "cell_type": "code",
   "execution_count": 8,
   "id": "61d0d008-d4bd-4efb-a2d3-9c82d84c719b",
   "metadata": {},
   "outputs": [],
   "source": [
    "df[\"count\"] = 1"
   ]
  }
 ],
 "metadata": {
  "kernelspec": {
   "display_name": "Python 3 (ipykernel)",
   "language": "python",
   "name": "python3"
  },
  "language_info": {
   "codemirror_mode": {
    "name": "ipython",
    "version": 3
   },
   "file_extension": ".py",
   "mimetype": "text/x-python",
   "name": "python",
   "nbconvert_exporter": "python",
   "pygments_lexer": "ipython3",
   "version": "3.8.10"
  }
 },
 "nbformat": 4,
 "nbformat_minor": 5
}
