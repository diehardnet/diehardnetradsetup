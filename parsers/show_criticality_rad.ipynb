{
 "cells": [
  {
   "cell_type": "code",
   "execution_count": 94,
   "outputs": [],
   "source": [
    "import pandas as pd"
   ],
   "metadata": {
    "collapsed": false
   }
  },
  {
   "cell_type": "code",
   "execution_count": 95,
   "id": "9b9f9d1c-95f4-407e-ac60-696d80eab5de",
   "metadata": {},
   "outputs": [],
   "source": [
    "df = pd.read_csv(\"../data/parsed_logs.csv\")"
   ]
  },
  {
   "cell_type": "code",
   "execution_count": 96,
   "outputs": [
    {
     "data": {
      "text/plain": "                  start_dt                                 config  ecc  \\\n0      2022-12-09 16:50:47         c10_res44_test_01_bn-relu_base  OFF   \n1      2022-12-09 16:50:47         c10_res44_test_01_bn-relu_base  OFF   \n2      2022-12-09 16:50:47         c10_res44_test_01_bn-relu_base  OFF   \n3      2022-12-09 16:50:47         c10_res44_test_01_bn-relu_base  OFF   \n4      2022-12-10 15:57:27                deeplabv3_resnet50_base  OFF   \n...                    ...                                    ...  ...   \n12420  2022-12-11 22:57:26       c100_res44_test_02_bn-relu6_base  OFF   \n12421  2022-12-10 13:54:06  c100_res44_test_02_relu6-bn_nanfilter  OFF   \n12422  2022-12-11 08:45:35  c100_res44_test_02_relu6-bn_nanfilter  OFF   \n12423  2022-12-11 08:45:35  c100_res44_test_02_relu6-bn_nanfilter  OFF   \n12424  2022-12-11 08:45:35  c100_res44_test_02_relu6-bn_nanfilter  OFF   \n\n          hostname                                            logfile   it  \\\n0      carolp20003  2022_12_09_16_50_47_c10_res44_test_01_bn-relu_...    1   \n1      carolp20003  2022_12_09_16_50_47_c10_res44_test_01_bn-relu_...    4   \n2      carolp20003  2022_12_09_16_50_47_c10_res44_test_01_bn-relu_...   10   \n3      carolp20003  2022_12_09_16_50_47_c10_res44_test_01_bn-relu_...   11   \n4      carolp20003  2022_12_10_15_57_27_deeplabv3_resnet50_base_EC...    1   \n...            ...                                                ...  ...   \n12420  carolp20002  2022_12_11_22_57_26_c100_res44_test_02_bn-relu...  576   \n12421  carolp20002  2022_12_10_13_54_06_c100_res44_test_02_relu6-b...  305   \n12422  carolp20002  2022_12_11_08_45_35_c100_res44_test_02_relu6-b...  183   \n12423  carolp20002  2022_12_11_08_45_35_c100_res44_test_02_relu6-b...  292   \n12424  carolp20002  2022_12_11_08_45_35_c100_res44_test_02_relu6-b...  988   \n\n       ker_time   acc_time  ker_err  acc_err  sdc  critical_sdc  \n0      0.160242   0.000000       10       10    1             0  \n1      0.034700   0.000000       10       20    1             0  \n2      0.032238   0.000000       10       30    1             0  \n3      0.030591   0.497167       10       40    1             0  \n4      2.880052   0.000000       16       16    1             0  \n...         ...        ...      ...      ...  ...           ...  \n12420  0.030950  18.682935     4096     8792    1             1  \n12421  0.034493  10.728321      100      100    1             0  \n12422  0.034582   0.000000       99       99    1             0  \n12423  0.034229   0.000000       85      184    1             0  \n12424  0.034429  34.352688      100      284    1             0  \n\n[12425 rows x 12 columns]",
      "text/html": "<div>\n<style scoped>\n    .dataframe tbody tr th:only-of-type {\n        vertical-align: middle;\n    }\n\n    .dataframe tbody tr th {\n        vertical-align: top;\n    }\n\n    .dataframe thead th {\n        text-align: right;\n    }\n</style>\n<table border=\"1\" class=\"dataframe\">\n  <thead>\n    <tr style=\"text-align: right;\">\n      <th></th>\n      <th>start_dt</th>\n      <th>config</th>\n      <th>ecc</th>\n      <th>hostname</th>\n      <th>logfile</th>\n      <th>it</th>\n      <th>ker_time</th>\n      <th>acc_time</th>\n      <th>ker_err</th>\n      <th>acc_err</th>\n      <th>sdc</th>\n      <th>critical_sdc</th>\n    </tr>\n  </thead>\n  <tbody>\n    <tr>\n      <th>0</th>\n      <td>2022-12-09 16:50:47</td>\n      <td>c10_res44_test_01_bn-relu_base</td>\n      <td>OFF</td>\n      <td>carolp20003</td>\n      <td>2022_12_09_16_50_47_c10_res44_test_01_bn-relu_...</td>\n      <td>1</td>\n      <td>0.160242</td>\n      <td>0.000000</td>\n      <td>10</td>\n      <td>10</td>\n      <td>1</td>\n      <td>0</td>\n    </tr>\n    <tr>\n      <th>1</th>\n      <td>2022-12-09 16:50:47</td>\n      <td>c10_res44_test_01_bn-relu_base</td>\n      <td>OFF</td>\n      <td>carolp20003</td>\n      <td>2022_12_09_16_50_47_c10_res44_test_01_bn-relu_...</td>\n      <td>4</td>\n      <td>0.034700</td>\n      <td>0.000000</td>\n      <td>10</td>\n      <td>20</td>\n      <td>1</td>\n      <td>0</td>\n    </tr>\n    <tr>\n      <th>2</th>\n      <td>2022-12-09 16:50:47</td>\n      <td>c10_res44_test_01_bn-relu_base</td>\n      <td>OFF</td>\n      <td>carolp20003</td>\n      <td>2022_12_09_16_50_47_c10_res44_test_01_bn-relu_...</td>\n      <td>10</td>\n      <td>0.032238</td>\n      <td>0.000000</td>\n      <td>10</td>\n      <td>30</td>\n      <td>1</td>\n      <td>0</td>\n    </tr>\n    <tr>\n      <th>3</th>\n      <td>2022-12-09 16:50:47</td>\n      <td>c10_res44_test_01_bn-relu_base</td>\n      <td>OFF</td>\n      <td>carolp20003</td>\n      <td>2022_12_09_16_50_47_c10_res44_test_01_bn-relu_...</td>\n      <td>11</td>\n      <td>0.030591</td>\n      <td>0.497167</td>\n      <td>10</td>\n      <td>40</td>\n      <td>1</td>\n      <td>0</td>\n    </tr>\n    <tr>\n      <th>4</th>\n      <td>2022-12-10 15:57:27</td>\n      <td>deeplabv3_resnet50_base</td>\n      <td>OFF</td>\n      <td>carolp20003</td>\n      <td>2022_12_10_15_57_27_deeplabv3_resnet50_base_EC...</td>\n      <td>1</td>\n      <td>2.880052</td>\n      <td>0.000000</td>\n      <td>16</td>\n      <td>16</td>\n      <td>1</td>\n      <td>0</td>\n    </tr>\n    <tr>\n      <th>...</th>\n      <td>...</td>\n      <td>...</td>\n      <td>...</td>\n      <td>...</td>\n      <td>...</td>\n      <td>...</td>\n      <td>...</td>\n      <td>...</td>\n      <td>...</td>\n      <td>...</td>\n      <td>...</td>\n      <td>...</td>\n    </tr>\n    <tr>\n      <th>12420</th>\n      <td>2022-12-11 22:57:26</td>\n      <td>c100_res44_test_02_bn-relu6_base</td>\n      <td>OFF</td>\n      <td>carolp20002</td>\n      <td>2022_12_11_22_57_26_c100_res44_test_02_bn-relu...</td>\n      <td>576</td>\n      <td>0.030950</td>\n      <td>18.682935</td>\n      <td>4096</td>\n      <td>8792</td>\n      <td>1</td>\n      <td>1</td>\n    </tr>\n    <tr>\n      <th>12421</th>\n      <td>2022-12-10 13:54:06</td>\n      <td>c100_res44_test_02_relu6-bn_nanfilter</td>\n      <td>OFF</td>\n      <td>carolp20002</td>\n      <td>2022_12_10_13_54_06_c100_res44_test_02_relu6-b...</td>\n      <td>305</td>\n      <td>0.034493</td>\n      <td>10.728321</td>\n      <td>100</td>\n      <td>100</td>\n      <td>1</td>\n      <td>0</td>\n    </tr>\n    <tr>\n      <th>12422</th>\n      <td>2022-12-11 08:45:35</td>\n      <td>c100_res44_test_02_relu6-bn_nanfilter</td>\n      <td>OFF</td>\n      <td>carolp20002</td>\n      <td>2022_12_11_08_45_35_c100_res44_test_02_relu6-b...</td>\n      <td>183</td>\n      <td>0.034582</td>\n      <td>0.000000</td>\n      <td>99</td>\n      <td>99</td>\n      <td>1</td>\n      <td>0</td>\n    </tr>\n    <tr>\n      <th>12423</th>\n      <td>2022-12-11 08:45:35</td>\n      <td>c100_res44_test_02_relu6-bn_nanfilter</td>\n      <td>OFF</td>\n      <td>carolp20002</td>\n      <td>2022_12_11_08_45_35_c100_res44_test_02_relu6-b...</td>\n      <td>292</td>\n      <td>0.034229</td>\n      <td>0.000000</td>\n      <td>85</td>\n      <td>184</td>\n      <td>1</td>\n      <td>0</td>\n    </tr>\n    <tr>\n      <th>12424</th>\n      <td>2022-12-11 08:45:35</td>\n      <td>c100_res44_test_02_relu6-bn_nanfilter</td>\n      <td>OFF</td>\n      <td>carolp20002</td>\n      <td>2022_12_11_08_45_35_c100_res44_test_02_relu6-b...</td>\n      <td>988</td>\n      <td>0.034429</td>\n      <td>34.352688</td>\n      <td>100</td>\n      <td>284</td>\n      <td>1</td>\n      <td>0</td>\n    </tr>\n  </tbody>\n</table>\n<p>12425 rows × 12 columns</p>\n</div>"
     },
     "execution_count": 96,
     "metadata": {},
     "output_type": "execute_result"
    }
   ],
   "source": [
    "df"
   ],
   "metadata": {
    "collapsed": false
   }
  },
  {
   "cell_type": "code",
   "execution_count": 97,
   "id": "67491d89-1160-4a1b-b522-8f9d89a2bcaa",
   "metadata": {},
   "outputs": [],
   "source": [
    "configs = dict(\n",
    "    # Baseline C100\n",
    "    BaseC100=\"c100_res44_test_01_bn-relu_base.yaml\",\n",
    "    # \"c100_res44_test_02_bn-relu6.yaml\",\n",
    "    # Order inversion with relu6 C100\n",
    "    OrderInvC100=\"c100_res44_test_02_relu6-bn.yaml\",\n",
    "    # \"c100_res44_test_02_bn-relu6_base.yaml\",\n",
    "    BaseBnRelu6C100=\"c100_res44_test_02_bn-relu6_base.yaml\",\n",
    "    BnRelu6C100=\"c100_res44_test_02_bn-relu6.yaml\",\n",
    "    # Order inversion + nan filter + Relu6\n",
    "    OrderINanRelu6C100=\"c100_res44_test_02_relu6-bn_nanfilter.yaml\",\n",
    "    # Gelu and nan C100\n",
    "    GeluNanC100=\"c100_res44_test_02_gelu6_nans.yaml\",\n",
    "\n",
    "    # Baseline C10\n",
    "    BaseC10=\"c10_res44_test_01_bn-relu_base.yaml\",\n",
    "    # \"c10_res44_test_02_bn-relu6.yaml\",\n",
    "    BnRelu6C10=\"c10_res44_test_02_bn-relu6.yaml\",\n",
    "    # Order inversion with relu6 C10\n",
    "    OrderInvC10=\"c10_res44_test_02_relu6-bn.yaml\",\n",
    "    # \"c10_res44_test_02_bn-relu6_base.yaml\",\n",
    "    BaseBnRelu6C10=\"c10_res44_test_02_bn-relu6_base.yaml\",\n",
    "    OrderINanRelu6C10=\"c10_res44_test_02_relu6-bn_nanfilter.yaml\",\n",
    "    # Gelu and nan C10\n",
    "    GeluNanC10=\"c10_res44_test_02_gelu6_nans.yaml\",\n",
    "\n",
    "    MobileNetC100=\"cifar100_mobilenetv2_x1_4.yaml\",\n",
    "    MobileNetC10=\"cifar10_mobilenetv2_x1_4.yaml\",\n",
    "\n",
    "    Resnet50ImagenetBase=\"imagenet1k_v2_base\",\n",
    "    DeepLabV3=\"deeplabv3_resnet50_base\"\n",
    ")\n",
    "configs_inv = {v.replace(\".yaml\", \"\"): k for k, v in configs.items()}"
   ]
  },
  {
   "cell_type": "code",
   "execution_count": 98,
   "id": "1a98e0d8-9ed6-40f1-9116-d658f168c767",
   "metadata": {},
   "outputs": [],
   "source": [
    "configs_df = pd.DataFrame([configs]).T.reset_index().rename(columns={0: \"YAML\", \"index\": \"config\"})"
   ]
  },
  {
   "cell_type": "code",
   "execution_count": 99,
   "id": "c6929a77-35e1-4d1f-bfbf-1f1d10515d98",
   "metadata": {},
   "outputs": [
    {
     "data": {
      "text/plain": "                  config                                        YAML\n0               BaseC100        c100_res44_test_01_bn-relu_base.yaml\n1           OrderInvC100            c100_res44_test_02_relu6-bn.yaml\n2        BaseBnRelu6C100       c100_res44_test_02_bn-relu6_base.yaml\n3            BnRelu6C100            c100_res44_test_02_bn-relu6.yaml\n4     OrderINanRelu6C100  c100_res44_test_02_relu6-bn_nanfilter.yaml\n5            GeluNanC100          c100_res44_test_02_gelu6_nans.yaml\n6                BaseC10         c10_res44_test_01_bn-relu_base.yaml\n7             BnRelu6C10             c10_res44_test_02_bn-relu6.yaml\n8            OrderInvC10             c10_res44_test_02_relu6-bn.yaml\n9         BaseBnRelu6C10        c10_res44_test_02_bn-relu6_base.yaml\n10     OrderINanRelu6C10   c10_res44_test_02_relu6-bn_nanfilter.yaml\n11            GeluNanC10           c10_res44_test_02_gelu6_nans.yaml\n12         MobileNetC100              cifar100_mobilenetv2_x1_4.yaml\n13          MobileNetC10               cifar10_mobilenetv2_x1_4.yaml\n14  Resnet50ImagenetBase                          imagenet1k_v2_base\n15             DeepLabV3                     deeplabv3_resnet50_base",
      "text/html": "<div>\n<style scoped>\n    .dataframe tbody tr th:only-of-type {\n        vertical-align: middle;\n    }\n\n    .dataframe tbody tr th {\n        vertical-align: top;\n    }\n\n    .dataframe thead th {\n        text-align: right;\n    }\n</style>\n<table border=\"1\" class=\"dataframe\">\n  <thead>\n    <tr style=\"text-align: right;\">\n      <th></th>\n      <th>config</th>\n      <th>YAML</th>\n    </tr>\n  </thead>\n  <tbody>\n    <tr>\n      <th>0</th>\n      <td>BaseC100</td>\n      <td>c100_res44_test_01_bn-relu_base.yaml</td>\n    </tr>\n    <tr>\n      <th>1</th>\n      <td>OrderInvC100</td>\n      <td>c100_res44_test_02_relu6-bn.yaml</td>\n    </tr>\n    <tr>\n      <th>2</th>\n      <td>BaseBnRelu6C100</td>\n      <td>c100_res44_test_02_bn-relu6_base.yaml</td>\n    </tr>\n    <tr>\n      <th>3</th>\n      <td>BnRelu6C100</td>\n      <td>c100_res44_test_02_bn-relu6.yaml</td>\n    </tr>\n    <tr>\n      <th>4</th>\n      <td>OrderINanRelu6C100</td>\n      <td>c100_res44_test_02_relu6-bn_nanfilter.yaml</td>\n    </tr>\n    <tr>\n      <th>5</th>\n      <td>GeluNanC100</td>\n      <td>c100_res44_test_02_gelu6_nans.yaml</td>\n    </tr>\n    <tr>\n      <th>6</th>\n      <td>BaseC10</td>\n      <td>c10_res44_test_01_bn-relu_base.yaml</td>\n    </tr>\n    <tr>\n      <th>7</th>\n      <td>BnRelu6C10</td>\n      <td>c10_res44_test_02_bn-relu6.yaml</td>\n    </tr>\n    <tr>\n      <th>8</th>\n      <td>OrderInvC10</td>\n      <td>c10_res44_test_02_relu6-bn.yaml</td>\n    </tr>\n    <tr>\n      <th>9</th>\n      <td>BaseBnRelu6C10</td>\n      <td>c10_res44_test_02_bn-relu6_base.yaml</td>\n    </tr>\n    <tr>\n      <th>10</th>\n      <td>OrderINanRelu6C10</td>\n      <td>c10_res44_test_02_relu6-bn_nanfilter.yaml</td>\n    </tr>\n    <tr>\n      <th>11</th>\n      <td>GeluNanC10</td>\n      <td>c10_res44_test_02_gelu6_nans.yaml</td>\n    </tr>\n    <tr>\n      <th>12</th>\n      <td>MobileNetC100</td>\n      <td>cifar100_mobilenetv2_x1_4.yaml</td>\n    </tr>\n    <tr>\n      <th>13</th>\n      <td>MobileNetC10</td>\n      <td>cifar10_mobilenetv2_x1_4.yaml</td>\n    </tr>\n    <tr>\n      <th>14</th>\n      <td>Resnet50ImagenetBase</td>\n      <td>imagenet1k_v2_base</td>\n    </tr>\n    <tr>\n      <th>15</th>\n      <td>DeepLabV3</td>\n      <td>deeplabv3_resnet50_base</td>\n    </tr>\n  </tbody>\n</table>\n</div>"
     },
     "execution_count": 99,
     "metadata": {},
     "output_type": "execute_result"
    }
   ],
   "source": [
    "configs_df"
   ]
  },
  {
   "cell_type": "code",
   "execution_count": 100,
   "id": "46d5c87d-df10-4fb2-b355-67a24b1d2c4a",
   "metadata": {},
   "outputs": [],
   "source": [
    "df[\"config\"] = df[\"config\"].apply(lambda x: configs_inv[x])"
   ]
  },
  {
   "cell_type": "code",
   "execution_count": 101,
   "id": "61d0d008-d4bd-4efb-a2d3-9c82d84c719b",
   "metadata": {},
   "outputs": [],
   "source": [
    "df[\"count\"] = 1"
   ]
  },
  {
   "cell_type": "code",
   "execution_count": 102,
   "id": "b1de70a3-885e-4336-b001-1c2477c4516a",
   "metadata": {},
   "outputs": [],
   "source": [
    "to_save = df.groupby([\"hostname\", \"config\"]).sum()"
   ]
  },
  {
   "cell_type": "code",
   "execution_count": 103,
   "outputs": [
    {
     "data": {
      "text/plain": "                                      it    ker_time      acc_time  ker_err  \\\nhostname    config                                                            \ncarolp20002 BaseBnRelu6C10       1367561   13.136374   9732.987719    20292   \n            BaseBnRelu6C100      6020650    9.582380   7936.436636    75766   \n            BaseC10               315910    0.867422    418.567306      279   \n            BaseC100             3853800   58.007232  18513.751907   363524   \n            OrderINanRelu6C100   3928298   32.058702  24246.866930   320607   \ncarolp20003 BaseC10             10518719  328.480168  13168.168211   273075   \n            DeepLabV3                533  411.133467   1056.131899     2320   \n            OrderINanRelu6C10     739228    6.600515   8366.615890     4964   \n\n                                 acc_err   sdc  critical_sdc  count  \nhostname    config                                                   \ncarolp20002 BaseBnRelu6C10         86597   337             7    337  \n            BaseBnRelu6C100       833243   298             5    298  \n            BaseC10                 4464    31             0     31  \n            BaseC100            11251915  1839            38   1839  \n            OrderINanRelu6C100   1392214   835            18    835  \ncarolp20003 BaseC10             22226880  8839           218   8839  \n            DeepLabV3               3776   145             0    145  \n            OrderINanRelu6C10      27723   101             7    101  ",
      "text/html": "<div>\n<style scoped>\n    .dataframe tbody tr th:only-of-type {\n        vertical-align: middle;\n    }\n\n    .dataframe tbody tr th {\n        vertical-align: top;\n    }\n\n    .dataframe thead th {\n        text-align: right;\n    }\n</style>\n<table border=\"1\" class=\"dataframe\">\n  <thead>\n    <tr style=\"text-align: right;\">\n      <th></th>\n      <th></th>\n      <th>it</th>\n      <th>ker_time</th>\n      <th>acc_time</th>\n      <th>ker_err</th>\n      <th>acc_err</th>\n      <th>sdc</th>\n      <th>critical_sdc</th>\n      <th>count</th>\n    </tr>\n    <tr>\n      <th>hostname</th>\n      <th>config</th>\n      <th></th>\n      <th></th>\n      <th></th>\n      <th></th>\n      <th></th>\n      <th></th>\n      <th></th>\n      <th></th>\n    </tr>\n  </thead>\n  <tbody>\n    <tr>\n      <th rowspan=\"5\" valign=\"top\">carolp20002</th>\n      <th>BaseBnRelu6C10</th>\n      <td>1367561</td>\n      <td>13.136374</td>\n      <td>9732.987719</td>\n      <td>20292</td>\n      <td>86597</td>\n      <td>337</td>\n      <td>7</td>\n      <td>337</td>\n    </tr>\n    <tr>\n      <th>BaseBnRelu6C100</th>\n      <td>6020650</td>\n      <td>9.582380</td>\n      <td>7936.436636</td>\n      <td>75766</td>\n      <td>833243</td>\n      <td>298</td>\n      <td>5</td>\n      <td>298</td>\n    </tr>\n    <tr>\n      <th>BaseC10</th>\n      <td>315910</td>\n      <td>0.867422</td>\n      <td>418.567306</td>\n      <td>279</td>\n      <td>4464</td>\n      <td>31</td>\n      <td>0</td>\n      <td>31</td>\n    </tr>\n    <tr>\n      <th>BaseC100</th>\n      <td>3853800</td>\n      <td>58.007232</td>\n      <td>18513.751907</td>\n      <td>363524</td>\n      <td>11251915</td>\n      <td>1839</td>\n      <td>38</td>\n      <td>1839</td>\n    </tr>\n    <tr>\n      <th>OrderINanRelu6C100</th>\n      <td>3928298</td>\n      <td>32.058702</td>\n      <td>24246.866930</td>\n      <td>320607</td>\n      <td>1392214</td>\n      <td>835</td>\n      <td>18</td>\n      <td>835</td>\n    </tr>\n    <tr>\n      <th rowspan=\"3\" valign=\"top\">carolp20003</th>\n      <th>BaseC10</th>\n      <td>10518719</td>\n      <td>328.480168</td>\n      <td>13168.168211</td>\n      <td>273075</td>\n      <td>22226880</td>\n      <td>8839</td>\n      <td>218</td>\n      <td>8839</td>\n    </tr>\n    <tr>\n      <th>DeepLabV3</th>\n      <td>533</td>\n      <td>411.133467</td>\n      <td>1056.131899</td>\n      <td>2320</td>\n      <td>3776</td>\n      <td>145</td>\n      <td>0</td>\n      <td>145</td>\n    </tr>\n    <tr>\n      <th>OrderINanRelu6C10</th>\n      <td>739228</td>\n      <td>6.600515</td>\n      <td>8366.615890</td>\n      <td>4964</td>\n      <td>27723</td>\n      <td>101</td>\n      <td>7</td>\n      <td>101</td>\n    </tr>\n  </tbody>\n</table>\n</div>"
     },
     "execution_count": 103,
     "metadata": {},
     "output_type": "execute_result"
    }
   ],
   "source": [
    "to_save"
   ],
   "metadata": {
    "collapsed": false
   }
  },
  {
   "cell_type": "code",
   "execution_count": 103,
   "outputs": [],
   "source": [],
   "metadata": {
    "collapsed": false
   }
  },
  {
   "cell_type": "code",
   "execution_count": 104,
   "outputs": [],
   "source": [
    "sdc_rate = to_save[[\"acc_time\", \"sdc\", \"critical_sdc\"]].copy()\n",
    "sdc_rate[\"sdc_rate\"] = sdc_rate[\"sdc\"] / sdc_rate[\"acc_time\"]\n",
    "sdc_rate[\"critical_sdc_rate\"] = sdc_rate[\"critical_sdc\"] / sdc_rate[\"acc_time\"]"
   ],
   "metadata": {
    "collapsed": false
   }
  },
  {
   "cell_type": "code",
   "execution_count": 105,
   "outputs": [
    {
     "data": {
      "text/plain": "                                    acc_time   sdc  critical_sdc  sdc_rate  \\\nhostname    config                                                           \ncarolp20002 BaseBnRelu6C10       9732.987719   337             7  0.034625   \n            BaseBnRelu6C100      7936.436636   298             5  0.037548   \n            BaseC10               418.567306    31             0  0.074062   \n            BaseC100            18513.751907  1839            38  0.099332   \n            OrderINanRelu6C100  24246.866930   835            18  0.034437   \ncarolp20003 BaseC10             13168.168211  8839           218  0.671240   \n            DeepLabV3            1056.131899   145             0  0.137293   \n            OrderINanRelu6C10    8366.615890   101             7  0.012072   \n\n                                critical_sdc_rate  \nhostname    config                                 \ncarolp20002 BaseBnRelu6C10               0.000719  \n            BaseBnRelu6C100              0.000630  \n            BaseC10                      0.000000  \n            BaseC100                     0.002053  \n            OrderINanRelu6C100           0.000742  \ncarolp20003 BaseC10                      0.016555  \n            DeepLabV3                    0.000000  \n            OrderINanRelu6C10            0.000837  ",
      "text/html": "<div>\n<style scoped>\n    .dataframe tbody tr th:only-of-type {\n        vertical-align: middle;\n    }\n\n    .dataframe tbody tr th {\n        vertical-align: top;\n    }\n\n    .dataframe thead th {\n        text-align: right;\n    }\n</style>\n<table border=\"1\" class=\"dataframe\">\n  <thead>\n    <tr style=\"text-align: right;\">\n      <th></th>\n      <th></th>\n      <th>acc_time</th>\n      <th>sdc</th>\n      <th>critical_sdc</th>\n      <th>sdc_rate</th>\n      <th>critical_sdc_rate</th>\n    </tr>\n    <tr>\n      <th>hostname</th>\n      <th>config</th>\n      <th></th>\n      <th></th>\n      <th></th>\n      <th></th>\n      <th></th>\n    </tr>\n  </thead>\n  <tbody>\n    <tr>\n      <th rowspan=\"5\" valign=\"top\">carolp20002</th>\n      <th>BaseBnRelu6C10</th>\n      <td>9732.987719</td>\n      <td>337</td>\n      <td>7</td>\n      <td>0.034625</td>\n      <td>0.000719</td>\n    </tr>\n    <tr>\n      <th>BaseBnRelu6C100</th>\n      <td>7936.436636</td>\n      <td>298</td>\n      <td>5</td>\n      <td>0.037548</td>\n      <td>0.000630</td>\n    </tr>\n    <tr>\n      <th>BaseC10</th>\n      <td>418.567306</td>\n      <td>31</td>\n      <td>0</td>\n      <td>0.074062</td>\n      <td>0.000000</td>\n    </tr>\n    <tr>\n      <th>BaseC100</th>\n      <td>18513.751907</td>\n      <td>1839</td>\n      <td>38</td>\n      <td>0.099332</td>\n      <td>0.002053</td>\n    </tr>\n    <tr>\n      <th>OrderINanRelu6C100</th>\n      <td>24246.866930</td>\n      <td>835</td>\n      <td>18</td>\n      <td>0.034437</td>\n      <td>0.000742</td>\n    </tr>\n    <tr>\n      <th rowspan=\"3\" valign=\"top\">carolp20003</th>\n      <th>BaseC10</th>\n      <td>13168.168211</td>\n      <td>8839</td>\n      <td>218</td>\n      <td>0.671240</td>\n      <td>0.016555</td>\n    </tr>\n    <tr>\n      <th>DeepLabV3</th>\n      <td>1056.131899</td>\n      <td>145</td>\n      <td>0</td>\n      <td>0.137293</td>\n      <td>0.000000</td>\n    </tr>\n    <tr>\n      <th>OrderINanRelu6C10</th>\n      <td>8366.615890</td>\n      <td>101</td>\n      <td>7</td>\n      <td>0.012072</td>\n      <td>0.000837</td>\n    </tr>\n  </tbody>\n</table>\n</div>"
     },
     "execution_count": 105,
     "metadata": {},
     "output_type": "execute_result"
    }
   ],
   "source": [
    "sdc_rate"
   ],
   "metadata": {
    "collapsed": false
   }
  },
  {
   "cell_type": "code",
   "execution_count": 105,
   "outputs": [],
   "source": [],
   "metadata": {
    "collapsed": false
   }
  }
 ],
 "metadata": {
  "kernelspec": {
   "display_name": "Python 3 (ipykernel)",
   "language": "python",
   "name": "python3"
  },
  "language_info": {
   "codemirror_mode": {
    "name": "ipython",
    "version": 3
   },
   "file_extension": ".py",
   "mimetype": "text/x-python",
   "name": "python",
   "nbconvert_exporter": "python",
   "pygments_lexer": "ipython3",
   "version": "3.8.10"
  }
 },
 "nbformat": 4,
 "nbformat_minor": 5
}
