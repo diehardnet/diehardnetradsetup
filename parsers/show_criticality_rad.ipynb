{
 "cells": [
  {
   "cell_type": "code",
   "execution_count": 237,
   "outputs": [],
   "source": [
    "import pandas as pd"
   ],
   "metadata": {
    "collapsed": false
   }
  },
  {
   "cell_type": "code",
   "execution_count": 238,
   "id": "9b9f9d1c-95f4-407e-ac60-696d80eab5de",
   "metadata": {},
   "outputs": [],
   "source": [
    "df = pd.read_csv(\"../data/parsed_logs.csv\")"
   ]
  },
  {
   "cell_type": "code",
   "execution_count": 239,
   "outputs": [
    {
     "data": {
      "text/plain": "                  start_dt                          config  ecc     hostname  \\\n1204   2022-12-14 05:19:22      c10_res44_test_02_relu6-bn  OFF  carolp20003   \n1205   2022-12-14 05:19:22      c10_res44_test_02_relu6-bn  OFF  carolp20003   \n1206   2022-12-14 05:19:22      c10_res44_test_02_relu6-bn  OFF  carolp20003   \n1207   2022-12-14 05:19:22      c10_res44_test_02_relu6-bn  OFF  carolp20003   \n1208   2022-12-14 05:19:22      c10_res44_test_02_relu6-bn  OFF  carolp20003   \n...                    ...                             ...  ...          ...   \n41224  2022-12-11 18:36:41  c10_res44_test_01_bn-relu_base  OFF  carolp20003   \n41225  2022-12-11 18:36:41  c10_res44_test_01_bn-relu_base  OFF  carolp20003   \n41226  2022-12-11 18:36:41  c10_res44_test_01_bn-relu_base  OFF  carolp20003   \n41227  2022-12-10 19:51:41  c10_res44_test_01_bn-relu_base  OFF  carolp20003   \n41228  2022-12-10 19:51:41  c10_res44_test_01_bn-relu_base  OFF  carolp20003   \n\n                                                 logfile    it  ker_time  \\\n1204   2022_12_14_05_19_22_c10_res44_test_02_relu6-bn...  4502  0.034874   \n1205   2022_12_14_05_19_22_c10_res44_test_02_relu6-bn...     2  0.041432   \n1206   2022_12_14_05_19_22_c10_res44_test_02_relu6-bn...     3  0.038514   \n1207   2022_12_14_05_19_22_c10_res44_test_02_relu6-bn...     5  0.038118   \n1208   2022_12_14_05_19_22_c10_res44_test_02_relu6-bn...     8  0.038179   \n...                                                  ...   ...       ...   \n41224  2022_12_11_18_36_41_c10_res44_test_01_bn-relu_...     7  0.038149   \n41225  2022_12_11_18_36_41_c10_res44_test_01_bn-relu_...     9  0.038110   \n41226  2022_12_11_18_36_41_c10_res44_test_01_bn-relu_...    10  0.038240   \n41227  2022_12_10_19_51_41_c10_res44_test_01_bn-relu_...     1  0.156552   \n41228  2022_12_10_19_51_41_c10_res44_test_01_bn-relu_...     2  0.037626   \n\n       acc_time  ker_err  acc_err  sdc  critical_sdc  \n1204   0.000000        8     3016    1             0  \n1205   0.000000        5        5    1             0  \n1206   0.000000        1        6    1             0  \n1207   0.000000        7       13    1             0  \n1208   0.000000        3       16    1             0  \n...         ...      ...      ...  ...           ...  \n41224  0.000000        5       56    1             0  \n41225  0.000000        7       63    1             0  \n41226  1.043624        7       70    1             0  \n41227  0.000000       10       10    1             0  \n41228  0.194178       10       20    1             0  \n\n[40025 rows x 12 columns]",
      "text/html": "<div>\n<style scoped>\n    .dataframe tbody tr th:only-of-type {\n        vertical-align: middle;\n    }\n\n    .dataframe tbody tr th {\n        vertical-align: top;\n    }\n\n    .dataframe thead th {\n        text-align: right;\n    }\n</style>\n<table border=\"1\" class=\"dataframe\">\n  <thead>\n    <tr style=\"text-align: right;\">\n      <th></th>\n      <th>start_dt</th>\n      <th>config</th>\n      <th>ecc</th>\n      <th>hostname</th>\n      <th>logfile</th>\n      <th>it</th>\n      <th>ker_time</th>\n      <th>acc_time</th>\n      <th>ker_err</th>\n      <th>acc_err</th>\n      <th>sdc</th>\n      <th>critical_sdc</th>\n    </tr>\n  </thead>\n  <tbody>\n    <tr>\n      <th>1204</th>\n      <td>2022-12-14 05:19:22</td>\n      <td>c10_res44_test_02_relu6-bn</td>\n      <td>OFF</td>\n      <td>carolp20003</td>\n      <td>2022_12_14_05_19_22_c10_res44_test_02_relu6-bn...</td>\n      <td>4502</td>\n      <td>0.034874</td>\n      <td>0.000000</td>\n      <td>8</td>\n      <td>3016</td>\n      <td>1</td>\n      <td>0</td>\n    </tr>\n    <tr>\n      <th>1205</th>\n      <td>2022-12-14 05:19:22</td>\n      <td>c10_res44_test_02_relu6-bn</td>\n      <td>OFF</td>\n      <td>carolp20003</td>\n      <td>2022_12_14_05_19_22_c10_res44_test_02_relu6-bn...</td>\n      <td>2</td>\n      <td>0.041432</td>\n      <td>0.000000</td>\n      <td>5</td>\n      <td>5</td>\n      <td>1</td>\n      <td>0</td>\n    </tr>\n    <tr>\n      <th>1206</th>\n      <td>2022-12-14 05:19:22</td>\n      <td>c10_res44_test_02_relu6-bn</td>\n      <td>OFF</td>\n      <td>carolp20003</td>\n      <td>2022_12_14_05_19_22_c10_res44_test_02_relu6-bn...</td>\n      <td>3</td>\n      <td>0.038514</td>\n      <td>0.000000</td>\n      <td>1</td>\n      <td>6</td>\n      <td>1</td>\n      <td>0</td>\n    </tr>\n    <tr>\n      <th>1207</th>\n      <td>2022-12-14 05:19:22</td>\n      <td>c10_res44_test_02_relu6-bn</td>\n      <td>OFF</td>\n      <td>carolp20003</td>\n      <td>2022_12_14_05_19_22_c10_res44_test_02_relu6-bn...</td>\n      <td>5</td>\n      <td>0.038118</td>\n      <td>0.000000</td>\n      <td>7</td>\n      <td>13</td>\n      <td>1</td>\n      <td>0</td>\n    </tr>\n    <tr>\n      <th>1208</th>\n      <td>2022-12-14 05:19:22</td>\n      <td>c10_res44_test_02_relu6-bn</td>\n      <td>OFF</td>\n      <td>carolp20003</td>\n      <td>2022_12_14_05_19_22_c10_res44_test_02_relu6-bn...</td>\n      <td>8</td>\n      <td>0.038179</td>\n      <td>0.000000</td>\n      <td>3</td>\n      <td>16</td>\n      <td>1</td>\n      <td>0</td>\n    </tr>\n    <tr>\n      <th>...</th>\n      <td>...</td>\n      <td>...</td>\n      <td>...</td>\n      <td>...</td>\n      <td>...</td>\n      <td>...</td>\n      <td>...</td>\n      <td>...</td>\n      <td>...</td>\n      <td>...</td>\n      <td>...</td>\n      <td>...</td>\n    </tr>\n    <tr>\n      <th>41224</th>\n      <td>2022-12-11 18:36:41</td>\n      <td>c10_res44_test_01_bn-relu_base</td>\n      <td>OFF</td>\n      <td>carolp20003</td>\n      <td>2022_12_11_18_36_41_c10_res44_test_01_bn-relu_...</td>\n      <td>7</td>\n      <td>0.038149</td>\n      <td>0.000000</td>\n      <td>5</td>\n      <td>56</td>\n      <td>1</td>\n      <td>0</td>\n    </tr>\n    <tr>\n      <th>41225</th>\n      <td>2022-12-11 18:36:41</td>\n      <td>c10_res44_test_01_bn-relu_base</td>\n      <td>OFF</td>\n      <td>carolp20003</td>\n      <td>2022_12_11_18_36_41_c10_res44_test_01_bn-relu_...</td>\n      <td>9</td>\n      <td>0.038110</td>\n      <td>0.000000</td>\n      <td>7</td>\n      <td>63</td>\n      <td>1</td>\n      <td>0</td>\n    </tr>\n    <tr>\n      <th>41226</th>\n      <td>2022-12-11 18:36:41</td>\n      <td>c10_res44_test_01_bn-relu_base</td>\n      <td>OFF</td>\n      <td>carolp20003</td>\n      <td>2022_12_11_18_36_41_c10_res44_test_01_bn-relu_...</td>\n      <td>10</td>\n      <td>0.038240</td>\n      <td>1.043624</td>\n      <td>7</td>\n      <td>70</td>\n      <td>1</td>\n      <td>0</td>\n    </tr>\n    <tr>\n      <th>41227</th>\n      <td>2022-12-10 19:51:41</td>\n      <td>c10_res44_test_01_bn-relu_base</td>\n      <td>OFF</td>\n      <td>carolp20003</td>\n      <td>2022_12_10_19_51_41_c10_res44_test_01_bn-relu_...</td>\n      <td>1</td>\n      <td>0.156552</td>\n      <td>0.000000</td>\n      <td>10</td>\n      <td>10</td>\n      <td>1</td>\n      <td>0</td>\n    </tr>\n    <tr>\n      <th>41228</th>\n      <td>2022-12-10 19:51:41</td>\n      <td>c10_res44_test_01_bn-relu_base</td>\n      <td>OFF</td>\n      <td>carolp20003</td>\n      <td>2022_12_10_19_51_41_c10_res44_test_01_bn-relu_...</td>\n      <td>2</td>\n      <td>0.037626</td>\n      <td>0.194178</td>\n      <td>10</td>\n      <td>20</td>\n      <td>1</td>\n      <td>0</td>\n    </tr>\n  </tbody>\n</table>\n<p>40025 rows × 12 columns</p>\n</div>"
     },
     "execution_count": 239,
     "metadata": {},
     "output_type": "execute_result"
    }
   ],
   "source": [
    "df[df[\"hostname\"] == \"carolp20003\"]"
   ],
   "metadata": {
    "collapsed": false
   }
  },
  {
   "cell_type": "code",
   "execution_count": 240,
   "id": "67491d89-1160-4a1b-b522-8f9d89a2bcaa",
   "metadata": {},
   "outputs": [],
   "source": [
    "configs = dict(\n",
    "    # Baseline C100\n",
    "    BaseC100=\"c100_res44_test_01_bn-relu_base.yaml\",\n",
    "    # \"c100_res44_test_02_bn-relu6.yaml\",\n",
    "    # Order inversion with relu6 C100\n",
    "    OrderInvC100=\"c100_res44_test_02_relu6-bn.yaml\",\n",
    "    # \"c100_res44_test_02_bn-relu6_base.yaml\",\n",
    "    BaseBnRelu6C100=\"c100_res44_test_02_bn-relu6_base.yaml\",\n",
    "    BnRelu6C100=\"c100_res44_test_02_bn-relu6.yaml\",\n",
    "    # Order inversion + nan filter + Relu6\n",
    "    OrderINanRelu6C100=\"c100_res44_test_02_relu6-bn_nanfilter.yaml\",\n",
    "    # Gelu and nan C100\n",
    "    GeluNanC100=\"c100_res44_test_02_gelu6_nans.yaml\",\n",
    "\n",
    "    # Baseline C10\n",
    "    BaseC10=\"c10_res44_test_01_bn-relu_base.yaml\",\n",
    "    # \"c10_res44_test_02_bn-relu6.yaml\",\n",
    "    BnRelu6C10=\"c10_res44_test_02_bn-relu6.yaml\",\n",
    "    # Order inversion with relu6 C10\n",
    "    OrderInvC10=\"c10_res44_test_02_relu6-bn.yaml\",\n",
    "    # \"c10_res44_test_02_bn-relu6_base.yaml\",\n",
    "    BaseBnRelu6C10=\"c10_res44_test_02_bn-relu6_base.yaml\",\n",
    "    OrderINanRelu6C10=\"c10_res44_test_02_relu6-bn_nanfilter.yaml\",\n",
    "    # Gelu and nan C10\n",
    "    GeluNanC10=\"c10_res44_test_02_gelu6_nans.yaml\",\n",
    "\n",
    "    MobileNetC100=\"cifar100_mobilenetv2_x1_4.yaml\",\n",
    "    MobileNetC10=\"cifar10_mobilenetv2_x1_4.yaml\",\n",
    "\n",
    "    Resnet50ImagenetBase=\"resnet50_imagenet1k_v2_base\",\n",
    "    # Resnet50ImagenetBase=\"resnet50_imagenet1k_v2_base\",\n",
    "    DeepLabV3=\"deeplabv3_resnet50_base\",\n",
    "    ViTPatch16_224=\"vit_base_patch16_224\",\n",
    "    ViTPatchSam32_224=\"vit_base_patch32_224_sam\",\n",
    "    ViTPatch32_224=\"vit_base_patch32_384\",\n",
    ")\n",
    "configs_inv = {v.replace(\".yaml\", \"\"): k for k, v in configs.items()}"
   ]
  },
  {
   "cell_type": "code",
   "execution_count": 241,
   "id": "1a98e0d8-9ed6-40f1-9116-d658f168c767",
   "metadata": {},
   "outputs": [],
   "source": [
    "configs_df = pd.DataFrame([configs]).T.reset_index().rename(columns={0: \"YAML\", \"index\": \"config\"})"
   ]
  },
  {
   "cell_type": "code",
   "execution_count": 242,
   "id": "c6929a77-35e1-4d1f-bfbf-1f1d10515d98",
   "metadata": {},
   "outputs": [
    {
     "data": {
      "text/plain": "                  config                                        YAML\n0               BaseC100        c100_res44_test_01_bn-relu_base.yaml\n1           OrderInvC100            c100_res44_test_02_relu6-bn.yaml\n2        BaseBnRelu6C100       c100_res44_test_02_bn-relu6_base.yaml\n3            BnRelu6C100            c100_res44_test_02_bn-relu6.yaml\n4     OrderINanRelu6C100  c100_res44_test_02_relu6-bn_nanfilter.yaml\n5            GeluNanC100          c100_res44_test_02_gelu6_nans.yaml\n6                BaseC10         c10_res44_test_01_bn-relu_base.yaml\n7             BnRelu6C10             c10_res44_test_02_bn-relu6.yaml\n8            OrderInvC10             c10_res44_test_02_relu6-bn.yaml\n9         BaseBnRelu6C10        c10_res44_test_02_bn-relu6_base.yaml\n10     OrderINanRelu6C10   c10_res44_test_02_relu6-bn_nanfilter.yaml\n11            GeluNanC10           c10_res44_test_02_gelu6_nans.yaml\n12         MobileNetC100              cifar100_mobilenetv2_x1_4.yaml\n13          MobileNetC10               cifar10_mobilenetv2_x1_4.yaml\n14  Resnet50ImagenetBase                 resnet50_imagenet1k_v2_base\n15             DeepLabV3                     deeplabv3_resnet50_base\n16        ViTPatch16_224                        vit_base_patch16_224\n17     ViTPatchSam32_224                    vit_base_patch32_224_sam\n18        ViTPatch32_224                        vit_base_patch32_384",
      "text/html": "<div>\n<style scoped>\n    .dataframe tbody tr th:only-of-type {\n        vertical-align: middle;\n    }\n\n    .dataframe tbody tr th {\n        vertical-align: top;\n    }\n\n    .dataframe thead th {\n        text-align: right;\n    }\n</style>\n<table border=\"1\" class=\"dataframe\">\n  <thead>\n    <tr style=\"text-align: right;\">\n      <th></th>\n      <th>config</th>\n      <th>YAML</th>\n    </tr>\n  </thead>\n  <tbody>\n    <tr>\n      <th>0</th>\n      <td>BaseC100</td>\n      <td>c100_res44_test_01_bn-relu_base.yaml</td>\n    </tr>\n    <tr>\n      <th>1</th>\n      <td>OrderInvC100</td>\n      <td>c100_res44_test_02_relu6-bn.yaml</td>\n    </tr>\n    <tr>\n      <th>2</th>\n      <td>BaseBnRelu6C100</td>\n      <td>c100_res44_test_02_bn-relu6_base.yaml</td>\n    </tr>\n    <tr>\n      <th>3</th>\n      <td>BnRelu6C100</td>\n      <td>c100_res44_test_02_bn-relu6.yaml</td>\n    </tr>\n    <tr>\n      <th>4</th>\n      <td>OrderINanRelu6C100</td>\n      <td>c100_res44_test_02_relu6-bn_nanfilter.yaml</td>\n    </tr>\n    <tr>\n      <th>5</th>\n      <td>GeluNanC100</td>\n      <td>c100_res44_test_02_gelu6_nans.yaml</td>\n    </tr>\n    <tr>\n      <th>6</th>\n      <td>BaseC10</td>\n      <td>c10_res44_test_01_bn-relu_base.yaml</td>\n    </tr>\n    <tr>\n      <th>7</th>\n      <td>BnRelu6C10</td>\n      <td>c10_res44_test_02_bn-relu6.yaml</td>\n    </tr>\n    <tr>\n      <th>8</th>\n      <td>OrderInvC10</td>\n      <td>c10_res44_test_02_relu6-bn.yaml</td>\n    </tr>\n    <tr>\n      <th>9</th>\n      <td>BaseBnRelu6C10</td>\n      <td>c10_res44_test_02_bn-relu6_base.yaml</td>\n    </tr>\n    <tr>\n      <th>10</th>\n      <td>OrderINanRelu6C10</td>\n      <td>c10_res44_test_02_relu6-bn_nanfilter.yaml</td>\n    </tr>\n    <tr>\n      <th>11</th>\n      <td>GeluNanC10</td>\n      <td>c10_res44_test_02_gelu6_nans.yaml</td>\n    </tr>\n    <tr>\n      <th>12</th>\n      <td>MobileNetC100</td>\n      <td>cifar100_mobilenetv2_x1_4.yaml</td>\n    </tr>\n    <tr>\n      <th>13</th>\n      <td>MobileNetC10</td>\n      <td>cifar10_mobilenetv2_x1_4.yaml</td>\n    </tr>\n    <tr>\n      <th>14</th>\n      <td>Resnet50ImagenetBase</td>\n      <td>resnet50_imagenet1k_v2_base</td>\n    </tr>\n    <tr>\n      <th>15</th>\n      <td>DeepLabV3</td>\n      <td>deeplabv3_resnet50_base</td>\n    </tr>\n    <tr>\n      <th>16</th>\n      <td>ViTPatch16_224</td>\n      <td>vit_base_patch16_224</td>\n    </tr>\n    <tr>\n      <th>17</th>\n      <td>ViTPatchSam32_224</td>\n      <td>vit_base_patch32_224_sam</td>\n    </tr>\n    <tr>\n      <th>18</th>\n      <td>ViTPatch32_224</td>\n      <td>vit_base_patch32_384</td>\n    </tr>\n  </tbody>\n</table>\n</div>"
     },
     "execution_count": 242,
     "metadata": {},
     "output_type": "execute_result"
    }
   ],
   "source": [
    "configs_df"
   ]
  },
  {
   "cell_type": "code",
   "execution_count": 243,
   "id": "46d5c87d-df10-4fb2-b355-67a24b1d2c4a",
   "metadata": {},
   "outputs": [],
   "source": [
    "df[\"config\"] = df[\"config\"].apply(lambda x: configs_inv[x])"
   ]
  },
  {
   "cell_type": "code",
   "execution_count": 244,
   "id": "61d0d008-d4bd-4efb-a2d3-9c82d84c719b",
   "metadata": {},
   "outputs": [],
   "source": [
    "df[\"count\"] = 1"
   ]
  },
  {
   "cell_type": "code",
   "execution_count": 245,
   "id": "b1de70a3-885e-4336-b001-1c2477c4516a",
   "metadata": {},
   "outputs": [],
   "source": [
    "to_save = df.groupby([\"hostname\", \"config\", \"ecc\"]).sum()"
   ]
  },
  {
   "cell_type": "code",
   "execution_count": 246,
   "outputs": [
    {
     "data": {
      "text/plain": "                                            it     ker_time      acc_time  \\\nhostname    config               ecc                                        \ncarola20001 BaseC100             OFF    429533     8.467331   3466.376501   \n                                 ON      23157     0.142163    315.250233   \ncarolm20004 Resnet50ImagenetBase OFF      6142    60.433988   1854.429548   \n            ViTPatch16_224       OFF      1397  1057.161100   3400.316663   \n            ViTPatch32_224       OFF      1526   771.979889   1400.998486   \n            ViTPatchSam32_224    OFF     12962   220.615607   1895.187901   \ncarolp20002 BaseBnRelu6C10       OFF   1367561    13.136374   9732.987719   \n            BaseBnRelu6C100      OFF  12461324   126.080372  22744.062804   \n            BaseC10              OFF    315910     0.867422    418.567306   \n            BaseC100             OFF   3853800    58.007232  18513.751907   \n            BnRelu6C100          OFF   6727720   158.400545   8020.148988   \n            GeluNanC100          OFF    492795    41.277537   3508.435308   \n            OrderINanRelu6C100   OFF   5215543    74.995140  26719.312400   \n            OrderInvC100         OFF   3024340    92.303616   4247.659699   \ncarolp20003 BaseBnRelu6C10       OFF   1062124    18.912505  13609.829234   \n            BaseC10              OFF  10518719   328.480168  13168.168211   \n            BnRelu6C10           OFF  75519967   246.053634   3830.596582   \n            DeepLabV3            OFF       533   411.133467   1056.131899   \n            GeluNanC10           OFF  43597589   332.959881   4993.979719   \n            OrderINanRelu6C10    OFF    739228     6.600515   8366.615890   \n            OrderInvC10          OFF   7564454   404.898822   1432.586634   \n\n                                      ker_err    acc_err    sdc  critical_sdc  \\\nhostname    config               ecc                                            \ncarola20001 BaseC100             OFF   101193    1565798    433            23   \n                                 ON      4566       4568     10             1   \ncarolm20004 Resnet50ImagenetBase OFF    91682     146782    105            27   \n            ViTPatch16_224       OFF   136474     356576    197            17   \n            ViTPatch32_224       OFF    67626     324832    198             7   \n            ViTPatchSam32_224    OFF    43609     187353    261            12   \ncarolp20002 BaseBnRelu6C10       OFF    20292      86597    337             7   \n            BaseBnRelu6C100      OFF   869341   47139799   1770            14   \n            BaseC10              OFF      279       4464     31             0   \n            BaseC100             OFF   363524   11251915   1839            38   \n            BnRelu6C100          OFF  8339228  648546098   3660            23   \n            GeluNanC100          OFF  1265249    4704752    873             6   \n            OrderINanRelu6C100   OFF   689474    8551829   1785            23   \n            OrderInvC100         OFF   507373   18446340   1357             5   \ncarolp20003 BaseBnRelu6C10       OFF   403260    9709744    476           317   \n            BaseC10              OFF   273075   22226880   8839           218   \n            BnRelu6C10           OFF    56648   48254300   7878             1   \n            DeepLabV3            OFF     2320       3776    145             0   \n            GeluNanC10           OFF    79355   26414410   9627             2   \n            OrderINanRelu6C10    OFF     4964      27723    101             7   \n            OrderInvC10          OFF    46508    7620172  12959             1   \n\n                                      count  \nhostname    config               ecc         \ncarola20001 BaseC100             OFF    433  \n                                 ON      10  \ncarolm20004 Resnet50ImagenetBase OFF    105  \n            ViTPatch16_224       OFF    197  \n            ViTPatch32_224       OFF    198  \n            ViTPatchSam32_224    OFF    261  \ncarolp20002 BaseBnRelu6C10       OFF    337  \n            BaseBnRelu6C100      OFF   1770  \n            BaseC10              OFF     31  \n            BaseC100             OFF   1839  \n            BnRelu6C100          OFF   3660  \n            GeluNanC100          OFF    873  \n            OrderINanRelu6C100   OFF   1785  \n            OrderInvC100         OFF   1357  \ncarolp20003 BaseBnRelu6C10       OFF    476  \n            BaseC10              OFF   8839  \n            BnRelu6C10           OFF   7878  \n            DeepLabV3            OFF    145  \n            GeluNanC10           OFF   9627  \n            OrderINanRelu6C10    OFF    101  \n            OrderInvC10          OFF  12959  ",
      "text/html": "<div>\n<style scoped>\n    .dataframe tbody tr th:only-of-type {\n        vertical-align: middle;\n    }\n\n    .dataframe tbody tr th {\n        vertical-align: top;\n    }\n\n    .dataframe thead th {\n        text-align: right;\n    }\n</style>\n<table border=\"1\" class=\"dataframe\">\n  <thead>\n    <tr style=\"text-align: right;\">\n      <th></th>\n      <th></th>\n      <th></th>\n      <th>it</th>\n      <th>ker_time</th>\n      <th>acc_time</th>\n      <th>ker_err</th>\n      <th>acc_err</th>\n      <th>sdc</th>\n      <th>critical_sdc</th>\n      <th>count</th>\n    </tr>\n    <tr>\n      <th>hostname</th>\n      <th>config</th>\n      <th>ecc</th>\n      <th></th>\n      <th></th>\n      <th></th>\n      <th></th>\n      <th></th>\n      <th></th>\n      <th></th>\n      <th></th>\n    </tr>\n  </thead>\n  <tbody>\n    <tr>\n      <th rowspan=\"2\" valign=\"top\">carola20001</th>\n      <th rowspan=\"2\" valign=\"top\">BaseC100</th>\n      <th>OFF</th>\n      <td>429533</td>\n      <td>8.467331</td>\n      <td>3466.376501</td>\n      <td>101193</td>\n      <td>1565798</td>\n      <td>433</td>\n      <td>23</td>\n      <td>433</td>\n    </tr>\n    <tr>\n      <th>ON</th>\n      <td>23157</td>\n      <td>0.142163</td>\n      <td>315.250233</td>\n      <td>4566</td>\n      <td>4568</td>\n      <td>10</td>\n      <td>1</td>\n      <td>10</td>\n    </tr>\n    <tr>\n      <th rowspan=\"4\" valign=\"top\">carolm20004</th>\n      <th>Resnet50ImagenetBase</th>\n      <th>OFF</th>\n      <td>6142</td>\n      <td>60.433988</td>\n      <td>1854.429548</td>\n      <td>91682</td>\n      <td>146782</td>\n      <td>105</td>\n      <td>27</td>\n      <td>105</td>\n    </tr>\n    <tr>\n      <th>ViTPatch16_224</th>\n      <th>OFF</th>\n      <td>1397</td>\n      <td>1057.161100</td>\n      <td>3400.316663</td>\n      <td>136474</td>\n      <td>356576</td>\n      <td>197</td>\n      <td>17</td>\n      <td>197</td>\n    </tr>\n    <tr>\n      <th>ViTPatch32_224</th>\n      <th>OFF</th>\n      <td>1526</td>\n      <td>771.979889</td>\n      <td>1400.998486</td>\n      <td>67626</td>\n      <td>324832</td>\n      <td>198</td>\n      <td>7</td>\n      <td>198</td>\n    </tr>\n    <tr>\n      <th>ViTPatchSam32_224</th>\n      <th>OFF</th>\n      <td>12962</td>\n      <td>220.615607</td>\n      <td>1895.187901</td>\n      <td>43609</td>\n      <td>187353</td>\n      <td>261</td>\n      <td>12</td>\n      <td>261</td>\n    </tr>\n    <tr>\n      <th rowspan=\"8\" valign=\"top\">carolp20002</th>\n      <th>BaseBnRelu6C10</th>\n      <th>OFF</th>\n      <td>1367561</td>\n      <td>13.136374</td>\n      <td>9732.987719</td>\n      <td>20292</td>\n      <td>86597</td>\n      <td>337</td>\n      <td>7</td>\n      <td>337</td>\n    </tr>\n    <tr>\n      <th>BaseBnRelu6C100</th>\n      <th>OFF</th>\n      <td>12461324</td>\n      <td>126.080372</td>\n      <td>22744.062804</td>\n      <td>869341</td>\n      <td>47139799</td>\n      <td>1770</td>\n      <td>14</td>\n      <td>1770</td>\n    </tr>\n    <tr>\n      <th>BaseC10</th>\n      <th>OFF</th>\n      <td>315910</td>\n      <td>0.867422</td>\n      <td>418.567306</td>\n      <td>279</td>\n      <td>4464</td>\n      <td>31</td>\n      <td>0</td>\n      <td>31</td>\n    </tr>\n    <tr>\n      <th>BaseC100</th>\n      <th>OFF</th>\n      <td>3853800</td>\n      <td>58.007232</td>\n      <td>18513.751907</td>\n      <td>363524</td>\n      <td>11251915</td>\n      <td>1839</td>\n      <td>38</td>\n      <td>1839</td>\n    </tr>\n    <tr>\n      <th>BnRelu6C100</th>\n      <th>OFF</th>\n      <td>6727720</td>\n      <td>158.400545</td>\n      <td>8020.148988</td>\n      <td>8339228</td>\n      <td>648546098</td>\n      <td>3660</td>\n      <td>23</td>\n      <td>3660</td>\n    </tr>\n    <tr>\n      <th>GeluNanC100</th>\n      <th>OFF</th>\n      <td>492795</td>\n      <td>41.277537</td>\n      <td>3508.435308</td>\n      <td>1265249</td>\n      <td>4704752</td>\n      <td>873</td>\n      <td>6</td>\n      <td>873</td>\n    </tr>\n    <tr>\n      <th>OrderINanRelu6C100</th>\n      <th>OFF</th>\n      <td>5215543</td>\n      <td>74.995140</td>\n      <td>26719.312400</td>\n      <td>689474</td>\n      <td>8551829</td>\n      <td>1785</td>\n      <td>23</td>\n      <td>1785</td>\n    </tr>\n    <tr>\n      <th>OrderInvC100</th>\n      <th>OFF</th>\n      <td>3024340</td>\n      <td>92.303616</td>\n      <td>4247.659699</td>\n      <td>507373</td>\n      <td>18446340</td>\n      <td>1357</td>\n      <td>5</td>\n      <td>1357</td>\n    </tr>\n    <tr>\n      <th rowspan=\"7\" valign=\"top\">carolp20003</th>\n      <th>BaseBnRelu6C10</th>\n      <th>OFF</th>\n      <td>1062124</td>\n      <td>18.912505</td>\n      <td>13609.829234</td>\n      <td>403260</td>\n      <td>9709744</td>\n      <td>476</td>\n      <td>317</td>\n      <td>476</td>\n    </tr>\n    <tr>\n      <th>BaseC10</th>\n      <th>OFF</th>\n      <td>10518719</td>\n      <td>328.480168</td>\n      <td>13168.168211</td>\n      <td>273075</td>\n      <td>22226880</td>\n      <td>8839</td>\n      <td>218</td>\n      <td>8839</td>\n    </tr>\n    <tr>\n      <th>BnRelu6C10</th>\n      <th>OFF</th>\n      <td>75519967</td>\n      <td>246.053634</td>\n      <td>3830.596582</td>\n      <td>56648</td>\n      <td>48254300</td>\n      <td>7878</td>\n      <td>1</td>\n      <td>7878</td>\n    </tr>\n    <tr>\n      <th>DeepLabV3</th>\n      <th>OFF</th>\n      <td>533</td>\n      <td>411.133467</td>\n      <td>1056.131899</td>\n      <td>2320</td>\n      <td>3776</td>\n      <td>145</td>\n      <td>0</td>\n      <td>145</td>\n    </tr>\n    <tr>\n      <th>GeluNanC10</th>\n      <th>OFF</th>\n      <td>43597589</td>\n      <td>332.959881</td>\n      <td>4993.979719</td>\n      <td>79355</td>\n      <td>26414410</td>\n      <td>9627</td>\n      <td>2</td>\n      <td>9627</td>\n    </tr>\n    <tr>\n      <th>OrderINanRelu6C10</th>\n      <th>OFF</th>\n      <td>739228</td>\n      <td>6.600515</td>\n      <td>8366.615890</td>\n      <td>4964</td>\n      <td>27723</td>\n      <td>101</td>\n      <td>7</td>\n      <td>101</td>\n    </tr>\n    <tr>\n      <th>OrderInvC10</th>\n      <th>OFF</th>\n      <td>7564454</td>\n      <td>404.898822</td>\n      <td>1432.586634</td>\n      <td>46508</td>\n      <td>7620172</td>\n      <td>12959</td>\n      <td>1</td>\n      <td>12959</td>\n    </tr>\n  </tbody>\n</table>\n</div>"
     },
     "execution_count": 246,
     "metadata": {},
     "output_type": "execute_result"
    }
   ],
   "source": [
    "to_save"
   ],
   "metadata": {
    "collapsed": false
   }
  },
  {
   "cell_type": "code",
   "execution_count": 246,
   "outputs": [],
   "source": [],
   "metadata": {
    "collapsed": false
   }
  },
  {
   "cell_type": "code",
   "execution_count": 247,
   "outputs": [],
   "source": [
    "sdc_rate = to_save[[\"acc_time\", \"sdc\", \"critical_sdc\"]].copy()\n",
    "sdc_rate[\"sdc_rate\"] = sdc_rate[\"sdc\"] / sdc_rate[\"acc_time\"]\n",
    "sdc_rate[\"critical_sdc_rate\"] = sdc_rate[\"critical_sdc\"] / sdc_rate[\"acc_time\"]"
   ],
   "metadata": {
    "collapsed": false
   }
  },
  {
   "cell_type": "code",
   "execution_count": 261,
   "outputs": [
    {
     "data": {
      "text/plain": "                                          acc_time    sdc  critical_sdc  \\\nhostname    config               ecc                                      \ncarola20001 BaseC100             OFF   3466.376501    433            23   \n                                 ON     315.250233     10             1   \ncarolm20004 Resnet50ImagenetBase OFF   1854.429548    105            27   \n            ViTPatch16_224       OFF   3400.316663    197            17   \n            ViTPatch32_224       OFF   1400.998486    198             7   \n            ViTPatchSam32_224    OFF   1895.187901    261            12   \ncarolp20002 BaseBnRelu6C10       OFF   9732.987719    337             7   \n            BaseBnRelu6C100      OFF  22744.062804   1770            14   \n            BaseC10              OFF    418.567306     31             0   \n            BaseC100             OFF  18513.751907   1839            38   \n            BnRelu6C100          OFF   8020.148988   3660            23   \n            GeluNanC100          OFF   3508.435308    873             6   \n            OrderINanRelu6C100   OFF  26719.312400   1785            23   \n            OrderInvC100         OFF   4247.659699   1357             5   \ncarolp20003 BaseBnRelu6C10       OFF  13609.829234    476           317   \n            BaseC10              OFF  13168.168211   8839           218   \n            BnRelu6C10           OFF   3830.596582   7878             1   \n            DeepLabV3            OFF   1056.131899    145             0   \n            GeluNanC10           OFF   4993.979719   9627             2   \n            OrderINanRelu6C10    OFF   8366.615890    101             7   \n            OrderInvC10          OFF   1432.586634  12959             1   \n\n                                      sdc_rate  critical_sdc_rate  \nhostname    config               ecc                               \ncarola20001 BaseC100             OFF  0.124914           0.006635  \n                                 ON   0.031721           0.003172  \ncarolm20004 Resnet50ImagenetBase OFF  0.056621           0.014560  \n            ViTPatch16_224       OFF  0.057936           0.005000  \n            ViTPatch32_224       OFF  0.141328           0.004996  \n            ViTPatchSam32_224    OFF  0.137717           0.006332  \ncarolp20002 BaseBnRelu6C10       OFF  0.034625           0.000719  \n            BaseBnRelu6C100      OFF  0.077823           0.000616  \n            BaseC10              OFF  0.074062           0.000000  \n            BaseC100             OFF  0.099332           0.002053  \n            BnRelu6C100          OFF  0.456351           0.002868  \n            GeluNanC100          OFF  0.248829           0.001710  \n            OrderINanRelu6C100   OFF  0.066806           0.000861  \n            OrderInvC100         OFF  0.319470           0.001177  \ncarolp20003 BaseBnRelu6C10       OFF  0.034975           0.023292  \n            BaseC10              OFF  0.671240           0.016555  \n            BnRelu6C10           OFF  2.056599           0.000261  \n            DeepLabV3            OFF  0.137293           0.000000  \n            GeluNanC10           OFF  1.927721           0.000400  \n            OrderINanRelu6C10    OFF  0.012072           0.000837  \n            OrderInvC10          OFF  9.045875           0.000698  ",
      "text/html": "<div>\n<style scoped>\n    .dataframe tbody tr th:only-of-type {\n        vertical-align: middle;\n    }\n\n    .dataframe tbody tr th {\n        vertical-align: top;\n    }\n\n    .dataframe thead th {\n        text-align: right;\n    }\n</style>\n<table border=\"1\" class=\"dataframe\">\n  <thead>\n    <tr style=\"text-align: right;\">\n      <th></th>\n      <th></th>\n      <th></th>\n      <th>acc_time</th>\n      <th>sdc</th>\n      <th>critical_sdc</th>\n      <th>sdc_rate</th>\n      <th>critical_sdc_rate</th>\n    </tr>\n    <tr>\n      <th>hostname</th>\n      <th>config</th>\n      <th>ecc</th>\n      <th></th>\n      <th></th>\n      <th></th>\n      <th></th>\n      <th></th>\n    </tr>\n  </thead>\n  <tbody>\n    <tr>\n      <th rowspan=\"2\" valign=\"top\">carola20001</th>\n      <th rowspan=\"2\" valign=\"top\">BaseC100</th>\n      <th>OFF</th>\n      <td>3466.376501</td>\n      <td>433</td>\n      <td>23</td>\n      <td>0.124914</td>\n      <td>0.006635</td>\n    </tr>\n    <tr>\n      <th>ON</th>\n      <td>315.250233</td>\n      <td>10</td>\n      <td>1</td>\n      <td>0.031721</td>\n      <td>0.003172</td>\n    </tr>\n    <tr>\n      <th rowspan=\"4\" valign=\"top\">carolm20004</th>\n      <th>Resnet50ImagenetBase</th>\n      <th>OFF</th>\n      <td>1854.429548</td>\n      <td>105</td>\n      <td>27</td>\n      <td>0.056621</td>\n      <td>0.014560</td>\n    </tr>\n    <tr>\n      <th>ViTPatch16_224</th>\n      <th>OFF</th>\n      <td>3400.316663</td>\n      <td>197</td>\n      <td>17</td>\n      <td>0.057936</td>\n      <td>0.005000</td>\n    </tr>\n    <tr>\n      <th>ViTPatch32_224</th>\n      <th>OFF</th>\n      <td>1400.998486</td>\n      <td>198</td>\n      <td>7</td>\n      <td>0.141328</td>\n      <td>0.004996</td>\n    </tr>\n    <tr>\n      <th>ViTPatchSam32_224</th>\n      <th>OFF</th>\n      <td>1895.187901</td>\n      <td>261</td>\n      <td>12</td>\n      <td>0.137717</td>\n      <td>0.006332</td>\n    </tr>\n    <tr>\n      <th rowspan=\"8\" valign=\"top\">carolp20002</th>\n      <th>BaseBnRelu6C10</th>\n      <th>OFF</th>\n      <td>9732.987719</td>\n      <td>337</td>\n      <td>7</td>\n      <td>0.034625</td>\n      <td>0.000719</td>\n    </tr>\n    <tr>\n      <th>BaseBnRelu6C100</th>\n      <th>OFF</th>\n      <td>22744.062804</td>\n      <td>1770</td>\n      <td>14</td>\n      <td>0.077823</td>\n      <td>0.000616</td>\n    </tr>\n    <tr>\n      <th>BaseC10</th>\n      <th>OFF</th>\n      <td>418.567306</td>\n      <td>31</td>\n      <td>0</td>\n      <td>0.074062</td>\n      <td>0.000000</td>\n    </tr>\n    <tr>\n      <th>BaseC100</th>\n      <th>OFF</th>\n      <td>18513.751907</td>\n      <td>1839</td>\n      <td>38</td>\n      <td>0.099332</td>\n      <td>0.002053</td>\n    </tr>\n    <tr>\n      <th>BnRelu6C100</th>\n      <th>OFF</th>\n      <td>8020.148988</td>\n      <td>3660</td>\n      <td>23</td>\n      <td>0.456351</td>\n      <td>0.002868</td>\n    </tr>\n    <tr>\n      <th>GeluNanC100</th>\n      <th>OFF</th>\n      <td>3508.435308</td>\n      <td>873</td>\n      <td>6</td>\n      <td>0.248829</td>\n      <td>0.001710</td>\n    </tr>\n    <tr>\n      <th>OrderINanRelu6C100</th>\n      <th>OFF</th>\n      <td>26719.312400</td>\n      <td>1785</td>\n      <td>23</td>\n      <td>0.066806</td>\n      <td>0.000861</td>\n    </tr>\n    <tr>\n      <th>OrderInvC100</th>\n      <th>OFF</th>\n      <td>4247.659699</td>\n      <td>1357</td>\n      <td>5</td>\n      <td>0.319470</td>\n      <td>0.001177</td>\n    </tr>\n    <tr>\n      <th rowspan=\"7\" valign=\"top\">carolp20003</th>\n      <th>BaseBnRelu6C10</th>\n      <th>OFF</th>\n      <td>13609.829234</td>\n      <td>476</td>\n      <td>317</td>\n      <td>0.034975</td>\n      <td>0.023292</td>\n    </tr>\n    <tr>\n      <th>BaseC10</th>\n      <th>OFF</th>\n      <td>13168.168211</td>\n      <td>8839</td>\n      <td>218</td>\n      <td>0.671240</td>\n      <td>0.016555</td>\n    </tr>\n    <tr>\n      <th>BnRelu6C10</th>\n      <th>OFF</th>\n      <td>3830.596582</td>\n      <td>7878</td>\n      <td>1</td>\n      <td>2.056599</td>\n      <td>0.000261</td>\n    </tr>\n    <tr>\n      <th>DeepLabV3</th>\n      <th>OFF</th>\n      <td>1056.131899</td>\n      <td>145</td>\n      <td>0</td>\n      <td>0.137293</td>\n      <td>0.000000</td>\n    </tr>\n    <tr>\n      <th>GeluNanC10</th>\n      <th>OFF</th>\n      <td>4993.979719</td>\n      <td>9627</td>\n      <td>2</td>\n      <td>1.927721</td>\n      <td>0.000400</td>\n    </tr>\n    <tr>\n      <th>OrderINanRelu6C10</th>\n      <th>OFF</th>\n      <td>8366.615890</td>\n      <td>101</td>\n      <td>7</td>\n      <td>0.012072</td>\n      <td>0.000837</td>\n    </tr>\n    <tr>\n      <th>OrderInvC10</th>\n      <th>OFF</th>\n      <td>1432.586634</td>\n      <td>12959</td>\n      <td>1</td>\n      <td>9.045875</td>\n      <td>0.000698</td>\n    </tr>\n  </tbody>\n</table>\n</div>"
     },
     "execution_count": 261,
     "metadata": {},
     "output_type": "execute_result"
    }
   ],
   "source": [
    "sdc_rate"
   ],
   "metadata": {
    "collapsed": false
   }
  },
  {
   "cell_type": "code",
   "execution_count": 249,
   "outputs": [
    {
     "data": {
      "text/plain": "<AxesSubplot: ylabel='config,ecc'>"
     },
     "execution_count": 249,
     "metadata": {},
     "output_type": "execute_result"
    },
    {
     "data": {
      "text/plain": "<Figure size 432x288 with 1 Axes>",
      "image/png": "[encoded data removed]"
     },
     "metadata": {
      "needs_background": "light"
     },
     "output_type": "display_data"
    }
   ],
   "source": [
    "sdc_rate.loc[\"carolp20002\"][\"critical_sdc_rate\"].plot.barh()"
   ],
   "metadata": {
    "collapsed": false
   }
  },
  {
   "cell_type": "code",
   "execution_count": 249,
   "outputs": [],
   "source": [],
   "metadata": {
    "collapsed": false
   }
  }
 ],
 "metadata": {
  "kernelspec": {
   "display_name": "Python 3 (ipykernel)",
   "language": "python",
   "name": "python3"
  },
  "language_info": {
   "codemirror_mode": {
    "name": "ipython",
    "version": 3
   },
   "file_extension": ".py",
   "mimetype": "text/x-python",
   "name": "python",
   "nbconvert_exporter": "python",
   "pygments_lexer": "ipython3",
   "version": "3.8.10"
  }
 },
 "nbformat": 4,
 "nbformat_minor": 5
}
