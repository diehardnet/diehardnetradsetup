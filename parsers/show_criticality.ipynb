{
 "cells": [
  {
   "cell_type": "code",
   "execution_count": 49,
   "id": "a7e0b53b-dea0-4def-a448-26a29bc3eaca",
   "metadata": {},
   "outputs": [],
   "source": [
    "import pandas as pd\n",
    "import matplotlib.pyplot as plt"
   ]
  },
  {
   "cell_type": "code",
   "execution_count": 50,
   "id": "9b9f9d1c-95f4-407e-ac60-696d80eab5de",
   "metadata": {},
   "outputs": [],
   "source": [
    "df = pd.read_csv(\"parsed_logs_fi.csv\")"
   ]
  },
  {
   "cell_type": "code",
   "execution_count": 51,
   "id": "ad94d243-01d4-4b2f-807f-13f9cffbaeaf",
   "metadata": {},
   "outputs": [
    {
     "data": {
      "text/plain": "array(['c10_res44_test_01_bn-relu_base', 'c10_res44_test_02_bn-relu6',\n       'c10_res44_test_02_bn-relu6_base', 'c10_res44_test_02_relu6-bn',\n       'c10_res44_test_02_relu6-bn_nanfilter',\n       'c10_res44_test_02_gelu6_nans'], dtype=object)"
     },
     "execution_count": 51,
     "metadata": {},
     "output_type": "execute_result"
    }
   ],
   "source": [
    "df[\"config\"].unique()"
   ]
  },
  {
   "cell_type": "code",
   "execution_count": 52,
   "id": "67491d89-1160-4a1b-b522-8f9d89a2bcaa",
   "metadata": {},
   "outputs": [],
   "source": [
    "configs = dict(\n",
    "    # Baseline C100\n",
    "    BaseC100=\"c100_res44_test_01_bn-relu_base.yaml\",\n",
    "    # \"c100_res44_test_02_bn-relu6.yaml\",\n",
    "    # Order inversion with relu6 C100\n",
    "    OrderInvC100=\"c100_res44_test_02_relu6-bn.yaml\",\n",
    "    # \"c100_res44_test_02_bn-relu6_base.yaml\",\n",
    "    BaseBnRelu6C100=\"c100_res44_test_02_bn-relu6_base.yaml\",\n",
    "    BnRelu6C100=\"c100_res44_test_02_bn-relu6.yaml\",\n",
    "    # Order inversion + nan filter + Relu6\n",
    "    OrderINanRelu6C100=\"c100_res44_test_02_relu6-bn_nanfilter.yaml\",\n",
    "    # Gelu and nan C100\n",
    "    GeluNanC100=\"c100_res44_test_02_gelu6_nans.yaml\",\n",
    "\n",
    "    # Baseline C10\n",
    "    BaseC10=\"c10_res44_test_01_bn-relu_base.yaml\",\n",
    "    # \"c10_res44_test_02_bn-relu6.yaml\",\n",
    "    BnRelu6C10=\"c10_res44_test_02_bn-relu6.yaml\",\n",
    "    # Order inversion with relu6 C10\n",
    "    OrderInvC10=\"c10_res44_test_02_relu6-bn.yaml\",\n",
    "    # \"c10_res44_test_02_bn-relu6_base.yaml\",\n",
    "    BaseBnRelu6C10=\"c10_res44_test_02_bn-relu6_base.yaml\",\n",
    "    OrderINanRelu6C10=\"c10_res44_test_02_relu6-bn_nanfilter.yaml\",\n",
    "    # Gelu and nan C10\n",
    "    GeluNanC10=\"c10_res44_test_02_gelu6_nans.yaml\",\n",
    "\n",
    "    MobileNetC100=\"cifar100_mobilenetv2_x1_4.yaml\",\n",
    "    MobileNetC10=\"cifar10_mobilenetv2_x1_4.yaml\"\n",
    ")\n",
    "configs_inv = {v.replace(\".yaml\", \"\"): k for k, v in configs.items()}"
   ]
  },
  {
   "cell_type": "code",
   "execution_count": 53,
   "id": "1a98e0d8-9ed6-40f1-9116-d658f168c767",
   "metadata": {},
   "outputs": [],
   "source": [
    "configs_df = pd.DataFrame([configs]).T.reset_index().rename(columns={0:\"YAML\", \"index\": \"config\"})"
   ]
  },
  {
   "cell_type": "code",
   "execution_count": 54,
   "id": "c6929a77-35e1-4d1f-bfbf-1f1d10515d98",
   "metadata": {},
   "outputs": [
    {
     "data": {
      "text/plain": "                config                                        YAML\n0             BaseC100        c100_res44_test_01_bn-relu_base.yaml\n1         OrderInvC100            c100_res44_test_02_relu6-bn.yaml\n2      BaseBnRelu6C100       c100_res44_test_02_bn-relu6_base.yaml\n3          BnRelu6C100            c100_res44_test_02_bn-relu6.yaml\n4   OrderINanRelu6C100  c100_res44_test_02_relu6-bn_nanfilter.yaml\n5          GeluNanC100          c100_res44_test_02_gelu6_nans.yaml\n6              BaseC10         c10_res44_test_01_bn-relu_base.yaml\n7           BnRelu6C10             c10_res44_test_02_bn-relu6.yaml\n8          OrderInvC10             c10_res44_test_02_relu6-bn.yaml\n9       BaseBnRelu6C10        c10_res44_test_02_bn-relu6_base.yaml\n10   OrderINanRelu6C10   c10_res44_test_02_relu6-bn_nanfilter.yaml\n11          GeluNanC10           c10_res44_test_02_gelu6_nans.yaml\n12       MobileNetC100              cifar100_mobilenetv2_x1_4.yaml\n13        MobileNetC10               cifar10_mobilenetv2_x1_4.yaml",
      "text/html": "<div>\n<style scoped>\n    .dataframe tbody tr th:only-of-type {\n        vertical-align: middle;\n    }\n\n    .dataframe tbody tr th {\n        vertical-align: top;\n    }\n\n    .dataframe thead th {\n        text-align: right;\n    }\n</style>\n<table border=\"1\" class=\"dataframe\">\n  <thead>\n    <tr style=\"text-align: right;\">\n      <th></th>\n      <th>config</th>\n      <th>YAML</th>\n    </tr>\n  </thead>\n  <tbody>\n    <tr>\n      <th>0</th>\n      <td>BaseC100</td>\n      <td>c100_res44_test_01_bn-relu_base.yaml</td>\n    </tr>\n    <tr>\n      <th>1</th>\n      <td>OrderInvC100</td>\n      <td>c100_res44_test_02_relu6-bn.yaml</td>\n    </tr>\n    <tr>\n      <th>2</th>\n      <td>BaseBnRelu6C100</td>\n      <td>c100_res44_test_02_bn-relu6_base.yaml</td>\n    </tr>\n    <tr>\n      <th>3</th>\n      <td>BnRelu6C100</td>\n      <td>c100_res44_test_02_bn-relu6.yaml</td>\n    </tr>\n    <tr>\n      <th>4</th>\n      <td>OrderINanRelu6C100</td>\n      <td>c100_res44_test_02_relu6-bn_nanfilter.yaml</td>\n    </tr>\n    <tr>\n      <th>5</th>\n      <td>GeluNanC100</td>\n      <td>c100_res44_test_02_gelu6_nans.yaml</td>\n    </tr>\n    <tr>\n      <th>6</th>\n      <td>BaseC10</td>\n      <td>c10_res44_test_01_bn-relu_base.yaml</td>\n    </tr>\n    <tr>\n      <th>7</th>\n      <td>BnRelu6C10</td>\n      <td>c10_res44_test_02_bn-relu6.yaml</td>\n    </tr>\n    <tr>\n      <th>8</th>\n      <td>OrderInvC10</td>\n      <td>c10_res44_test_02_relu6-bn.yaml</td>\n    </tr>\n    <tr>\n      <th>9</th>\n      <td>BaseBnRelu6C10</td>\n      <td>c10_res44_test_02_bn-relu6_base.yaml</td>\n    </tr>\n    <tr>\n      <th>10</th>\n      <td>OrderINanRelu6C10</td>\n      <td>c10_res44_test_02_relu6-bn_nanfilter.yaml</td>\n    </tr>\n    <tr>\n      <th>11</th>\n      <td>GeluNanC10</td>\n      <td>c10_res44_test_02_gelu6_nans.yaml</td>\n    </tr>\n    <tr>\n      <th>12</th>\n      <td>MobileNetC100</td>\n      <td>cifar100_mobilenetv2_x1_4.yaml</td>\n    </tr>\n    <tr>\n      <th>13</th>\n      <td>MobileNetC10</td>\n      <td>cifar10_mobilenetv2_x1_4.yaml</td>\n    </tr>\n  </tbody>\n</table>\n</div>"
     },
     "execution_count": 54,
     "metadata": {},
     "output_type": "execute_result"
    }
   ],
   "source": [
    "configs_df"
   ]
  },
  {
   "cell_type": "code",
   "execution_count": 55,
   "id": "46d5c87d-df10-4fb2-b355-67a24b1d2c4a",
   "metadata": {},
   "outputs": [],
   "source": [
    "df[\"config\"] = df[\"config\"].apply(lambda x: configs_inv[x])"
   ]
  },
  {
   "cell_type": "code",
   "execution_count": 56,
   "id": "61d0d008-d4bd-4efb-a2d3-9c82d84c719b",
   "metadata": {},
   "outputs": [],
   "source": [
    "df[\"count\"] = 1"
   ]
  },
  {
   "cell_type": "code",
   "execution_count": 57,
   "outputs": [
    {
     "data": {
      "text/plain": "           config  ecc         hostname         fi_model group  has_end  it  \\\n0         BaseC10  OFF  caroltitaninria  FLIP_SINGLE_BIT  fp32        1   0   \n1         BaseC10  OFF  caroltitaninria  FLIP_SINGLE_BIT  fp32        1   0   \n4         BaseC10  OFF  caroltitaninria  FLIP_SINGLE_BIT  fp32        1   0   \n5         BaseC10  OFF  caroltitaninria  FLIP_SINGLE_BIT  fp32        1   0   \n6         BaseC10  OFF  caroltitaninria  FLIP_SINGLE_BIT  fp32        1   0   \n...           ...  ...              ...              ...   ...      ...  ..   \n11993  GeluNanC10  OFF  caroltitaninria  WARP_ZERO_VALUE  fp32        1   0   \n11995  GeluNanC10  OFF  caroltitaninria  WARP_ZERO_VALUE  fp32        1   0   \n11997  GeluNanC10  OFF  caroltitaninria  WARP_ZERO_VALUE  fp32        1   0   \n11998  GeluNanC10  OFF  caroltitaninria  WARP_ZERO_VALUE  fp32        1   0   \n11999  GeluNanC10  OFF  caroltitaninria  WARP_ZERO_VALUE  fp32        1   0   \n\n       ker_time  acc_time  ker_err  acc_err  sdc  critical_sdc  count  \n0           0.0       0.0        0        0  0.0           0.0      1  \n1           0.0       0.0        0        0  0.0           0.0      1  \n4           0.0       0.0        0        0  0.0           0.0      1  \n5           0.0       0.0        0        0  0.0           0.0      1  \n6           0.0       0.0        0        0  0.0           0.0      1  \n...         ...       ...      ...      ...  ...           ...    ...  \n11993       0.0       0.0        0        0  0.0           0.0      1  \n11995       0.0       0.0        0        0  0.0           0.0      1  \n11997       0.0       0.0        0        0  0.0           0.0      1  \n11998       0.0       0.0        0        0  0.0           0.0      1  \n11999       0.0       0.0        0        0  0.0           0.0      1  \n\n[6343 rows x 14 columns]",
      "text/html": "<div>\n<style scoped>\n    .dataframe tbody tr th:only-of-type {\n        vertical-align: middle;\n    }\n\n    .dataframe tbody tr th {\n        vertical-align: top;\n    }\n\n    .dataframe thead th {\n        text-align: right;\n    }\n</style>\n<table border=\"1\" class=\"dataframe\">\n  <thead>\n    <tr style=\"text-align: right;\">\n      <th></th>\n      <th>config</th>\n      <th>ecc</th>\n      <th>hostname</th>\n      <th>fi_model</th>\n      <th>group</th>\n      <th>has_end</th>\n      <th>it</th>\n      <th>ker_time</th>\n      <th>acc_time</th>\n      <th>ker_err</th>\n      <th>acc_err</th>\n      <th>sdc</th>\n      <th>critical_sdc</th>\n      <th>count</th>\n    </tr>\n  </thead>\n  <tbody>\n    <tr>\n      <th>0</th>\n      <td>BaseC10</td>\n      <td>OFF</td>\n      <td>caroltitaninria</td>\n      <td>FLIP_SINGLE_BIT</td>\n      <td>fp32</td>\n      <td>1</td>\n      <td>0</td>\n      <td>0.0</td>\n      <td>0.0</td>\n      <td>0</td>\n      <td>0</td>\n      <td>0.0</td>\n      <td>0.0</td>\n      <td>1</td>\n    </tr>\n    <tr>\n      <th>1</th>\n      <td>BaseC10</td>\n      <td>OFF</td>\n      <td>caroltitaninria</td>\n      <td>FLIP_SINGLE_BIT</td>\n      <td>fp32</td>\n      <td>1</td>\n      <td>0</td>\n      <td>0.0</td>\n      <td>0.0</td>\n      <td>0</td>\n      <td>0</td>\n      <td>0.0</td>\n      <td>0.0</td>\n      <td>1</td>\n    </tr>\n    <tr>\n      <th>4</th>\n      <td>BaseC10</td>\n      <td>OFF</td>\n      <td>caroltitaninria</td>\n      <td>FLIP_SINGLE_BIT</td>\n      <td>fp32</td>\n      <td>1</td>\n      <td>0</td>\n      <td>0.0</td>\n      <td>0.0</td>\n      <td>0</td>\n      <td>0</td>\n      <td>0.0</td>\n      <td>0.0</td>\n      <td>1</td>\n    </tr>\n    <tr>\n      <th>5</th>\n      <td>BaseC10</td>\n      <td>OFF</td>\n      <td>caroltitaninria</td>\n      <td>FLIP_SINGLE_BIT</td>\n      <td>fp32</td>\n      <td>1</td>\n      <td>0</td>\n      <td>0.0</td>\n      <td>0.0</td>\n      <td>0</td>\n      <td>0</td>\n      <td>0.0</td>\n      <td>0.0</td>\n      <td>1</td>\n    </tr>\n    <tr>\n      <th>6</th>\n      <td>BaseC10</td>\n      <td>OFF</td>\n      <td>caroltitaninria</td>\n      <td>FLIP_SINGLE_BIT</td>\n      <td>fp32</td>\n      <td>1</td>\n      <td>0</td>\n      <td>0.0</td>\n      <td>0.0</td>\n      <td>0</td>\n      <td>0</td>\n      <td>0.0</td>\n      <td>0.0</td>\n      <td>1</td>\n    </tr>\n    <tr>\n      <th>...</th>\n      <td>...</td>\n      <td>...</td>\n      <td>...</td>\n      <td>...</td>\n      <td>...</td>\n      <td>...</td>\n      <td>...</td>\n      <td>...</td>\n      <td>...</td>\n      <td>...</td>\n      <td>...</td>\n      <td>...</td>\n      <td>...</td>\n      <td>...</td>\n    </tr>\n    <tr>\n      <th>11993</th>\n      <td>GeluNanC10</td>\n      <td>OFF</td>\n      <td>caroltitaninria</td>\n      <td>WARP_ZERO_VALUE</td>\n      <td>fp32</td>\n      <td>1</td>\n      <td>0</td>\n      <td>0.0</td>\n      <td>0.0</td>\n      <td>0</td>\n      <td>0</td>\n      <td>0.0</td>\n      <td>0.0</td>\n      <td>1</td>\n    </tr>\n    <tr>\n      <th>11995</th>\n      <td>GeluNanC10</td>\n      <td>OFF</td>\n      <td>caroltitaninria</td>\n      <td>WARP_ZERO_VALUE</td>\n      <td>fp32</td>\n      <td>1</td>\n      <td>0</td>\n      <td>0.0</td>\n      <td>0.0</td>\n      <td>0</td>\n      <td>0</td>\n      <td>0.0</td>\n      <td>0.0</td>\n      <td>1</td>\n    </tr>\n    <tr>\n      <th>11997</th>\n      <td>GeluNanC10</td>\n      <td>OFF</td>\n      <td>caroltitaninria</td>\n      <td>WARP_ZERO_VALUE</td>\n      <td>fp32</td>\n      <td>1</td>\n      <td>0</td>\n      <td>0.0</td>\n      <td>0.0</td>\n      <td>0</td>\n      <td>0</td>\n      <td>0.0</td>\n      <td>0.0</td>\n      <td>1</td>\n    </tr>\n    <tr>\n      <th>11998</th>\n      <td>GeluNanC10</td>\n      <td>OFF</td>\n      <td>caroltitaninria</td>\n      <td>WARP_ZERO_VALUE</td>\n      <td>fp32</td>\n      <td>1</td>\n      <td>0</td>\n      <td>0.0</td>\n      <td>0.0</td>\n      <td>0</td>\n      <td>0</td>\n      <td>0.0</td>\n      <td>0.0</td>\n      <td>1</td>\n    </tr>\n    <tr>\n      <th>11999</th>\n      <td>GeluNanC10</td>\n      <td>OFF</td>\n      <td>caroltitaninria</td>\n      <td>WARP_ZERO_VALUE</td>\n      <td>fp32</td>\n      <td>1</td>\n      <td>0</td>\n      <td>0.0</td>\n      <td>0.0</td>\n      <td>0</td>\n      <td>0</td>\n      <td>0.0</td>\n      <td>0.0</td>\n      <td>1</td>\n    </tr>\n  </tbody>\n</table>\n<p>6343 rows × 14 columns</p>\n</div>"
     },
     "execution_count": 57,
     "metadata": {},
     "output_type": "execute_result"
    }
   ],
   "source": [
    "df[df[\"sdc\"] == 0]"
   ],
   "metadata": {
    "collapsed": false
   }
  },
  {
   "cell_type": "code",
   "execution_count": 58,
   "id": "a25581f5-4d23-4c36-884f-545661bd6bee",
   "metadata": {},
   "outputs": [],
   "source": [
    "grouped_df = df.groupby([\"hostname\", \"config\"]).sum()"
   ]
  },
  {
   "cell_type": "code",
   "execution_count": 59,
   "id": "b6a642a5-93cf-49f6-96a0-ba4cae4ff286",
   "metadata": {},
   "outputs": [
    {
     "data": {
      "text/plain": "                                      sdc  critical_sdc\nhostname        config                                 \ncaroltitaninria BaseBnRelu6C10      958.0          15.0\n                BaseC10             927.0         213.0\n                BnRelu6C10          904.0          11.0\n                GeluNanC10         1131.0          15.0\n                OrderINanRelu6C10   882.0           2.0\n                OrderInvC10         855.0           7.0",
      "text/html": "<div>\n<style scoped>\n    .dataframe tbody tr th:only-of-type {\n        vertical-align: middle;\n    }\n\n    .dataframe tbody tr th {\n        vertical-align: top;\n    }\n\n    .dataframe thead th {\n        text-align: right;\n    }\n</style>\n<table border=\"1\" class=\"dataframe\">\n  <thead>\n    <tr style=\"text-align: right;\">\n      <th></th>\n      <th></th>\n      <th>sdc</th>\n      <th>critical_sdc</th>\n    </tr>\n    <tr>\n      <th>hostname</th>\n      <th>config</th>\n      <th></th>\n      <th></th>\n    </tr>\n  </thead>\n  <tbody>\n    <tr>\n      <th rowspan=\"6\" valign=\"top\">caroltitaninria</th>\n      <th>BaseBnRelu6C10</th>\n      <td>958.0</td>\n      <td>15.0</td>\n    </tr>\n    <tr>\n      <th>BaseC10</th>\n      <td>927.0</td>\n      <td>213.0</td>\n    </tr>\n    <tr>\n      <th>BnRelu6C10</th>\n      <td>904.0</td>\n      <td>11.0</td>\n    </tr>\n    <tr>\n      <th>GeluNanC10</th>\n      <td>1131.0</td>\n      <td>15.0</td>\n    </tr>\n    <tr>\n      <th>OrderINanRelu6C10</th>\n      <td>882.0</td>\n      <td>2.0</td>\n    </tr>\n    <tr>\n      <th>OrderInvC10</th>\n      <td>855.0</td>\n      <td>7.0</td>\n    </tr>\n  </tbody>\n</table>\n</div>"
     },
     "execution_count": 59,
     "metadata": {},
     "output_type": "execute_result"
    }
   ],
   "source": [
    "grouped_df[[\"sdc\", \"critical_sdc\"]]"
   ]
  },
  {
   "cell_type": "code",
   "execution_count": 60,
   "id": "b1de70a3-885e-4336-b001-1c2477c4516a",
   "metadata": {},
   "outputs": [
    {
     "data": {
      "text/plain": "                                                     has_end   it    ker_time  \\\nhostname        config            fi_model                                      \ncaroltitaninria BaseBnRelu6C10    FLIP_SINGLE_BIT        400  183  354.415463   \n                                  RANDOM_VALUE           400  262  502.137819   \n                                  WARP_RANDOM_VALUE      400  367  666.952157   \n                                  WARP_ZERO_VALUE        400  386  653.071643   \n                                  ZERO_VALUE             400  226  481.183188   \n                BaseC10           FLIP_SINGLE_BIT        400  202  408.849157   \n                                  RANDOM_VALUE           400  252  429.089707   \n                                  WARP_RANDOM_VALUE      400  325  653.486801   \n                                  WARP_ZERO_VALUE        400  338  649.398939   \n                                  ZERO_VALUE             400  253  443.084048   \n                BnRelu6C10        FLIP_SINGLE_BIT        400  181  377.048041   \n                                  RANDOM_VALUE           400  240  414.923168   \n                                  WARP_RANDOM_VALUE      400  346  636.079970   \n                                  WARP_ZERO_VALUE        400  377  670.749433   \n                                  ZERO_VALUE             400  226  373.917111   \n                GeluNanC10        FLIP_SINGLE_BIT        400  274  508.178343   \n                                  RANDOM_VALUE           400  362  657.703108   \n                                  WARP_RANDOM_VALUE      400  380  665.373041   \n                                  WARP_ZERO_VALUE        400  362  599.143654   \n                                  ZERO_VALUE             400  334  560.976321   \n                OrderINanRelu6C10 FLIP_SINGLE_BIT        400  152  337.615886   \n                                  RANDOM_VALUE           400  238  502.966534   \n                                  WARP_RANDOM_VALUE      400  380  640.438115   \n                                  WARP_ZERO_VALUE        400  349  625.013248   \n                                  ZERO_VALUE             400  200  373.228641   \n                OrderInvC10       FLIP_SINGLE_BIT        400  154  295.568260   \n                                  RANDOM_VALUE           400  246  454.539728   \n                                  WARP_RANDOM_VALUE      400  354  684.849478   \n                                  WARP_ZERO_VALUE        400  301  572.232478   \n                                  ZERO_VALUE             400  197  436.357054   \n\n                                                        acc_time  ker_err  \\\nhostname        config            fi_model                                  \ncaroltitaninria BaseBnRelu6C10    FLIP_SINGLE_BIT     514.640994     1006   \n                                  RANDOM_VALUE        727.653477     1781   \n                                  WARP_RANDOM_VALUE   996.252061     2452   \n                                  WARP_ZERO_VALUE    1020.190448     2510   \n                                  ZERO_VALUE          666.152881     1569   \n                BaseC10           FLIP_SINGLE_BIT     582.566222     1204   \n                                  RANDOM_VALUE        667.749025     1667   \n                                  WARP_RANDOM_VALUE   924.952548     2334   \n                                  WARP_ZERO_VALUE     948.196635     2280   \n                                  ZERO_VALUE          662.936247     3695   \n                BnRelu6C10        FLIP_SINGLE_BIT     534.848697     1054   \n                                  RANDOM_VALUE        640.361427     1561   \n                                  WARP_RANDOM_VALUE   951.422627     2287   \n                                  WARP_ZERO_VALUE    1019.010615     2492   \n                                  ZERO_VALUE          593.917433     1446   \n                GeluNanC10        FLIP_SINGLE_BIT     777.793715     1526   \n                                  RANDOM_VALUE       1023.052883     2344   \n                                  WARP_RANDOM_VALUE  1048.759672     2531   \n                                  WARP_ZERO_VALUE     982.524367     2330   \n                                  ZERO_VALUE          899.047171     3392   \n                OrderINanRelu6C10 FLIP_SINGLE_BIT     463.576076      918   \n                                  RANDOM_VALUE        711.584888     1636   \n                                  WARP_RANDOM_VALUE  1017.957100     2478   \n                                  WARP_ZERO_VALUE     970.821308     3544   \n                                  ZERO_VALUE          564.368514     1294   \n                OrderInvC10       FLIP_SINGLE_BIT     431.560659      875   \n                                  RANDOM_VALUE        672.222776     1640   \n                                  WARP_RANDOM_VALUE  1003.613214     2343   \n                                  WARP_ZERO_VALUE     825.254190     2069   \n                                  ZERO_VALUE          591.577150     1360   \n\n                                                     acc_err    sdc  \\\nhostname        config            fi_model                            \ncaroltitaninria BaseBnRelu6C10    FLIP_SINGLE_BIT       1006  124.0   \n                                  RANDOM_VALUE          1781  179.0   \n                                  WARP_RANDOM_VALUE     2452  246.0   \n                                  WARP_ZERO_VALUE       2510  251.0   \n                                  ZERO_VALUE            1569  158.0   \n                BaseC10           FLIP_SINGLE_BIT       1204  138.0   \n                                  RANDOM_VALUE          1667  164.0   \n                                  WARP_RANDOM_VALUE     2334  225.0   \n                                  WARP_ZERO_VALUE       2280  228.0   \n                                  ZERO_VALUE            3695  172.0   \n                BnRelu6C10        FLIP_SINGLE_BIT       1054  123.0   \n                                  RANDOM_VALUE          1561  157.0   \n                                  WARP_RANDOM_VALUE     2287  230.0   \n                                  WARP_ZERO_VALUE       2492  249.0   \n                                  ZERO_VALUE            1446  145.0   \n                GeluNanC10        FLIP_SINGLE_BIT       1526  184.0   \n                                  RANDOM_VALUE          2344  240.0   \n                                  WARP_RANDOM_VALUE     2531  252.0   \n                                  WARP_ZERO_VALUE       2330  234.0   \n                                  ZERO_VALUE            3392  221.0   \n                OrderINanRelu6C10 FLIP_SINGLE_BIT        918  108.0   \n                                  RANDOM_VALUE          1636  165.0   \n                                  WARP_RANDOM_VALUE     2478  248.0   \n                                  WARP_ZERO_VALUE       3544  228.0   \n                                  ZERO_VALUE            1294  133.0   \n                OrderInvC10       FLIP_SINGLE_BIT        875  104.0   \n                                  RANDOM_VALUE          1640  166.0   \n                                  WARP_RANDOM_VALUE     2343  237.0   \n                                  WARP_ZERO_VALUE       2069  208.0   \n                                  ZERO_VALUE            1360  140.0   \n\n                                                     critical_sdc  count  \nhostname        config            fi_model                                \ncaroltitaninria BaseBnRelu6C10    FLIP_SINGLE_BIT             1.0    400  \n                                  RANDOM_VALUE                2.0    400  \n                                  WARP_RANDOM_VALUE          12.0    400  \n                                  WARP_ZERO_VALUE             0.0    400  \n                                  ZERO_VALUE                  0.0    400  \n                BaseC10           FLIP_SINGLE_BIT            11.0    400  \n                                  RANDOM_VALUE               48.0    400  \n                                  WARP_RANDOM_VALUE         154.0    400  \n                                  WARP_ZERO_VALUE             0.0    400  \n                                  ZERO_VALUE                  0.0    400  \n                BnRelu6C10        FLIP_SINGLE_BIT             0.0    400  \n                                  RANDOM_VALUE                2.0    400  \n                                  WARP_RANDOM_VALUE           7.0    400  \n                                  WARP_ZERO_VALUE             2.0    400  \n                                  ZERO_VALUE                  0.0    400  \n                GeluNanC10        FLIP_SINGLE_BIT             0.0    400  \n                                  RANDOM_VALUE                2.0    400  \n                                  WARP_RANDOM_VALUE          13.0    400  \n                                  WARP_ZERO_VALUE             0.0    400  \n                                  ZERO_VALUE                  0.0    400  \n                OrderINanRelu6C10 FLIP_SINGLE_BIT             0.0    400  \n                                  RANDOM_VALUE                0.0    400  \n                                  WARP_RANDOM_VALUE           2.0    400  \n                                  WARP_ZERO_VALUE             0.0    400  \n                                  ZERO_VALUE                  0.0    400  \n                OrderInvC10       FLIP_SINGLE_BIT             1.0    400  \n                                  RANDOM_VALUE                0.0    400  \n                                  WARP_RANDOM_VALUE           6.0    400  \n                                  WARP_ZERO_VALUE             0.0    400  \n                                  ZERO_VALUE                  0.0    400  ",
      "text/html": "<div>\n<style scoped>\n    .dataframe tbody tr th:only-of-type {\n        vertical-align: middle;\n    }\n\n    .dataframe tbody tr th {\n        vertical-align: top;\n    }\n\n    .dataframe thead th {\n        text-align: right;\n    }\n</style>\n<table border=\"1\" class=\"dataframe\">\n  <thead>\n    <tr style=\"text-align: right;\">\n      <th></th>\n      <th></th>\n      <th></th>\n      <th>has_end</th>\n      <th>it</th>\n      <th>ker_time</th>\n      <th>acc_time</th>\n      <th>ker_err</th>\n      <th>acc_err</th>\n      <th>sdc</th>\n      <th>critical_sdc</th>\n      <th>count</th>\n    </tr>\n    <tr>\n      <th>hostname</th>\n      <th>config</th>\n      <th>fi_model</th>\n      <th></th>\n      <th></th>\n      <th></th>\n      <th></th>\n      <th></th>\n      <th></th>\n      <th></th>\n      <th></th>\n      <th></th>\n    </tr>\n  </thead>\n  <tbody>\n    <tr>\n      <th rowspan=\"30\" valign=\"top\">caroltitaninria</th>\n      <th rowspan=\"5\" valign=\"top\">BaseBnRelu6C10</th>\n      <th>FLIP_SINGLE_BIT</th>\n      <td>400</td>\n      <td>183</td>\n      <td>354.415463</td>\n      <td>514.640994</td>\n      <td>1006</td>\n      <td>1006</td>\n      <td>124.0</td>\n      <td>1.0</td>\n      <td>400</td>\n    </tr>\n    <tr>\n      <th>RANDOM_VALUE</th>\n      <td>400</td>\n      <td>262</td>\n      <td>502.137819</td>\n      <td>727.653477</td>\n      <td>1781</td>\n      <td>1781</td>\n      <td>179.0</td>\n      <td>2.0</td>\n      <td>400</td>\n    </tr>\n    <tr>\n      <th>WARP_RANDOM_VALUE</th>\n      <td>400</td>\n      <td>367</td>\n      <td>666.952157</td>\n      <td>996.252061</td>\n      <td>2452</td>\n      <td>2452</td>\n      <td>246.0</td>\n      <td>12.0</td>\n      <td>400</td>\n    </tr>\n    <tr>\n      <th>WARP_ZERO_VALUE</th>\n      <td>400</td>\n      <td>386</td>\n      <td>653.071643</td>\n      <td>1020.190448</td>\n      <td>2510</td>\n      <td>2510</td>\n      <td>251.0</td>\n      <td>0.0</td>\n      <td>400</td>\n    </tr>\n    <tr>\n      <th>ZERO_VALUE</th>\n      <td>400</td>\n      <td>226</td>\n      <td>481.183188</td>\n      <td>666.152881</td>\n      <td>1569</td>\n      <td>1569</td>\n      <td>158.0</td>\n      <td>0.0</td>\n      <td>400</td>\n    </tr>\n    <tr>\n      <th rowspan=\"5\" valign=\"top\">BaseC10</th>\n      <th>FLIP_SINGLE_BIT</th>\n      <td>400</td>\n      <td>202</td>\n      <td>408.849157</td>\n      <td>582.566222</td>\n      <td>1204</td>\n      <td>1204</td>\n      <td>138.0</td>\n      <td>11.0</td>\n      <td>400</td>\n    </tr>\n    <tr>\n      <th>RANDOM_VALUE</th>\n      <td>400</td>\n      <td>252</td>\n      <td>429.089707</td>\n      <td>667.749025</td>\n      <td>1667</td>\n      <td>1667</td>\n      <td>164.0</td>\n      <td>48.0</td>\n      <td>400</td>\n    </tr>\n    <tr>\n      <th>WARP_RANDOM_VALUE</th>\n      <td>400</td>\n      <td>325</td>\n      <td>653.486801</td>\n      <td>924.952548</td>\n      <td>2334</td>\n      <td>2334</td>\n      <td>225.0</td>\n      <td>154.0</td>\n      <td>400</td>\n    </tr>\n    <tr>\n      <th>WARP_ZERO_VALUE</th>\n      <td>400</td>\n      <td>338</td>\n      <td>649.398939</td>\n      <td>948.196635</td>\n      <td>2280</td>\n      <td>2280</td>\n      <td>228.0</td>\n      <td>0.0</td>\n      <td>400</td>\n    </tr>\n    <tr>\n      <th>ZERO_VALUE</th>\n      <td>400</td>\n      <td>253</td>\n      <td>443.084048</td>\n      <td>662.936247</td>\n      <td>3695</td>\n      <td>3695</td>\n      <td>172.0</td>\n      <td>0.0</td>\n      <td>400</td>\n    </tr>\n    <tr>\n      <th rowspan=\"5\" valign=\"top\">BnRelu6C10</th>\n      <th>FLIP_SINGLE_BIT</th>\n      <td>400</td>\n      <td>181</td>\n      <td>377.048041</td>\n      <td>534.848697</td>\n      <td>1054</td>\n      <td>1054</td>\n      <td>123.0</td>\n      <td>0.0</td>\n      <td>400</td>\n    </tr>\n    <tr>\n      <th>RANDOM_VALUE</th>\n      <td>400</td>\n      <td>240</td>\n      <td>414.923168</td>\n      <td>640.361427</td>\n      <td>1561</td>\n      <td>1561</td>\n      <td>157.0</td>\n      <td>2.0</td>\n      <td>400</td>\n    </tr>\n    <tr>\n      <th>WARP_RANDOM_VALUE</th>\n      <td>400</td>\n      <td>346</td>\n      <td>636.079970</td>\n      <td>951.422627</td>\n      <td>2287</td>\n      <td>2287</td>\n      <td>230.0</td>\n      <td>7.0</td>\n      <td>400</td>\n    </tr>\n    <tr>\n      <th>WARP_ZERO_VALUE</th>\n      <td>400</td>\n      <td>377</td>\n      <td>670.749433</td>\n      <td>1019.010615</td>\n      <td>2492</td>\n      <td>2492</td>\n      <td>249.0</td>\n      <td>2.0</td>\n      <td>400</td>\n    </tr>\n    <tr>\n      <th>ZERO_VALUE</th>\n      <td>400</td>\n      <td>226</td>\n      <td>373.917111</td>\n      <td>593.917433</td>\n      <td>1446</td>\n      <td>1446</td>\n      <td>145.0</td>\n      <td>0.0</td>\n      <td>400</td>\n    </tr>\n    <tr>\n      <th rowspan=\"5\" valign=\"top\">GeluNanC10</th>\n      <th>FLIP_SINGLE_BIT</th>\n      <td>400</td>\n      <td>274</td>\n      <td>508.178343</td>\n      <td>777.793715</td>\n      <td>1526</td>\n      <td>1526</td>\n      <td>184.0</td>\n      <td>0.0</td>\n      <td>400</td>\n    </tr>\n    <tr>\n      <th>RANDOM_VALUE</th>\n      <td>400</td>\n      <td>362</td>\n      <td>657.703108</td>\n      <td>1023.052883</td>\n      <td>2344</td>\n      <td>2344</td>\n      <td>240.0</td>\n      <td>2.0</td>\n      <td>400</td>\n    </tr>\n    <tr>\n      <th>WARP_RANDOM_VALUE</th>\n      <td>400</td>\n      <td>380</td>\n      <td>665.373041</td>\n      <td>1048.759672</td>\n      <td>2531</td>\n      <td>2531</td>\n      <td>252.0</td>\n      <td>13.0</td>\n      <td>400</td>\n    </tr>\n    <tr>\n      <th>WARP_ZERO_VALUE</th>\n      <td>400</td>\n      <td>362</td>\n      <td>599.143654</td>\n      <td>982.524367</td>\n      <td>2330</td>\n      <td>2330</td>\n      <td>234.0</td>\n      <td>0.0</td>\n      <td>400</td>\n    </tr>\n    <tr>\n      <th>ZERO_VALUE</th>\n      <td>400</td>\n      <td>334</td>\n      <td>560.976321</td>\n      <td>899.047171</td>\n      <td>3392</td>\n      <td>3392</td>\n      <td>221.0</td>\n      <td>0.0</td>\n      <td>400</td>\n    </tr>\n    <tr>\n      <th rowspan=\"5\" valign=\"top\">OrderINanRelu6C10</th>\n      <th>FLIP_SINGLE_BIT</th>\n      <td>400</td>\n      <td>152</td>\n      <td>337.615886</td>\n      <td>463.576076</td>\n      <td>918</td>\n      <td>918</td>\n      <td>108.0</td>\n      <td>0.0</td>\n      <td>400</td>\n    </tr>\n    <tr>\n      <th>RANDOM_VALUE</th>\n      <td>400</td>\n      <td>238</td>\n      <td>502.966534</td>\n      <td>711.584888</td>\n      <td>1636</td>\n      <td>1636</td>\n      <td>165.0</td>\n      <td>0.0</td>\n      <td>400</td>\n    </tr>\n    <tr>\n      <th>WARP_RANDOM_VALUE</th>\n      <td>400</td>\n      <td>380</td>\n      <td>640.438115</td>\n      <td>1017.957100</td>\n      <td>2478</td>\n      <td>2478</td>\n      <td>248.0</td>\n      <td>2.0</td>\n      <td>400</td>\n    </tr>\n    <tr>\n      <th>WARP_ZERO_VALUE</th>\n      <td>400</td>\n      <td>349</td>\n      <td>625.013248</td>\n      <td>970.821308</td>\n      <td>3544</td>\n      <td>3544</td>\n      <td>228.0</td>\n      <td>0.0</td>\n      <td>400</td>\n    </tr>\n    <tr>\n      <th>ZERO_VALUE</th>\n      <td>400</td>\n      <td>200</td>\n      <td>373.228641</td>\n      <td>564.368514</td>\n      <td>1294</td>\n      <td>1294</td>\n      <td>133.0</td>\n      <td>0.0</td>\n      <td>400</td>\n    </tr>\n    <tr>\n      <th rowspan=\"5\" valign=\"top\">OrderInvC10</th>\n      <th>FLIP_SINGLE_BIT</th>\n      <td>400</td>\n      <td>154</td>\n      <td>295.568260</td>\n      <td>431.560659</td>\n      <td>875</td>\n      <td>875</td>\n      <td>104.0</td>\n      <td>1.0</td>\n      <td>400</td>\n    </tr>\n    <tr>\n      <th>RANDOM_VALUE</th>\n      <td>400</td>\n      <td>246</td>\n      <td>454.539728</td>\n      <td>672.222776</td>\n      <td>1640</td>\n      <td>1640</td>\n      <td>166.0</td>\n      <td>0.0</td>\n      <td>400</td>\n    </tr>\n    <tr>\n      <th>WARP_RANDOM_VALUE</th>\n      <td>400</td>\n      <td>354</td>\n      <td>684.849478</td>\n      <td>1003.613214</td>\n      <td>2343</td>\n      <td>2343</td>\n      <td>237.0</td>\n      <td>6.0</td>\n      <td>400</td>\n    </tr>\n    <tr>\n      <th>WARP_ZERO_VALUE</th>\n      <td>400</td>\n      <td>301</td>\n      <td>572.232478</td>\n      <td>825.254190</td>\n      <td>2069</td>\n      <td>2069</td>\n      <td>208.0</td>\n      <td>0.0</td>\n      <td>400</td>\n    </tr>\n    <tr>\n      <th>ZERO_VALUE</th>\n      <td>400</td>\n      <td>197</td>\n      <td>436.357054</td>\n      <td>591.577150</td>\n      <td>1360</td>\n      <td>1360</td>\n      <td>140.0</td>\n      <td>0.0</td>\n      <td>400</td>\n    </tr>\n  </tbody>\n</table>\n</div>"
     },
     "execution_count": 60,
     "metadata": {},
     "output_type": "execute_result"
    }
   ],
   "source": [
    "df.groupby([\"hostname\", \"config\", \"fi_model\"]).sum()"
   ]
  },
  {
   "cell_type": "code",
   "execution_count": 61,
   "id": "10801461-cd27-4b6f-91eb-7653b5203c30",
   "metadata": {},
   "outputs": [],
   "source": [
    "grouped_df[\"sdc_rate\"] = grouped_df[\"sdc\"] / grouped_df[\"acc_time\"]\n",
    "grouped_df[\"critical_sdc_rate\"] = grouped_df[\"critical_sdc\"] / grouped_df[\"acc_time\"]"
   ]
  },
  {
   "cell_type": "code",
   "execution_count": 62,
   "id": "6e1982f3-ab8e-4e99-9810-687f2e6adff6",
   "metadata": {},
   "outputs": [
    {
     "data": {
      "text/plain": "                                   has_end    it     ker_time     acc_time  \\\nhostname        config                                                       \ncaroltitaninria BaseBnRelu6C10        2000  1424  2657.760270  3924.889861   \n                BaseC10               2000  1370  2583.908653  3786.400678   \n                BnRelu6C10            2000  1370  2472.717722  3739.560800   \n                GeluNanC10            2000  1712  2991.374466  4731.177808   \n                OrderINanRelu6C10     2000  1319  2479.262423  3728.307887   \n                OrderInvC10           2000  1252  2443.546998  3524.227989   \n\n                                   ker_err  acc_err     sdc  critical_sdc  \\\nhostname        config                                                      \ncaroltitaninria BaseBnRelu6C10        9318     9318   958.0          15.0   \n                BaseC10              11180    11180   927.0         213.0   \n                BnRelu6C10            8840     8840   904.0          11.0   \n                GeluNanC10           12123    12123  1131.0          15.0   \n                OrderINanRelu6C10     9870     9870   882.0           2.0   \n                OrderInvC10           8287     8287   855.0           7.0   \n\n                                   count  sdc_rate  critical_sdc_rate  \nhostname        config                                                 \ncaroltitaninria BaseBnRelu6C10      2000  0.244083           0.003822  \n                BaseC10             2000  0.244824           0.056254  \n                BnRelu6C10          2000  0.241740           0.002942  \n                GeluNanC10          2000  0.239053           0.003170  \n                OrderINanRelu6C10   2000  0.236568           0.000536  \n                OrderInvC10         2000  0.242606           0.001986  ",
      "text/html": "<div>\n<style scoped>\n    .dataframe tbody tr th:only-of-type {\n        vertical-align: middle;\n    }\n\n    .dataframe tbody tr th {\n        vertical-align: top;\n    }\n\n    .dataframe thead th {\n        text-align: right;\n    }\n</style>\n<table border=\"1\" class=\"dataframe\">\n  <thead>\n    <tr style=\"text-align: right;\">\n      <th></th>\n      <th></th>\n      <th>has_end</th>\n      <th>it</th>\n      <th>ker_time</th>\n      <th>acc_time</th>\n      <th>ker_err</th>\n      <th>acc_err</th>\n      <th>sdc</th>\n      <th>critical_sdc</th>\n      <th>count</th>\n      <th>sdc_rate</th>\n      <th>critical_sdc_rate</th>\n    </tr>\n    <tr>\n      <th>hostname</th>\n      <th>config</th>\n      <th></th>\n      <th></th>\n      <th></th>\n      <th></th>\n      <th></th>\n      <th></th>\n      <th></th>\n      <th></th>\n      <th></th>\n      <th></th>\n      <th></th>\n    </tr>\n  </thead>\n  <tbody>\n    <tr>\n      <th rowspan=\"6\" valign=\"top\">caroltitaninria</th>\n      <th>BaseBnRelu6C10</th>\n      <td>2000</td>\n      <td>1424</td>\n      <td>2657.760270</td>\n      <td>3924.889861</td>\n      <td>9318</td>\n      <td>9318</td>\n      <td>958.0</td>\n      <td>15.0</td>\n      <td>2000</td>\n      <td>0.244083</td>\n      <td>0.003822</td>\n    </tr>\n    <tr>\n      <th>BaseC10</th>\n      <td>2000</td>\n      <td>1370</td>\n      <td>2583.908653</td>\n      <td>3786.400678</td>\n      <td>11180</td>\n      <td>11180</td>\n      <td>927.0</td>\n      <td>213.0</td>\n      <td>2000</td>\n      <td>0.244824</td>\n      <td>0.056254</td>\n    </tr>\n    <tr>\n      <th>BnRelu6C10</th>\n      <td>2000</td>\n      <td>1370</td>\n      <td>2472.717722</td>\n      <td>3739.560800</td>\n      <td>8840</td>\n      <td>8840</td>\n      <td>904.0</td>\n      <td>11.0</td>\n      <td>2000</td>\n      <td>0.241740</td>\n      <td>0.002942</td>\n    </tr>\n    <tr>\n      <th>GeluNanC10</th>\n      <td>2000</td>\n      <td>1712</td>\n      <td>2991.374466</td>\n      <td>4731.177808</td>\n      <td>12123</td>\n      <td>12123</td>\n      <td>1131.0</td>\n      <td>15.0</td>\n      <td>2000</td>\n      <td>0.239053</td>\n      <td>0.003170</td>\n    </tr>\n    <tr>\n      <th>OrderINanRelu6C10</th>\n      <td>2000</td>\n      <td>1319</td>\n      <td>2479.262423</td>\n      <td>3728.307887</td>\n      <td>9870</td>\n      <td>9870</td>\n      <td>882.0</td>\n      <td>2.0</td>\n      <td>2000</td>\n      <td>0.236568</td>\n      <td>0.000536</td>\n    </tr>\n    <tr>\n      <th>OrderInvC10</th>\n      <td>2000</td>\n      <td>1252</td>\n      <td>2443.546998</td>\n      <td>3524.227989</td>\n      <td>8287</td>\n      <td>8287</td>\n      <td>855.0</td>\n      <td>7.0</td>\n      <td>2000</td>\n      <td>0.242606</td>\n      <td>0.001986</td>\n    </tr>\n  </tbody>\n</table>\n</div>"
     },
     "execution_count": 62,
     "metadata": {},
     "output_type": "execute_result"
    }
   ],
   "source": [
    "grouped_df"
   ]
  },
  {
   "cell_type": "code",
   "execution_count": 63,
   "id": "de52569f-7d3d-4a0c-abf0-4775a4f15f29",
   "metadata": {},
   "outputs": [
    {
     "data": {
      "text/plain": "                                      sdc  has_end  critical_sdc     acc_time  \\\nhostname        config                                                          \ncaroltitaninria BaseBnRelu6C10      958.0     2000          15.0  3924.889861   \n                BaseC10             927.0     2000         213.0  3786.400678   \n                BnRelu6C10          904.0     2000          11.0  3739.560800   \n                GeluNanC10         1131.0     2000          15.0  4731.177808   \n                OrderINanRelu6C10   882.0     2000           2.0  3728.307887   \n                OrderInvC10         855.0     2000           7.0  3524.227989   \n\n                                   sdc_rate  critical_sdc_rate  \nhostname        config                                          \ncaroltitaninria BaseBnRelu6C10     0.244083           0.003822  \n                BaseC10            0.244824           0.056254  \n                BnRelu6C10         0.241740           0.002942  \n                GeluNanC10         0.239053           0.003170  \n                OrderINanRelu6C10  0.236568           0.000536  \n                OrderInvC10        0.242606           0.001986  ",
      "text/html": "<div>\n<style scoped>\n    .dataframe tbody tr th:only-of-type {\n        vertical-align: middle;\n    }\n\n    .dataframe tbody tr th {\n        vertical-align: top;\n    }\n\n    .dataframe thead th {\n        text-align: right;\n    }\n</style>\n<table border=\"1\" class=\"dataframe\">\n  <thead>\n    <tr style=\"text-align: right;\">\n      <th></th>\n      <th></th>\n      <th>sdc</th>\n      <th>has_end</th>\n      <th>critical_sdc</th>\n      <th>acc_time</th>\n      <th>sdc_rate</th>\n      <th>critical_sdc_rate</th>\n    </tr>\n    <tr>\n      <th>hostname</th>\n      <th>config</th>\n      <th></th>\n      <th></th>\n      <th></th>\n      <th></th>\n      <th></th>\n      <th></th>\n    </tr>\n  </thead>\n  <tbody>\n    <tr>\n      <th rowspan=\"6\" valign=\"top\">caroltitaninria</th>\n      <th>BaseBnRelu6C10</th>\n      <td>958.0</td>\n      <td>2000</td>\n      <td>15.0</td>\n      <td>3924.889861</td>\n      <td>0.244083</td>\n      <td>0.003822</td>\n    </tr>\n    <tr>\n      <th>BaseC10</th>\n      <td>927.0</td>\n      <td>2000</td>\n      <td>213.0</td>\n      <td>3786.400678</td>\n      <td>0.244824</td>\n      <td>0.056254</td>\n    </tr>\n    <tr>\n      <th>BnRelu6C10</th>\n      <td>904.0</td>\n      <td>2000</td>\n      <td>11.0</td>\n      <td>3739.560800</td>\n      <td>0.241740</td>\n      <td>0.002942</td>\n    </tr>\n    <tr>\n      <th>GeluNanC10</th>\n      <td>1131.0</td>\n      <td>2000</td>\n      <td>15.0</td>\n      <td>4731.177808</td>\n      <td>0.239053</td>\n      <td>0.003170</td>\n    </tr>\n    <tr>\n      <th>OrderINanRelu6C10</th>\n      <td>882.0</td>\n      <td>2000</td>\n      <td>2.0</td>\n      <td>3728.307887</td>\n      <td>0.236568</td>\n      <td>0.000536</td>\n    </tr>\n    <tr>\n      <th>OrderInvC10</th>\n      <td>855.0</td>\n      <td>2000</td>\n      <td>7.0</td>\n      <td>3524.227989</td>\n      <td>0.242606</td>\n      <td>0.001986</td>\n    </tr>\n  </tbody>\n</table>\n</div>"
     },
     "execution_count": 63,
     "metadata": {},
     "output_type": "execute_result"
    }
   ],
   "source": [
    "grouped_df[[\"sdc\", \"has_end\", \"critical_sdc\", \"acc_time\", \"sdc_rate\", \"critical_sdc_rate\"]]"
   ]
  },
  {
   "cell_type": "code",
   "execution_count": 63,
   "id": "3f39950e-dadf-43e6-9d29-9bd165c4b3e7",
   "metadata": {},
   "outputs": [],
   "source": []
  }
 ],
 "metadata": {
  "kernelspec": {
   "display_name": "Python 3 (ipykernel)",
   "language": "python",
   "name": "python3"
  },
  "language_info": {
   "codemirror_mode": {
    "name": "ipython",
    "version": 3
   },
   "file_extension": ".py",
   "mimetype": "text/x-python",
   "name": "python",
   "nbconvert_exporter": "python",
   "pygments_lexer": "ipython3",
   "version": "3.8.10"
  }
 },
 "nbformat": 4,
 "nbformat_minor": 5
}
