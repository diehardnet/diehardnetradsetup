{
 "cells": [
  {
   "cell_type": "code",
   "execution_count": 16,
   "id": "a7e0b53b-dea0-4def-a448-26a29bc3eaca",
   "metadata": {},
   "outputs": [],
   "source": [
    "import pandas as pd\n",
    "import matplotlib.pyplot as plt"
   ]
  },
  {
   "cell_type": "code",
   "execution_count": 17,
   "id": "9b9f9d1c-95f4-407e-ac60-696d80eab5de",
   "metadata": {},
   "outputs": [],
   "source": [
    "df = pd.read_csv(\"parsed_logs_fi.csv\")"
   ]
  },
  {
   "cell_type": "code",
   "execution_count": 18,
   "id": "ad94d243-01d4-4b2f-807f-13f9cffbaeaf",
   "metadata": {},
   "outputs": [
    {
     "data": {
      "text/plain": "array(['c10_res44_test_02_bn-relu6',\n       'c10_res44_test_02_relu6-bn_nanfilter',\n       'c10_res44_test_02_bn-relu6_base', 'c10_res44_test_02_gelu6_nans',\n       'c10_res44_test_02_relu6-bn', 'c10_res44_test_01_bn-relu_base'],\n      dtype=object)"
     },
     "execution_count": 18,
     "metadata": {},
     "output_type": "execute_result"
    }
   ],
   "source": [
    "df[\"config\"].unique()"
   ]
  },
  {
   "cell_type": "code",
   "execution_count": 19,
   "id": "67491d89-1160-4a1b-b522-8f9d89a2bcaa",
   "metadata": {},
   "outputs": [],
   "source": [
    "configs = dict(\n",
    "    # Baseline C100\n",
    "    BaseC100=\"c100_res44_test_01_bn-relu_base.yaml\",\n",
    "    # \"c100_res44_test_02_bn-relu6.yaml\",\n",
    "    # Order inversion with relu6 C100\n",
    "    OrderInvC100=\"c100_res44_test_02_relu6-bn.yaml\",\n",
    "    # \"c100_res44_test_02_bn-relu6_base.yaml\",\n",
    "    BaseBnRelu6C100=\"c100_res44_test_02_bn-relu6_base.yaml\",\n",
    "    BnRelu6C100=\"c100_res44_test_02_bn-relu6.yaml\",\n",
    "    # Order inversion + nan filter + Relu6\n",
    "    OINanRelu6C100=\"c100_res44_test_02_relu6-bn_nanfilter.yaml\",\n",
    "    # Gelu and nan C100\n",
    "    GeluNanC100=\"c100_res44_test_02_gelu6_nans.yaml\",\n",
    "\n",
    "    # Baseline C10\n",
    "    BaseC10=\"c10_res44_test_01_bn-relu_base.yaml\",\n",
    "    # \"c10_res44_test_02_bn-relu6.yaml\",\n",
    "    BnRelu6C10=\"c10_res44_test_02_bn-relu6.yaml\",\n",
    "    # Order inversion with relu6 C10\n",
    "    OrderInvC10=\"c10_res44_test_02_relu6-bn.yaml\",\n",
    "    # \"c10_res44_test_02_bn-relu6_base.yaml\",\n",
    "    BaseBnRelu6C10=\"c10_res44_test_02_bn-relu6_base.yaml\",\n",
    "    OINanRelu6C10=\"c10_res44_test_02_relu6-bn_nanfilter.yaml\",\n",
    "    # Gelu and nan C10\n",
    "    GeluNanC10=\"c10_res44_test_02_gelu6_nans.yaml\",\n",
    "\n",
    "    MobileNetC100=\"cifar100_mobilenetv2_x1_4.yaml\",\n",
    "    MobileNetC10=\"cifar10_mobilenetv2_x1_4.yaml\"\n",
    ")\n",
    "configs_inv = {v.replace(\".yaml\", \"\"): k for k, v in configs.items()}"
   ]
  },
  {
   "cell_type": "code",
   "execution_count": 20,
   "id": "1a98e0d8-9ed6-40f1-9116-d658f168c767",
   "metadata": {},
   "outputs": [],
   "source": [
    "configs_df = pd.DataFrame([configs]).T.reset_index().rename(columns={0:\"YAML\", \"index\": \"config\"})"
   ]
  },
  {
   "cell_type": "code",
   "execution_count": 21,
   "id": "c6929a77-35e1-4d1f-bfbf-1f1d10515d98",
   "metadata": {},
   "outputs": [
    {
     "data": {
      "text/plain": "             config                                        YAML\n0          BaseC100        c100_res44_test_01_bn-relu_base.yaml\n1      OrderInvC100            c100_res44_test_02_relu6-bn.yaml\n2   BaseBnRelu6C100       c100_res44_test_02_bn-relu6_base.yaml\n3       BnRelu6C100            c100_res44_test_02_bn-relu6.yaml\n4    OINanRelu6C100  c100_res44_test_02_relu6-bn_nanfilter.yaml\n5       GeluNanC100          c100_res44_test_02_gelu6_nans.yaml\n6           BaseC10         c10_res44_test_01_bn-relu_base.yaml\n7        BnRelu6C10             c10_res44_test_02_bn-relu6.yaml\n8       OrderInvC10             c10_res44_test_02_relu6-bn.yaml\n9    BaseBnRelu6C10        c10_res44_test_02_bn-relu6_base.yaml\n10    OINanRelu6C10   c10_res44_test_02_relu6-bn_nanfilter.yaml\n11       GeluNanC10           c10_res44_test_02_gelu6_nans.yaml\n12    MobileNetC100              cifar100_mobilenetv2_x1_4.yaml\n13     MobileNetC10               cifar10_mobilenetv2_x1_4.yaml",
      "text/html": "<div>\n<style scoped>\n    .dataframe tbody tr th:only-of-type {\n        vertical-align: middle;\n    }\n\n    .dataframe tbody tr th {\n        vertical-align: top;\n    }\n\n    .dataframe thead th {\n        text-align: right;\n    }\n</style>\n<table border=\"1\" class=\"dataframe\">\n  <thead>\n    <tr style=\"text-align: right;\">\n      <th></th>\n      <th>config</th>\n      <th>YAML</th>\n    </tr>\n  </thead>\n  <tbody>\n    <tr>\n      <th>0</th>\n      <td>BaseC100</td>\n      <td>c100_res44_test_01_bn-relu_base.yaml</td>\n    </tr>\n    <tr>\n      <th>1</th>\n      <td>OrderInvC100</td>\n      <td>c100_res44_test_02_relu6-bn.yaml</td>\n    </tr>\n    <tr>\n      <th>2</th>\n      <td>BaseBnRelu6C100</td>\n      <td>c100_res44_test_02_bn-relu6_base.yaml</td>\n    </tr>\n    <tr>\n      <th>3</th>\n      <td>BnRelu6C100</td>\n      <td>c100_res44_test_02_bn-relu6.yaml</td>\n    </tr>\n    <tr>\n      <th>4</th>\n      <td>OINanRelu6C100</td>\n      <td>c100_res44_test_02_relu6-bn_nanfilter.yaml</td>\n    </tr>\n    <tr>\n      <th>5</th>\n      <td>GeluNanC100</td>\n      <td>c100_res44_test_02_gelu6_nans.yaml</td>\n    </tr>\n    <tr>\n      <th>6</th>\n      <td>BaseC10</td>\n      <td>c10_res44_test_01_bn-relu_base.yaml</td>\n    </tr>\n    <tr>\n      <th>7</th>\n      <td>BnRelu6C10</td>\n      <td>c10_res44_test_02_bn-relu6.yaml</td>\n    </tr>\n    <tr>\n      <th>8</th>\n      <td>OrderInvC10</td>\n      <td>c10_res44_test_02_relu6-bn.yaml</td>\n    </tr>\n    <tr>\n      <th>9</th>\n      <td>BaseBnRelu6C10</td>\n      <td>c10_res44_test_02_bn-relu6_base.yaml</td>\n    </tr>\n    <tr>\n      <th>10</th>\n      <td>OINanRelu6C10</td>\n      <td>c10_res44_test_02_relu6-bn_nanfilter.yaml</td>\n    </tr>\n    <tr>\n      <th>11</th>\n      <td>GeluNanC10</td>\n      <td>c10_res44_test_02_gelu6_nans.yaml</td>\n    </tr>\n    <tr>\n      <th>12</th>\n      <td>MobileNetC100</td>\n      <td>cifar100_mobilenetv2_x1_4.yaml</td>\n    </tr>\n    <tr>\n      <th>13</th>\n      <td>MobileNetC10</td>\n      <td>cifar10_mobilenetv2_x1_4.yaml</td>\n    </tr>\n  </tbody>\n</table>\n</div>"
     },
     "execution_count": 21,
     "metadata": {},
     "output_type": "execute_result"
    }
   ],
   "source": [
    "configs_df"
   ]
  },
  {
   "cell_type": "code",
   "execution_count": 22,
   "id": "46d5c87d-df10-4fb2-b355-67a24b1d2c4a",
   "metadata": {},
   "outputs": [],
   "source": [
    "df[\"config\"] = df[\"config\"].apply(lambda x: configs_inv[x])"
   ]
  },
  {
   "cell_type": "code",
   "execution_count": 23,
   "id": "61d0d008-d4bd-4efb-a2d3-9c82d84c719b",
   "metadata": {},
   "outputs": [],
   "source": [
    "df[\"count\"] = 1"
   ]
  },
  {
   "cell_type": "code",
   "execution_count": 24,
   "id": "a25581f5-4d23-4c36-884f-545661bd6bee",
   "metadata": {},
   "outputs": [],
   "source": [
    "grouped_df = df.groupby([\"hostname\", \"config\"]).sum()"
   ]
  },
  {
   "cell_type": "code",
   "execution_count": 25,
   "id": "b6a642a5-93cf-49f6-96a0-ba4cae4ff286",
   "metadata": {},
   "outputs": [
    {
     "data": {
      "text/plain": "                                it   ker_time    acc_time  ker_err  acc_err  \\\nhostname        config                                                        \ncaroltitaninria BaseBnRelu6C10  38  75.975368  108.599389      256      256   \n                BaseC10         41  64.299559  107.594187      237      237   \n                BnRelu6C10      41  62.459979  103.223314      250      250   \n                GeluNanC10      38  71.632299  107.501250      243      243   \n                OINanRelu6C10   44  56.907990  108.337243      245      245   \n                OrderInvC10     35  79.163110  103.647046      240      240   \n\n                                sdc  critical_sdc  has_end  count  \nhostname        config                                             \ncaroltitaninria BaseBnRelu6C10   26             0       26     26  \n                BaseC10          25             8       25     25  \n                BnRelu6C10       26             0       26     26  \n                GeluNanC10       26             0       26     26  \n                OINanRelu6C10    26             0       26     26  \n                OrderInvC10      26             0       26     26  ",
      "text/html": "<div>\n<style scoped>\n    .dataframe tbody tr th:only-of-type {\n        vertical-align: middle;\n    }\n\n    .dataframe tbody tr th {\n        vertical-align: top;\n    }\n\n    .dataframe thead th {\n        text-align: right;\n    }\n</style>\n<table border=\"1\" class=\"dataframe\">\n  <thead>\n    <tr style=\"text-align: right;\">\n      <th></th>\n      <th></th>\n      <th>it</th>\n      <th>ker_time</th>\n      <th>acc_time</th>\n      <th>ker_err</th>\n      <th>acc_err</th>\n      <th>sdc</th>\n      <th>critical_sdc</th>\n      <th>has_end</th>\n      <th>count</th>\n    </tr>\n    <tr>\n      <th>hostname</th>\n      <th>config</th>\n      <th></th>\n      <th></th>\n      <th></th>\n      <th></th>\n      <th></th>\n      <th></th>\n      <th></th>\n      <th></th>\n      <th></th>\n    </tr>\n  </thead>\n  <tbody>\n    <tr>\n      <th rowspan=\"6\" valign=\"top\">caroltitaninria</th>\n      <th>BaseBnRelu6C10</th>\n      <td>38</td>\n      <td>75.975368</td>\n      <td>108.599389</td>\n      <td>256</td>\n      <td>256</td>\n      <td>26</td>\n      <td>0</td>\n      <td>26</td>\n      <td>26</td>\n    </tr>\n    <tr>\n      <th>BaseC10</th>\n      <td>41</td>\n      <td>64.299559</td>\n      <td>107.594187</td>\n      <td>237</td>\n      <td>237</td>\n      <td>25</td>\n      <td>8</td>\n      <td>25</td>\n      <td>25</td>\n    </tr>\n    <tr>\n      <th>BnRelu6C10</th>\n      <td>41</td>\n      <td>62.459979</td>\n      <td>103.223314</td>\n      <td>250</td>\n      <td>250</td>\n      <td>26</td>\n      <td>0</td>\n      <td>26</td>\n      <td>26</td>\n    </tr>\n    <tr>\n      <th>GeluNanC10</th>\n      <td>38</td>\n      <td>71.632299</td>\n      <td>107.501250</td>\n      <td>243</td>\n      <td>243</td>\n      <td>26</td>\n      <td>0</td>\n      <td>26</td>\n      <td>26</td>\n    </tr>\n    <tr>\n      <th>OINanRelu6C10</th>\n      <td>44</td>\n      <td>56.907990</td>\n      <td>108.337243</td>\n      <td>245</td>\n      <td>245</td>\n      <td>26</td>\n      <td>0</td>\n      <td>26</td>\n      <td>26</td>\n    </tr>\n    <tr>\n      <th>OrderInvC10</th>\n      <td>35</td>\n      <td>79.163110</td>\n      <td>103.647046</td>\n      <td>240</td>\n      <td>240</td>\n      <td>26</td>\n      <td>0</td>\n      <td>26</td>\n      <td>26</td>\n    </tr>\n  </tbody>\n</table>\n</div>"
     },
     "execution_count": 25,
     "metadata": {},
     "output_type": "execute_result"
    }
   ],
   "source": [
    "grouped_df"
   ]
  },
  {
   "cell_type": "code",
   "execution_count": 27,
   "id": "b1de70a3-885e-4336-b001-1c2477c4516a",
   "metadata": {},
   "outputs": [
    {
     "data": {
      "text/plain": "                                sdc  critical_sdc    acc_time\nhostname        config                                       \ncaroltitaninria BaseBnRelu6C10   26             0  108.599389\n                BaseC10          25             8  107.594187\n                BnRelu6C10       26             0  103.223314\n                GeluNanC10       26             0  107.501250\n                OINanRelu6C10    26             0  108.337243\n                OrderInvC10      26             0  103.647046",
      "text/html": "<div>\n<style scoped>\n    .dataframe tbody tr th:only-of-type {\n        vertical-align: middle;\n    }\n\n    .dataframe tbody tr th {\n        vertical-align: top;\n    }\n\n    .dataframe thead th {\n        text-align: right;\n    }\n</style>\n<table border=\"1\" class=\"dataframe\">\n  <thead>\n    <tr style=\"text-align: right;\">\n      <th></th>\n      <th></th>\n      <th>sdc</th>\n      <th>critical_sdc</th>\n      <th>acc_time</th>\n    </tr>\n    <tr>\n      <th>hostname</th>\n      <th>config</th>\n      <th></th>\n      <th></th>\n      <th></th>\n    </tr>\n  </thead>\n  <tbody>\n    <tr>\n      <th rowspan=\"6\" valign=\"top\">caroltitaninria</th>\n      <th>BaseBnRelu6C10</th>\n      <td>26</td>\n      <td>0</td>\n      <td>108.599389</td>\n    </tr>\n    <tr>\n      <th>BaseC10</th>\n      <td>25</td>\n      <td>8</td>\n      <td>107.594187</td>\n    </tr>\n    <tr>\n      <th>BnRelu6C10</th>\n      <td>26</td>\n      <td>0</td>\n      <td>103.223314</td>\n    </tr>\n    <tr>\n      <th>GeluNanC10</th>\n      <td>26</td>\n      <td>0</td>\n      <td>107.501250</td>\n    </tr>\n    <tr>\n      <th>OINanRelu6C10</th>\n      <td>26</td>\n      <td>0</td>\n      <td>108.337243</td>\n    </tr>\n    <tr>\n      <th>OrderInvC10</th>\n      <td>26</td>\n      <td>0</td>\n      <td>103.647046</td>\n    </tr>\n  </tbody>\n</table>\n</div>"
     },
     "execution_count": 27,
     "metadata": {},
     "output_type": "execute_result"
    }
   ],
   "source": [
    "grouped_df[[\"sdc\", \"critical_sdc\", \"acc_time\"]]"
   ]
  },
  {
   "cell_type": "code",
   "execution_count": 28,
   "id": "10801461-cd27-4b6f-91eb-7653b5203c30",
   "metadata": {},
   "outputs": [],
   "source": [
    "grouped_df[\"sdc_rate\"] = grouped_df[\"sdc\"] / grouped_df[\"acc_time\"]\n",
    "grouped_df[\"critical_sdc_rate\"] = grouped_df[\"critical_sdc\"] / grouped_df[\"acc_time\"]"
   ]
  },
  {
   "cell_type": "code",
   "execution_count": 29,
   "id": "6e1982f3-ab8e-4e99-9810-687f2e6adff6",
   "metadata": {},
   "outputs": [
    {
     "data": {
      "text/plain": "                                it   ker_time    acc_time  ker_err  acc_err  \\\nhostname        config                                                        \ncaroltitaninria BaseBnRelu6C10  38  75.975368  108.599389      256      256   \n                BaseC10         41  64.299559  107.594187      237      237   \n                BnRelu6C10      41  62.459979  103.223314      250      250   \n                GeluNanC10      38  71.632299  107.501250      243      243   \n                OINanRelu6C10   44  56.907990  108.337243      245      245   \n                OrderInvC10     35  79.163110  103.647046      240      240   \n\n                                sdc  critical_sdc  has_end  count  sdc_rate  \\\nhostname        config                                                        \ncaroltitaninria BaseBnRelu6C10   26             0       26     26  0.239412   \n                BaseC10          25             8       25     25  0.232355   \n                BnRelu6C10       26             0       26     26  0.251881   \n                GeluNanC10       26             0       26     26  0.241858   \n                OINanRelu6C10    26             0       26     26  0.239991   \n                OrderInvC10      26             0       26     26  0.250851   \n\n                                critical_sdc_rate  \nhostname        config                             \ncaroltitaninria BaseBnRelu6C10           0.000000  \n                BaseC10                  0.074353  \n                BnRelu6C10               0.000000  \n                GeluNanC10               0.000000  \n                OINanRelu6C10            0.000000  \n                OrderInvC10              0.000000  ",
      "text/html": "<div>\n<style scoped>\n    .dataframe tbody tr th:only-of-type {\n        vertical-align: middle;\n    }\n\n    .dataframe tbody tr th {\n        vertical-align: top;\n    }\n\n    .dataframe thead th {\n        text-align: right;\n    }\n</style>\n<table border=\"1\" class=\"dataframe\">\n  <thead>\n    <tr style=\"text-align: right;\">\n      <th></th>\n      <th></th>\n      <th>it</th>\n      <th>ker_time</th>\n      <th>acc_time</th>\n      <th>ker_err</th>\n      <th>acc_err</th>\n      <th>sdc</th>\n      <th>critical_sdc</th>\n      <th>has_end</th>\n      <th>count</th>\n      <th>sdc_rate</th>\n      <th>critical_sdc_rate</th>\n    </tr>\n    <tr>\n      <th>hostname</th>\n      <th>config</th>\n      <th></th>\n      <th></th>\n      <th></th>\n      <th></th>\n      <th></th>\n      <th></th>\n      <th></th>\n      <th></th>\n      <th></th>\n      <th></th>\n      <th></th>\n    </tr>\n  </thead>\n  <tbody>\n    <tr>\n      <th rowspan=\"6\" valign=\"top\">caroltitaninria</th>\n      <th>BaseBnRelu6C10</th>\n      <td>38</td>\n      <td>75.975368</td>\n      <td>108.599389</td>\n      <td>256</td>\n      <td>256</td>\n      <td>26</td>\n      <td>0</td>\n      <td>26</td>\n      <td>26</td>\n      <td>0.239412</td>\n      <td>0.000000</td>\n    </tr>\n    <tr>\n      <th>BaseC10</th>\n      <td>41</td>\n      <td>64.299559</td>\n      <td>107.594187</td>\n      <td>237</td>\n      <td>237</td>\n      <td>25</td>\n      <td>8</td>\n      <td>25</td>\n      <td>25</td>\n      <td>0.232355</td>\n      <td>0.074353</td>\n    </tr>\n    <tr>\n      <th>BnRelu6C10</th>\n      <td>41</td>\n      <td>62.459979</td>\n      <td>103.223314</td>\n      <td>250</td>\n      <td>250</td>\n      <td>26</td>\n      <td>0</td>\n      <td>26</td>\n      <td>26</td>\n      <td>0.251881</td>\n      <td>0.000000</td>\n    </tr>\n    <tr>\n      <th>GeluNanC10</th>\n      <td>38</td>\n      <td>71.632299</td>\n      <td>107.501250</td>\n      <td>243</td>\n      <td>243</td>\n      <td>26</td>\n      <td>0</td>\n      <td>26</td>\n      <td>26</td>\n      <td>0.241858</td>\n      <td>0.000000</td>\n    </tr>\n    <tr>\n      <th>OINanRelu6C10</th>\n      <td>44</td>\n      <td>56.907990</td>\n      <td>108.337243</td>\n      <td>245</td>\n      <td>245</td>\n      <td>26</td>\n      <td>0</td>\n      <td>26</td>\n      <td>26</td>\n      <td>0.239991</td>\n      <td>0.000000</td>\n    </tr>\n    <tr>\n      <th>OrderInvC10</th>\n      <td>35</td>\n      <td>79.163110</td>\n      <td>103.647046</td>\n      <td>240</td>\n      <td>240</td>\n      <td>26</td>\n      <td>0</td>\n      <td>26</td>\n      <td>26</td>\n      <td>0.250851</td>\n      <td>0.000000</td>\n    </tr>\n  </tbody>\n</table>\n</div>"
     },
     "execution_count": 29,
     "metadata": {},
     "output_type": "execute_result"
    }
   ],
   "source": [
    "grouped_df"
   ]
  },
  {
   "cell_type": "code",
   "execution_count": 30,
   "id": "de52569f-7d3d-4a0c-abf0-4775a4f15f29",
   "metadata": {},
   "outputs": [
    {
     "data": {
      "text/plain": "                                sdc  has_end  critical_sdc    acc_time  \\\nhostname        config                                                   \ncaroltitaninria BaseBnRelu6C10   26       26             0  108.599389   \n                BaseC10          25       25             8  107.594187   \n                BnRelu6C10       26       26             0  103.223314   \n                GeluNanC10       26       26             0  107.501250   \n                OINanRelu6C10    26       26             0  108.337243   \n                OrderInvC10      26       26             0  103.647046   \n\n                                sdc_rate  critical_sdc_rate  \nhostname        config                                       \ncaroltitaninria BaseBnRelu6C10  0.239412           0.000000  \n                BaseC10         0.232355           0.074353  \n                BnRelu6C10      0.251881           0.000000  \n                GeluNanC10      0.241858           0.000000  \n                OINanRelu6C10   0.239991           0.000000  \n                OrderInvC10     0.250851           0.000000  ",
      "text/html": "<div>\n<style scoped>\n    .dataframe tbody tr th:only-of-type {\n        vertical-align: middle;\n    }\n\n    .dataframe tbody tr th {\n        vertical-align: top;\n    }\n\n    .dataframe thead th {\n        text-align: right;\n    }\n</style>\n<table border=\"1\" class=\"dataframe\">\n  <thead>\n    <tr style=\"text-align: right;\">\n      <th></th>\n      <th></th>\n      <th>sdc</th>\n      <th>has_end</th>\n      <th>critical_sdc</th>\n      <th>acc_time</th>\n      <th>sdc_rate</th>\n      <th>critical_sdc_rate</th>\n    </tr>\n    <tr>\n      <th>hostname</th>\n      <th>config</th>\n      <th></th>\n      <th></th>\n      <th></th>\n      <th></th>\n      <th></th>\n      <th></th>\n    </tr>\n  </thead>\n  <tbody>\n    <tr>\n      <th rowspan=\"6\" valign=\"top\">caroltitaninria</th>\n      <th>BaseBnRelu6C10</th>\n      <td>26</td>\n      <td>26</td>\n      <td>0</td>\n      <td>108.599389</td>\n      <td>0.239412</td>\n      <td>0.000000</td>\n    </tr>\n    <tr>\n      <th>BaseC10</th>\n      <td>25</td>\n      <td>25</td>\n      <td>8</td>\n      <td>107.594187</td>\n      <td>0.232355</td>\n      <td>0.074353</td>\n    </tr>\n    <tr>\n      <th>BnRelu6C10</th>\n      <td>26</td>\n      <td>26</td>\n      <td>0</td>\n      <td>103.223314</td>\n      <td>0.251881</td>\n      <td>0.000000</td>\n    </tr>\n    <tr>\n      <th>GeluNanC10</th>\n      <td>26</td>\n      <td>26</td>\n      <td>0</td>\n      <td>107.501250</td>\n      <td>0.241858</td>\n      <td>0.000000</td>\n    </tr>\n    <tr>\n      <th>OINanRelu6C10</th>\n      <td>26</td>\n      <td>26</td>\n      <td>0</td>\n      <td>108.337243</td>\n      <td>0.239991</td>\n      <td>0.000000</td>\n    </tr>\n    <tr>\n      <th>OrderInvC10</th>\n      <td>26</td>\n      <td>26</td>\n      <td>0</td>\n      <td>103.647046</td>\n      <td>0.250851</td>\n      <td>0.000000</td>\n    </tr>\n  </tbody>\n</table>\n</div>"
     },
     "execution_count": 30,
     "metadata": {},
     "output_type": "execute_result"
    }
   ],
   "source": [
    "grouped_df[[\"sdc\", \"has_end\", \"critical_sdc\", \"acc_time\", \"sdc_rate\", \"critical_sdc_rate\"]]"
   ]
  },
  {
   "cell_type": "code",
   "execution_count": 30,
   "id": "3f39950e-dadf-43e6-9d29-9bd165c4b3e7",
   "metadata": {},
   "outputs": [],
   "source": []
  }
 ],
 "metadata": {
  "kernelspec": {
   "display_name": "Python 3 (ipykernel)",
   "language": "python",
   "name": "python3"
  },
  "language_info": {
   "codemirror_mode": {
    "name": "ipython",
    "version": 3
   },
   "file_extension": ".py",
   "mimetype": "text/x-python",
   "name": "python",
   "nbconvert_exporter": "python",
   "pygments_lexer": "ipython3",
   "version": "3.8.10"
  }
 },
 "nbformat": 4,
 "nbformat_minor": 5
}
