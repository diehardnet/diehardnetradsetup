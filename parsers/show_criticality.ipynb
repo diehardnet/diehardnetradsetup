{
 "cells": [
  {
   "cell_type": "code",
   "execution_count": 306,
   "id": "a7e0b53b-dea0-4def-a448-26a29bc3eaca",
   "metadata": {},
   "outputs": [],
   "source": [
    "import pandas as pd\n",
    "import matplotlib.pyplot as plt"
   ]
  },
  {
   "cell_type": "code",
   "execution_count": 307,
   "id": "9b9f9d1c-95f4-407e-ac60-696d80eab5de",
   "metadata": {},
   "outputs": [],
   "source": [
    "df = pd.read_csv(\"parsed_logs_fi.csv\")"
   ]
  },
  {
   "cell_type": "code",
   "execution_count": 308,
   "id": "ad94d243-01d4-4b2f-807f-13f9cffbaeaf",
   "metadata": {},
   "outputs": [
    {
     "data": {
      "text/plain": "array(['c10_res44_test_01_bn-relu_base', 'c10_res44_test_02_bn-relu6',\n       'c10_res44_test_02_bn-relu6_base', 'c10_res44_test_02_relu6-bn',\n       'c10_res44_test_02_relu6-bn_nanfilter',\n       'c10_res44_test_02_gelu6_nans'], dtype=object)"
     },
     "execution_count": 308,
     "metadata": {},
     "output_type": "execute_result"
    }
   ],
   "source": [
    "df[\"config\"].unique()"
   ]
  },
  {
   "cell_type": "code",
   "execution_count": 309,
   "id": "67491d89-1160-4a1b-b522-8f9d89a2bcaa",
   "metadata": {},
   "outputs": [],
   "source": [
    "configs = dict(\n",
    "    # Baseline C100\n",
    "    BaseC100=\"c100_res44_test_01_bn-relu_base.yaml\",\n",
    "    # \"c100_res44_test_02_bn-relu6.yaml\",\n",
    "    # Order inversion with relu6 C100\n",
    "    OrderInvC100=\"c100_res44_test_02_relu6-bn.yaml\",\n",
    "    # \"c100_res44_test_02_bn-relu6_base.yaml\",\n",
    "    BaseBnRelu6C100=\"c100_res44_test_02_bn-relu6_base.yaml\",\n",
    "    BnRelu6C100=\"c100_res44_test_02_bn-relu6.yaml\",\n",
    "    # Order inversion + nan filter + Relu6\n",
    "    OrderINanRelu6C100=\"c100_res44_test_02_relu6-bn_nanfilter.yaml\",\n",
    "    # Gelu and nan C100\n",
    "    GeluNanC100=\"c100_res44_test_02_gelu6_nans.yaml\",\n",
    "\n",
    "    # Baseline C10\n",
    "    BaseC10=\"c10_res44_test_01_bn-relu_base.yaml\",\n",
    "    # \"c10_res44_test_02_bn-relu6.yaml\",\n",
    "    BnRelu6C10=\"c10_res44_test_02_bn-relu6.yaml\",\n",
    "    # Order inversion with relu6 C10\n",
    "    OrderInvC10=\"c10_res44_test_02_relu6-bn.yaml\",\n",
    "    # \"c10_res44_test_02_bn-relu6_base.yaml\",\n",
    "    BaseBnRelu6C10=\"c10_res44_test_02_bn-relu6_base.yaml\",\n",
    "    OrderINanRelu6C10=\"c10_res44_test_02_relu6-bn_nanfilter.yaml\",\n",
    "    # Gelu and nan C10\n",
    "    GeluNanC10=\"c10_res44_test_02_gelu6_nans.yaml\",\n",
    "\n",
    "    MobileNetC100=\"cifar100_mobilenetv2_x1_4.yaml\",\n",
    "    MobileNetC10=\"cifar10_mobilenetv2_x1_4.yaml\"\n",
    ")\n",
    "configs_inv = {v.replace(\".yaml\", \"\"): k for k, v in configs.items()}"
   ]
  },
  {
   "cell_type": "code",
   "execution_count": 310,
   "id": "1a98e0d8-9ed6-40f1-9116-d658f168c767",
   "metadata": {},
   "outputs": [],
   "source": [
    "configs_df = pd.DataFrame([configs]).T.reset_index().rename(columns={0:\"YAML\", \"index\": \"config\"})"
   ]
  },
  {
   "cell_type": "code",
   "execution_count": 311,
   "id": "c6929a77-35e1-4d1f-bfbf-1f1d10515d98",
   "metadata": {},
   "outputs": [
    {
     "data": {
      "text/plain": "                config                                        YAML\n0             BaseC100        c100_res44_test_01_bn-relu_base.yaml\n1         OrderInvC100            c100_res44_test_02_relu6-bn.yaml\n2      BaseBnRelu6C100       c100_res44_test_02_bn-relu6_base.yaml\n3          BnRelu6C100            c100_res44_test_02_bn-relu6.yaml\n4   OrderINanRelu6C100  c100_res44_test_02_relu6-bn_nanfilter.yaml\n5          GeluNanC100          c100_res44_test_02_gelu6_nans.yaml\n6              BaseC10         c10_res44_test_01_bn-relu_base.yaml\n7           BnRelu6C10             c10_res44_test_02_bn-relu6.yaml\n8          OrderInvC10             c10_res44_test_02_relu6-bn.yaml\n9       BaseBnRelu6C10        c10_res44_test_02_bn-relu6_base.yaml\n10   OrderINanRelu6C10   c10_res44_test_02_relu6-bn_nanfilter.yaml\n11          GeluNanC10           c10_res44_test_02_gelu6_nans.yaml\n12       MobileNetC100              cifar100_mobilenetv2_x1_4.yaml\n13        MobileNetC10               cifar10_mobilenetv2_x1_4.yaml",
      "text/html": "<div>\n<style scoped>\n    .dataframe tbody tr th:only-of-type {\n        vertical-align: middle;\n    }\n\n    .dataframe tbody tr th {\n        vertical-align: top;\n    }\n\n    .dataframe thead th {\n        text-align: right;\n    }\n</style>\n<table border=\"1\" class=\"dataframe\">\n  <thead>\n    <tr style=\"text-align: right;\">\n      <th></th>\n      <th>config</th>\n      <th>YAML</th>\n    </tr>\n  </thead>\n  <tbody>\n    <tr>\n      <th>0</th>\n      <td>BaseC100</td>\n      <td>c100_res44_test_01_bn-relu_base.yaml</td>\n    </tr>\n    <tr>\n      <th>1</th>\n      <td>OrderInvC100</td>\n      <td>c100_res44_test_02_relu6-bn.yaml</td>\n    </tr>\n    <tr>\n      <th>2</th>\n      <td>BaseBnRelu6C100</td>\n      <td>c100_res44_test_02_bn-relu6_base.yaml</td>\n    </tr>\n    <tr>\n      <th>3</th>\n      <td>BnRelu6C100</td>\n      <td>c100_res44_test_02_bn-relu6.yaml</td>\n    </tr>\n    <tr>\n      <th>4</th>\n      <td>OrderINanRelu6C100</td>\n      <td>c100_res44_test_02_relu6-bn_nanfilter.yaml</td>\n    </tr>\n    <tr>\n      <th>5</th>\n      <td>GeluNanC100</td>\n      <td>c100_res44_test_02_gelu6_nans.yaml</td>\n    </tr>\n    <tr>\n      <th>6</th>\n      <td>BaseC10</td>\n      <td>c10_res44_test_01_bn-relu_base.yaml</td>\n    </tr>\n    <tr>\n      <th>7</th>\n      <td>BnRelu6C10</td>\n      <td>c10_res44_test_02_bn-relu6.yaml</td>\n    </tr>\n    <tr>\n      <th>8</th>\n      <td>OrderInvC10</td>\n      <td>c10_res44_test_02_relu6-bn.yaml</td>\n    </tr>\n    <tr>\n      <th>9</th>\n      <td>BaseBnRelu6C10</td>\n      <td>c10_res44_test_02_bn-relu6_base.yaml</td>\n    </tr>\n    <tr>\n      <th>10</th>\n      <td>OrderINanRelu6C10</td>\n      <td>c10_res44_test_02_relu6-bn_nanfilter.yaml</td>\n    </tr>\n    <tr>\n      <th>11</th>\n      <td>GeluNanC10</td>\n      <td>c10_res44_test_02_gelu6_nans.yaml</td>\n    </tr>\n    <tr>\n      <th>12</th>\n      <td>MobileNetC100</td>\n      <td>cifar100_mobilenetv2_x1_4.yaml</td>\n    </tr>\n    <tr>\n      <th>13</th>\n      <td>MobileNetC10</td>\n      <td>cifar10_mobilenetv2_x1_4.yaml</td>\n    </tr>\n  </tbody>\n</table>\n</div>"
     },
     "execution_count": 311,
     "metadata": {},
     "output_type": "execute_result"
    }
   ],
   "source": [
    "configs_df"
   ]
  },
  {
   "cell_type": "code",
   "execution_count": 312,
   "id": "46d5c87d-df10-4fb2-b355-67a24b1d2c4a",
   "metadata": {},
   "outputs": [],
   "source": [
    "df[\"config\"] = df[\"config\"].apply(lambda x: configs_inv[x])"
   ]
  },
  {
   "cell_type": "code",
   "execution_count": 313,
   "id": "61d0d008-d4bd-4efb-a2d3-9c82d84c719b",
   "metadata": {},
   "outputs": [],
   "source": [
    "df[\"count\"] = 1"
   ]
  },
  {
   "cell_type": "code",
   "execution_count": 314,
   "outputs": [
    {
     "data": {
      "text/plain": "           config  ecc         hostname         fi_model group  has_end  it  \\\n0         BaseC10  OFF  caroltitaninria  FLIP_SINGLE_BIT  fp32        1   0   \n1         BaseC10  OFF  caroltitaninria  FLIP_SINGLE_BIT  fp32        1   0   \n4         BaseC10  OFF  caroltitaninria  FLIP_SINGLE_BIT  fp32        1   0   \n5         BaseC10  OFF  caroltitaninria  FLIP_SINGLE_BIT  fp32        1   0   \n6         BaseC10  OFF  caroltitaninria  FLIP_SINGLE_BIT  fp32        1   0   \n...           ...  ...              ...              ...   ...      ...  ..   \n11993  GeluNanC10  OFF  caroltitaninria  WARP_ZERO_VALUE  fp32        1   0   \n11995  GeluNanC10  OFF  caroltitaninria  WARP_ZERO_VALUE  fp32        1   0   \n11997  GeluNanC10  OFF  caroltitaninria  WARP_ZERO_VALUE  fp32        1   0   \n11998  GeluNanC10  OFF  caroltitaninria  WARP_ZERO_VALUE  fp32        1   0   \n11999  GeluNanC10  OFF  caroltitaninria  WARP_ZERO_VALUE  fp32        1   0   \n\n       ker_time  acc_time  ker_err  acc_err  sdc  critical_sdc  count  \n0           0.0       0.0        0        0  0.0           0.0      1  \n1           0.0       0.0        0        0  0.0           0.0      1  \n4           0.0       0.0        0        0  0.0           0.0      1  \n5           0.0       0.0        0        0  0.0           0.0      1  \n6           0.0       0.0        0        0  0.0           0.0      1  \n...         ...       ...      ...      ...  ...           ...    ...  \n11993       0.0       0.0        0        0  0.0           0.0      1  \n11995       0.0       0.0        0        0  0.0           0.0      1  \n11997       0.0       0.0        0        0  0.0           0.0      1  \n11998       0.0       0.0        0        0  0.0           0.0      1  \n11999       0.0       0.0        0        0  0.0           0.0      1  \n\n[6343 rows x 14 columns]",
      "text/html": "<div>\n<style scoped>\n    .dataframe tbody tr th:only-of-type {\n        vertical-align: middle;\n    }\n\n    .dataframe tbody tr th {\n        vertical-align: top;\n    }\n\n    .dataframe thead th {\n        text-align: right;\n    }\n</style>\n<table border=\"1\" class=\"dataframe\">\n  <thead>\n    <tr style=\"text-align: right;\">\n      <th></th>\n      <th>config</th>\n      <th>ecc</th>\n      <th>hostname</th>\n      <th>fi_model</th>\n      <th>group</th>\n      <th>has_end</th>\n      <th>it</th>\n      <th>ker_time</th>\n      <th>acc_time</th>\n      <th>ker_err</th>\n      <th>acc_err</th>\n      <th>sdc</th>\n      <th>critical_sdc</th>\n      <th>count</th>\n    </tr>\n  </thead>\n  <tbody>\n    <tr>\n      <th>0</th>\n      <td>BaseC10</td>\n      <td>OFF</td>\n      <td>caroltitaninria</td>\n      <td>FLIP_SINGLE_BIT</td>\n      <td>fp32</td>\n      <td>1</td>\n      <td>0</td>\n      <td>0.0</td>\n      <td>0.0</td>\n      <td>0</td>\n      <td>0</td>\n      <td>0.0</td>\n      <td>0.0</td>\n      <td>1</td>\n    </tr>\n    <tr>\n      <th>1</th>\n      <td>BaseC10</td>\n      <td>OFF</td>\n      <td>caroltitaninria</td>\n      <td>FLIP_SINGLE_BIT</td>\n      <td>fp32</td>\n      <td>1</td>\n      <td>0</td>\n      <td>0.0</td>\n      <td>0.0</td>\n      <td>0</td>\n      <td>0</td>\n      <td>0.0</td>\n      <td>0.0</td>\n      <td>1</td>\n    </tr>\n    <tr>\n      <th>4</th>\n      <td>BaseC10</td>\n      <td>OFF</td>\n      <td>caroltitaninria</td>\n      <td>FLIP_SINGLE_BIT</td>\n      <td>fp32</td>\n      <td>1</td>\n      <td>0</td>\n      <td>0.0</td>\n      <td>0.0</td>\n      <td>0</td>\n      <td>0</td>\n      <td>0.0</td>\n      <td>0.0</td>\n      <td>1</td>\n    </tr>\n    <tr>\n      <th>5</th>\n      <td>BaseC10</td>\n      <td>OFF</td>\n      <td>caroltitaninria</td>\n      <td>FLIP_SINGLE_BIT</td>\n      <td>fp32</td>\n      <td>1</td>\n      <td>0</td>\n      <td>0.0</td>\n      <td>0.0</td>\n      <td>0</td>\n      <td>0</td>\n      <td>0.0</td>\n      <td>0.0</td>\n      <td>1</td>\n    </tr>\n    <tr>\n      <th>6</th>\n      <td>BaseC10</td>\n      <td>OFF</td>\n      <td>caroltitaninria</td>\n      <td>FLIP_SINGLE_BIT</td>\n      <td>fp32</td>\n      <td>1</td>\n      <td>0</td>\n      <td>0.0</td>\n      <td>0.0</td>\n      <td>0</td>\n      <td>0</td>\n      <td>0.0</td>\n      <td>0.0</td>\n      <td>1</td>\n    </tr>\n    <tr>\n      <th>...</th>\n      <td>...</td>\n      <td>...</td>\n      <td>...</td>\n      <td>...</td>\n      <td>...</td>\n      <td>...</td>\n      <td>...</td>\n      <td>...</td>\n      <td>...</td>\n      <td>...</td>\n      <td>...</td>\n      <td>...</td>\n      <td>...</td>\n      <td>...</td>\n    </tr>\n    <tr>\n      <th>11993</th>\n      <td>GeluNanC10</td>\n      <td>OFF</td>\n      <td>caroltitaninria</td>\n      <td>WARP_ZERO_VALUE</td>\n      <td>fp32</td>\n      <td>1</td>\n      <td>0</td>\n      <td>0.0</td>\n      <td>0.0</td>\n      <td>0</td>\n      <td>0</td>\n      <td>0.0</td>\n      <td>0.0</td>\n      <td>1</td>\n    </tr>\n    <tr>\n      <th>11995</th>\n      <td>GeluNanC10</td>\n      <td>OFF</td>\n      <td>caroltitaninria</td>\n      <td>WARP_ZERO_VALUE</td>\n      <td>fp32</td>\n      <td>1</td>\n      <td>0</td>\n      <td>0.0</td>\n      <td>0.0</td>\n      <td>0</td>\n      <td>0</td>\n      <td>0.0</td>\n      <td>0.0</td>\n      <td>1</td>\n    </tr>\n    <tr>\n      <th>11997</th>\n      <td>GeluNanC10</td>\n      <td>OFF</td>\n      <td>caroltitaninria</td>\n      <td>WARP_ZERO_VALUE</td>\n      <td>fp32</td>\n      <td>1</td>\n      <td>0</td>\n      <td>0.0</td>\n      <td>0.0</td>\n      <td>0</td>\n      <td>0</td>\n      <td>0.0</td>\n      <td>0.0</td>\n      <td>1</td>\n    </tr>\n    <tr>\n      <th>11998</th>\n      <td>GeluNanC10</td>\n      <td>OFF</td>\n      <td>caroltitaninria</td>\n      <td>WARP_ZERO_VALUE</td>\n      <td>fp32</td>\n      <td>1</td>\n      <td>0</td>\n      <td>0.0</td>\n      <td>0.0</td>\n      <td>0</td>\n      <td>0</td>\n      <td>0.0</td>\n      <td>0.0</td>\n      <td>1</td>\n    </tr>\n    <tr>\n      <th>11999</th>\n      <td>GeluNanC10</td>\n      <td>OFF</td>\n      <td>caroltitaninria</td>\n      <td>WARP_ZERO_VALUE</td>\n      <td>fp32</td>\n      <td>1</td>\n      <td>0</td>\n      <td>0.0</td>\n      <td>0.0</td>\n      <td>0</td>\n      <td>0</td>\n      <td>0.0</td>\n      <td>0.0</td>\n      <td>1</td>\n    </tr>\n  </tbody>\n</table>\n<p>6343 rows × 14 columns</p>\n</div>"
     },
     "execution_count": 314,
     "metadata": {},
     "output_type": "execute_result"
    }
   ],
   "source": [
    "df[df[\"sdc\"] == 0]"
   ],
   "metadata": {
    "collapsed": false
   }
  },
  {
   "cell_type": "code",
   "execution_count": 315,
   "id": "b1de70a3-885e-4336-b001-1c2477c4516a",
   "metadata": {},
   "outputs": [],
   "source": [
    "to_save = df.groupby([\"hostname\", \"config\", \"fi_model\"]).sum()[[\"has_end\", \"sdc\", \"critical_sdc\", \"count\"]].reset_index()"
   ]
  },
  {
   "cell_type": "code",
   "execution_count": 316,
   "id": "10801461-cd27-4b6f-91eb-7653b5203c30",
   "metadata": {},
   "outputs": [],
   "source": [
    "NEW_NAMES = dict(\n",
    "        # Baseline C100\n",
    "    BaseC100=\"Base\",\n",
    "    # \"c100_res44_test_02_bn-relu6.yaml\",\n",
    "    # Order inversion with relu6 C100\n",
    "    OrderInvC100=\"OrdInv\",\n",
    "    # \"c100_res44_test_02_bn-relu6_base.yaml\",\n",
    "    BaseBnRelu6C100=\"BaseR6\",\n",
    "    BnRelu6C100=\"BnR6\",\n",
    "    # Order inversion + nan filter + Relu6\n",
    "    OrderINanRelu6C100=\"OrdInvNanR6\",\n",
    "    # Gelu and nan C100\n",
    "    GeluNanC100=\"Gelu6Nan\",\n",
    ")\n",
    "NEW_NAMES.update({k.replace(\"C100\", \"C10\"): v for k,v in NEW_NAMES.items()})"
   ]
  },
  {
   "cell_type": "code",
   "execution_count": 317,
   "outputs": [
    {
     "data": {
      "text/plain": "           hostname             config           fi_model  has_end    sdc  \\\n0   caroltitaninria     BaseBnRelu6C10    FLIP_SINGLE_BIT      400  124.0   \n1   caroltitaninria     BaseBnRelu6C10       RANDOM_VALUE      400  179.0   \n2   caroltitaninria     BaseBnRelu6C10  WARP_RANDOM_VALUE      400  246.0   \n3   caroltitaninria     BaseBnRelu6C10    WARP_ZERO_VALUE      400  251.0   \n4   caroltitaninria     BaseBnRelu6C10         ZERO_VALUE      400  158.0   \n5   caroltitaninria            BaseC10    FLIP_SINGLE_BIT      400  138.0   \n6   caroltitaninria            BaseC10       RANDOM_VALUE      400  164.0   \n7   caroltitaninria            BaseC10  WARP_RANDOM_VALUE      400  225.0   \n8   caroltitaninria            BaseC10    WARP_ZERO_VALUE      400  228.0   \n9   caroltitaninria            BaseC10         ZERO_VALUE      400  172.0   \n10  caroltitaninria         BnRelu6C10    FLIP_SINGLE_BIT      400  123.0   \n11  caroltitaninria         BnRelu6C10       RANDOM_VALUE      400  157.0   \n12  caroltitaninria         BnRelu6C10  WARP_RANDOM_VALUE      400  230.0   \n13  caroltitaninria         BnRelu6C10    WARP_ZERO_VALUE      400  249.0   \n14  caroltitaninria         BnRelu6C10         ZERO_VALUE      400  145.0   \n15  caroltitaninria         GeluNanC10    FLIP_SINGLE_BIT      400  184.0   \n16  caroltitaninria         GeluNanC10       RANDOM_VALUE      400  240.0   \n17  caroltitaninria         GeluNanC10  WARP_RANDOM_VALUE      400  252.0   \n18  caroltitaninria         GeluNanC10    WARP_ZERO_VALUE      400  234.0   \n19  caroltitaninria         GeluNanC10         ZERO_VALUE      400  221.0   \n20  caroltitaninria  OrderINanRelu6C10    FLIP_SINGLE_BIT      400  108.0   \n21  caroltitaninria  OrderINanRelu6C10       RANDOM_VALUE      400  165.0   \n22  caroltitaninria  OrderINanRelu6C10  WARP_RANDOM_VALUE      400  248.0   \n23  caroltitaninria  OrderINanRelu6C10    WARP_ZERO_VALUE      400  228.0   \n24  caroltitaninria  OrderINanRelu6C10         ZERO_VALUE      400  133.0   \n25  caroltitaninria        OrderInvC10    FLIP_SINGLE_BIT      400  104.0   \n26  caroltitaninria        OrderInvC10       RANDOM_VALUE      400  166.0   \n27  caroltitaninria        OrderInvC10  WARP_RANDOM_VALUE      400  237.0   \n28  caroltitaninria        OrderInvC10    WARP_ZERO_VALUE      400  208.0   \n29  caroltitaninria        OrderInvC10         ZERO_VALUE      400  140.0   \n\n    critical_sdc  count  \n0            1.0    400  \n1            2.0    400  \n2           12.0    400  \n3            0.0    400  \n4            0.0    400  \n5           11.0    400  \n6           48.0    400  \n7          154.0    400  \n8            0.0    400  \n9            0.0    400  \n10           0.0    400  \n11           2.0    400  \n12           7.0    400  \n13           2.0    400  \n14           0.0    400  \n15           0.0    400  \n16           2.0    400  \n17          13.0    400  \n18           0.0    400  \n19           0.0    400  \n20           0.0    400  \n21           0.0    400  \n22           2.0    400  \n23           0.0    400  \n24           0.0    400  \n25           1.0    400  \n26           0.0    400  \n27           6.0    400  \n28           0.0    400  \n29           0.0    400  ",
      "text/html": "<div>\n<style scoped>\n    .dataframe tbody tr th:only-of-type {\n        vertical-align: middle;\n    }\n\n    .dataframe tbody tr th {\n        vertical-align: top;\n    }\n\n    .dataframe thead th {\n        text-align: right;\n    }\n</style>\n<table border=\"1\" class=\"dataframe\">\n  <thead>\n    <tr style=\"text-align: right;\">\n      <th></th>\n      <th>hostname</th>\n      <th>config</th>\n      <th>fi_model</th>\n      <th>has_end</th>\n      <th>sdc</th>\n      <th>critical_sdc</th>\n      <th>count</th>\n    </tr>\n  </thead>\n  <tbody>\n    <tr>\n      <th>0</th>\n      <td>caroltitaninria</td>\n      <td>BaseBnRelu6C10</td>\n      <td>FLIP_SINGLE_BIT</td>\n      <td>400</td>\n      <td>124.0</td>\n      <td>1.0</td>\n      <td>400</td>\n    </tr>\n    <tr>\n      <th>1</th>\n      <td>caroltitaninria</td>\n      <td>BaseBnRelu6C10</td>\n      <td>RANDOM_VALUE</td>\n      <td>400</td>\n      <td>179.0</td>\n      <td>2.0</td>\n      <td>400</td>\n    </tr>\n    <tr>\n      <th>2</th>\n      <td>caroltitaninria</td>\n      <td>BaseBnRelu6C10</td>\n      <td>WARP_RANDOM_VALUE</td>\n      <td>400</td>\n      <td>246.0</td>\n      <td>12.0</td>\n      <td>400</td>\n    </tr>\n    <tr>\n      <th>3</th>\n      <td>caroltitaninria</td>\n      <td>BaseBnRelu6C10</td>\n      <td>WARP_ZERO_VALUE</td>\n      <td>400</td>\n      <td>251.0</td>\n      <td>0.0</td>\n      <td>400</td>\n    </tr>\n    <tr>\n      <th>4</th>\n      <td>caroltitaninria</td>\n      <td>BaseBnRelu6C10</td>\n      <td>ZERO_VALUE</td>\n      <td>400</td>\n      <td>158.0</td>\n      <td>0.0</td>\n      <td>400</td>\n    </tr>\n    <tr>\n      <th>5</th>\n      <td>caroltitaninria</td>\n      <td>BaseC10</td>\n      <td>FLIP_SINGLE_BIT</td>\n      <td>400</td>\n      <td>138.0</td>\n      <td>11.0</td>\n      <td>400</td>\n    </tr>\n    <tr>\n      <th>6</th>\n      <td>caroltitaninria</td>\n      <td>BaseC10</td>\n      <td>RANDOM_VALUE</td>\n      <td>400</td>\n      <td>164.0</td>\n      <td>48.0</td>\n      <td>400</td>\n    </tr>\n    <tr>\n      <th>7</th>\n      <td>caroltitaninria</td>\n      <td>BaseC10</td>\n      <td>WARP_RANDOM_VALUE</td>\n      <td>400</td>\n      <td>225.0</td>\n      <td>154.0</td>\n      <td>400</td>\n    </tr>\n    <tr>\n      <th>8</th>\n      <td>caroltitaninria</td>\n      <td>BaseC10</td>\n      <td>WARP_ZERO_VALUE</td>\n      <td>400</td>\n      <td>228.0</td>\n      <td>0.0</td>\n      <td>400</td>\n    </tr>\n    <tr>\n      <th>9</th>\n      <td>caroltitaninria</td>\n      <td>BaseC10</td>\n      <td>ZERO_VALUE</td>\n      <td>400</td>\n      <td>172.0</td>\n      <td>0.0</td>\n      <td>400</td>\n    </tr>\n    <tr>\n      <th>10</th>\n      <td>caroltitaninria</td>\n      <td>BnRelu6C10</td>\n      <td>FLIP_SINGLE_BIT</td>\n      <td>400</td>\n      <td>123.0</td>\n      <td>0.0</td>\n      <td>400</td>\n    </tr>\n    <tr>\n      <th>11</th>\n      <td>caroltitaninria</td>\n      <td>BnRelu6C10</td>\n      <td>RANDOM_VALUE</td>\n      <td>400</td>\n      <td>157.0</td>\n      <td>2.0</td>\n      <td>400</td>\n    </tr>\n    <tr>\n      <th>12</th>\n      <td>caroltitaninria</td>\n      <td>BnRelu6C10</td>\n      <td>WARP_RANDOM_VALUE</td>\n      <td>400</td>\n      <td>230.0</td>\n      <td>7.0</td>\n      <td>400</td>\n    </tr>\n    <tr>\n      <th>13</th>\n      <td>caroltitaninria</td>\n      <td>BnRelu6C10</td>\n      <td>WARP_ZERO_VALUE</td>\n      <td>400</td>\n      <td>249.0</td>\n      <td>2.0</td>\n      <td>400</td>\n    </tr>\n    <tr>\n      <th>14</th>\n      <td>caroltitaninria</td>\n      <td>BnRelu6C10</td>\n      <td>ZERO_VALUE</td>\n      <td>400</td>\n      <td>145.0</td>\n      <td>0.0</td>\n      <td>400</td>\n    </tr>\n    <tr>\n      <th>15</th>\n      <td>caroltitaninria</td>\n      <td>GeluNanC10</td>\n      <td>FLIP_SINGLE_BIT</td>\n      <td>400</td>\n      <td>184.0</td>\n      <td>0.0</td>\n      <td>400</td>\n    </tr>\n    <tr>\n      <th>16</th>\n      <td>caroltitaninria</td>\n      <td>GeluNanC10</td>\n      <td>RANDOM_VALUE</td>\n      <td>400</td>\n      <td>240.0</td>\n      <td>2.0</td>\n      <td>400</td>\n    </tr>\n    <tr>\n      <th>17</th>\n      <td>caroltitaninria</td>\n      <td>GeluNanC10</td>\n      <td>WARP_RANDOM_VALUE</td>\n      <td>400</td>\n      <td>252.0</td>\n      <td>13.0</td>\n      <td>400</td>\n    </tr>\n    <tr>\n      <th>18</th>\n      <td>caroltitaninria</td>\n      <td>GeluNanC10</td>\n      <td>WARP_ZERO_VALUE</td>\n      <td>400</td>\n      <td>234.0</td>\n      <td>0.0</td>\n      <td>400</td>\n    </tr>\n    <tr>\n      <th>19</th>\n      <td>caroltitaninria</td>\n      <td>GeluNanC10</td>\n      <td>ZERO_VALUE</td>\n      <td>400</td>\n      <td>221.0</td>\n      <td>0.0</td>\n      <td>400</td>\n    </tr>\n    <tr>\n      <th>20</th>\n      <td>caroltitaninria</td>\n      <td>OrderINanRelu6C10</td>\n      <td>FLIP_SINGLE_BIT</td>\n      <td>400</td>\n      <td>108.0</td>\n      <td>0.0</td>\n      <td>400</td>\n    </tr>\n    <tr>\n      <th>21</th>\n      <td>caroltitaninria</td>\n      <td>OrderINanRelu6C10</td>\n      <td>RANDOM_VALUE</td>\n      <td>400</td>\n      <td>165.0</td>\n      <td>0.0</td>\n      <td>400</td>\n    </tr>\n    <tr>\n      <th>22</th>\n      <td>caroltitaninria</td>\n      <td>OrderINanRelu6C10</td>\n      <td>WARP_RANDOM_VALUE</td>\n      <td>400</td>\n      <td>248.0</td>\n      <td>2.0</td>\n      <td>400</td>\n    </tr>\n    <tr>\n      <th>23</th>\n      <td>caroltitaninria</td>\n      <td>OrderINanRelu6C10</td>\n      <td>WARP_ZERO_VALUE</td>\n      <td>400</td>\n      <td>228.0</td>\n      <td>0.0</td>\n      <td>400</td>\n    </tr>\n    <tr>\n      <th>24</th>\n      <td>caroltitaninria</td>\n      <td>OrderINanRelu6C10</td>\n      <td>ZERO_VALUE</td>\n      <td>400</td>\n      <td>133.0</td>\n      <td>0.0</td>\n      <td>400</td>\n    </tr>\n    <tr>\n      <th>25</th>\n      <td>caroltitaninria</td>\n      <td>OrderInvC10</td>\n      <td>FLIP_SINGLE_BIT</td>\n      <td>400</td>\n      <td>104.0</td>\n      <td>1.0</td>\n      <td>400</td>\n    </tr>\n    <tr>\n      <th>26</th>\n      <td>caroltitaninria</td>\n      <td>OrderInvC10</td>\n      <td>RANDOM_VALUE</td>\n      <td>400</td>\n      <td>166.0</td>\n      <td>0.0</td>\n      <td>400</td>\n    </tr>\n    <tr>\n      <th>27</th>\n      <td>caroltitaninria</td>\n      <td>OrderInvC10</td>\n      <td>WARP_RANDOM_VALUE</td>\n      <td>400</td>\n      <td>237.0</td>\n      <td>6.0</td>\n      <td>400</td>\n    </tr>\n    <tr>\n      <th>28</th>\n      <td>caroltitaninria</td>\n      <td>OrderInvC10</td>\n      <td>WARP_ZERO_VALUE</td>\n      <td>400</td>\n      <td>208.0</td>\n      <td>0.0</td>\n      <td>400</td>\n    </tr>\n    <tr>\n      <th>29</th>\n      <td>caroltitaninria</td>\n      <td>OrderInvC10</td>\n      <td>ZERO_VALUE</td>\n      <td>400</td>\n      <td>140.0</td>\n      <td>0.0</td>\n      <td>400</td>\n    </tr>\n  </tbody>\n</table>\n</div>"
     },
     "execution_count": 317,
     "metadata": {},
     "output_type": "execute_result"
    }
   ],
   "source": [
    "to_save"
   ],
   "metadata": {
    "collapsed": false
   }
  },
  {
   "cell_type": "code",
   "execution_count": 318,
   "outputs": [],
   "source": [
    "FM_NAMES = dict(FLIP_SINGLE_BIT=\"Single Bit\", ZERO_VALUE=\"Zero Val\",  WARP_ZERO_VALUE=\"Warp Z.V.\", RANDOM_VALUE=\"Rand Val\",  WARP_RANDOM_VALUE=\"Warp R. V.\")"
   ],
   "metadata": {
    "collapsed": false
   }
  },
  {
   "cell_type": "code",
   "execution_count": 319,
   "outputs": [],
   "source": [
    "to_save[\"dataset\"] = to_save[\"config\"].apply(lambda x: \"Cifar 100\" if \"C100\" in x else \"Cifar 10\")\n",
    "to_save[\"config\"] = to_save[\"config\"].apply(lambda x: NEW_NAMES[x])\n",
    "to_save[\"fi_model\"] = to_save[\"fi_model\"].apply(lambda x: FM_NAMES[x])\n"
   ],
   "metadata": {
    "collapsed": false
   }
  },
  {
   "cell_type": "code",
   "execution_count": 320,
   "outputs": [
    {
     "data": {
      "text/plain": "           hostname       config    fi_model  has_end    sdc  critical_sdc  \\\n0   caroltitaninria       BaseR6  Single Bit      400  124.0           1.0   \n1   caroltitaninria       BaseR6    Rand Val      400  179.0           2.0   \n2   caroltitaninria       BaseR6  Warp R. V.      400  246.0          12.0   \n3   caroltitaninria       BaseR6   Warp Z.V.      400  251.0           0.0   \n4   caroltitaninria       BaseR6    Zero Val      400  158.0           0.0   \n5   caroltitaninria         Base  Single Bit      400  138.0          11.0   \n6   caroltitaninria         Base    Rand Val      400  164.0          48.0   \n7   caroltitaninria         Base  Warp R. V.      400  225.0         154.0   \n8   caroltitaninria         Base   Warp Z.V.      400  228.0           0.0   \n9   caroltitaninria         Base    Zero Val      400  172.0           0.0   \n10  caroltitaninria         BnR6  Single Bit      400  123.0           0.0   \n11  caroltitaninria         BnR6    Rand Val      400  157.0           2.0   \n12  caroltitaninria         BnR6  Warp R. V.      400  230.0           7.0   \n13  caroltitaninria         BnR6   Warp Z.V.      400  249.0           2.0   \n14  caroltitaninria         BnR6    Zero Val      400  145.0           0.0   \n15  caroltitaninria     Gelu6Nan  Single Bit      400  184.0           0.0   \n16  caroltitaninria     Gelu6Nan    Rand Val      400  240.0           2.0   \n17  caroltitaninria     Gelu6Nan  Warp R. V.      400  252.0          13.0   \n18  caroltitaninria     Gelu6Nan   Warp Z.V.      400  234.0           0.0   \n19  caroltitaninria     Gelu6Nan    Zero Val      400  221.0           0.0   \n20  caroltitaninria  OrdInvNanR6  Single Bit      400  108.0           0.0   \n21  caroltitaninria  OrdInvNanR6    Rand Val      400  165.0           0.0   \n22  caroltitaninria  OrdInvNanR6  Warp R. V.      400  248.0           2.0   \n23  caroltitaninria  OrdInvNanR6   Warp Z.V.      400  228.0           0.0   \n24  caroltitaninria  OrdInvNanR6    Zero Val      400  133.0           0.0   \n25  caroltitaninria       OrdInv  Single Bit      400  104.0           1.0   \n26  caroltitaninria       OrdInv    Rand Val      400  166.0           0.0   \n27  caroltitaninria       OrdInv  Warp R. V.      400  237.0           6.0   \n28  caroltitaninria       OrdInv   Warp Z.V.      400  208.0           0.0   \n29  caroltitaninria       OrdInv    Zero Val      400  140.0           0.0   \n\n    count   dataset  \n0     400  Cifar 10  \n1     400  Cifar 10  \n2     400  Cifar 10  \n3     400  Cifar 10  \n4     400  Cifar 10  \n5     400  Cifar 10  \n6     400  Cifar 10  \n7     400  Cifar 10  \n8     400  Cifar 10  \n9     400  Cifar 10  \n10    400  Cifar 10  \n11    400  Cifar 10  \n12    400  Cifar 10  \n13    400  Cifar 10  \n14    400  Cifar 10  \n15    400  Cifar 10  \n16    400  Cifar 10  \n17    400  Cifar 10  \n18    400  Cifar 10  \n19    400  Cifar 10  \n20    400  Cifar 10  \n21    400  Cifar 10  \n22    400  Cifar 10  \n23    400  Cifar 10  \n24    400  Cifar 10  \n25    400  Cifar 10  \n26    400  Cifar 10  \n27    400  Cifar 10  \n28    400  Cifar 10  \n29    400  Cifar 10  ",
      "text/html": "<div>\n<style scoped>\n    .dataframe tbody tr th:only-of-type {\n        vertical-align: middle;\n    }\n\n    .dataframe tbody tr th {\n        vertical-align: top;\n    }\n\n    .dataframe thead th {\n        text-align: right;\n    }\n</style>\n<table border=\"1\" class=\"dataframe\">\n  <thead>\n    <tr style=\"text-align: right;\">\n      <th></th>\n      <th>hostname</th>\n      <th>config</th>\n      <th>fi_model</th>\n      <th>has_end</th>\n      <th>sdc</th>\n      <th>critical_sdc</th>\n      <th>count</th>\n      <th>dataset</th>\n    </tr>\n  </thead>\n  <tbody>\n    <tr>\n      <th>0</th>\n      <td>caroltitaninria</td>\n      <td>BaseR6</td>\n      <td>Single Bit</td>\n      <td>400</td>\n      <td>124.0</td>\n      <td>1.0</td>\n      <td>400</td>\n      <td>Cifar 10</td>\n    </tr>\n    <tr>\n      <th>1</th>\n      <td>caroltitaninria</td>\n      <td>BaseR6</td>\n      <td>Rand Val</td>\n      <td>400</td>\n      <td>179.0</td>\n      <td>2.0</td>\n      <td>400</td>\n      <td>Cifar 10</td>\n    </tr>\n    <tr>\n      <th>2</th>\n      <td>caroltitaninria</td>\n      <td>BaseR6</td>\n      <td>Warp R. V.</td>\n      <td>400</td>\n      <td>246.0</td>\n      <td>12.0</td>\n      <td>400</td>\n      <td>Cifar 10</td>\n    </tr>\n    <tr>\n      <th>3</th>\n      <td>caroltitaninria</td>\n      <td>BaseR6</td>\n      <td>Warp Z.V.</td>\n      <td>400</td>\n      <td>251.0</td>\n      <td>0.0</td>\n      <td>400</td>\n      <td>Cifar 10</td>\n    </tr>\n    <tr>\n      <th>4</th>\n      <td>caroltitaninria</td>\n      <td>BaseR6</td>\n      <td>Zero Val</td>\n      <td>400</td>\n      <td>158.0</td>\n      <td>0.0</td>\n      <td>400</td>\n      <td>Cifar 10</td>\n    </tr>\n    <tr>\n      <th>5</th>\n      <td>caroltitaninria</td>\n      <td>Base</td>\n      <td>Single Bit</td>\n      <td>400</td>\n      <td>138.0</td>\n      <td>11.0</td>\n      <td>400</td>\n      <td>Cifar 10</td>\n    </tr>\n    <tr>\n      <th>6</th>\n      <td>caroltitaninria</td>\n      <td>Base</td>\n      <td>Rand Val</td>\n      <td>400</td>\n      <td>164.0</td>\n      <td>48.0</td>\n      <td>400</td>\n      <td>Cifar 10</td>\n    </tr>\n    <tr>\n      <th>7</th>\n      <td>caroltitaninria</td>\n      <td>Base</td>\n      <td>Warp R. V.</td>\n      <td>400</td>\n      <td>225.0</td>\n      <td>154.0</td>\n      <td>400</td>\n      <td>Cifar 10</td>\n    </tr>\n    <tr>\n      <th>8</th>\n      <td>caroltitaninria</td>\n      <td>Base</td>\n      <td>Warp Z.V.</td>\n      <td>400</td>\n      <td>228.0</td>\n      <td>0.0</td>\n      <td>400</td>\n      <td>Cifar 10</td>\n    </tr>\n    <tr>\n      <th>9</th>\n      <td>caroltitaninria</td>\n      <td>Base</td>\n      <td>Zero Val</td>\n      <td>400</td>\n      <td>172.0</td>\n      <td>0.0</td>\n      <td>400</td>\n      <td>Cifar 10</td>\n    </tr>\n    <tr>\n      <th>10</th>\n      <td>caroltitaninria</td>\n      <td>BnR6</td>\n      <td>Single Bit</td>\n      <td>400</td>\n      <td>123.0</td>\n      <td>0.0</td>\n      <td>400</td>\n      <td>Cifar 10</td>\n    </tr>\n    <tr>\n      <th>11</th>\n      <td>caroltitaninria</td>\n      <td>BnR6</td>\n      <td>Rand Val</td>\n      <td>400</td>\n      <td>157.0</td>\n      <td>2.0</td>\n      <td>400</td>\n      <td>Cifar 10</td>\n    </tr>\n    <tr>\n      <th>12</th>\n      <td>caroltitaninria</td>\n      <td>BnR6</td>\n      <td>Warp R. V.</td>\n      <td>400</td>\n      <td>230.0</td>\n      <td>7.0</td>\n      <td>400</td>\n      <td>Cifar 10</td>\n    </tr>\n    <tr>\n      <th>13</th>\n      <td>caroltitaninria</td>\n      <td>BnR6</td>\n      <td>Warp Z.V.</td>\n      <td>400</td>\n      <td>249.0</td>\n      <td>2.0</td>\n      <td>400</td>\n      <td>Cifar 10</td>\n    </tr>\n    <tr>\n      <th>14</th>\n      <td>caroltitaninria</td>\n      <td>BnR6</td>\n      <td>Zero Val</td>\n      <td>400</td>\n      <td>145.0</td>\n      <td>0.0</td>\n      <td>400</td>\n      <td>Cifar 10</td>\n    </tr>\n    <tr>\n      <th>15</th>\n      <td>caroltitaninria</td>\n      <td>Gelu6Nan</td>\n      <td>Single Bit</td>\n      <td>400</td>\n      <td>184.0</td>\n      <td>0.0</td>\n      <td>400</td>\n      <td>Cifar 10</td>\n    </tr>\n    <tr>\n      <th>16</th>\n      <td>caroltitaninria</td>\n      <td>Gelu6Nan</td>\n      <td>Rand Val</td>\n      <td>400</td>\n      <td>240.0</td>\n      <td>2.0</td>\n      <td>400</td>\n      <td>Cifar 10</td>\n    </tr>\n    <tr>\n      <th>17</th>\n      <td>caroltitaninria</td>\n      <td>Gelu6Nan</td>\n      <td>Warp R. V.</td>\n      <td>400</td>\n      <td>252.0</td>\n      <td>13.0</td>\n      <td>400</td>\n      <td>Cifar 10</td>\n    </tr>\n    <tr>\n      <th>18</th>\n      <td>caroltitaninria</td>\n      <td>Gelu6Nan</td>\n      <td>Warp Z.V.</td>\n      <td>400</td>\n      <td>234.0</td>\n      <td>0.0</td>\n      <td>400</td>\n      <td>Cifar 10</td>\n    </tr>\n    <tr>\n      <th>19</th>\n      <td>caroltitaninria</td>\n      <td>Gelu6Nan</td>\n      <td>Zero Val</td>\n      <td>400</td>\n      <td>221.0</td>\n      <td>0.0</td>\n      <td>400</td>\n      <td>Cifar 10</td>\n    </tr>\n    <tr>\n      <th>20</th>\n      <td>caroltitaninria</td>\n      <td>OrdInvNanR6</td>\n      <td>Single Bit</td>\n      <td>400</td>\n      <td>108.0</td>\n      <td>0.0</td>\n      <td>400</td>\n      <td>Cifar 10</td>\n    </tr>\n    <tr>\n      <th>21</th>\n      <td>caroltitaninria</td>\n      <td>OrdInvNanR6</td>\n      <td>Rand Val</td>\n      <td>400</td>\n      <td>165.0</td>\n      <td>0.0</td>\n      <td>400</td>\n      <td>Cifar 10</td>\n    </tr>\n    <tr>\n      <th>22</th>\n      <td>caroltitaninria</td>\n      <td>OrdInvNanR6</td>\n      <td>Warp R. V.</td>\n      <td>400</td>\n      <td>248.0</td>\n      <td>2.0</td>\n      <td>400</td>\n      <td>Cifar 10</td>\n    </tr>\n    <tr>\n      <th>23</th>\n      <td>caroltitaninria</td>\n      <td>OrdInvNanR6</td>\n      <td>Warp Z.V.</td>\n      <td>400</td>\n      <td>228.0</td>\n      <td>0.0</td>\n      <td>400</td>\n      <td>Cifar 10</td>\n    </tr>\n    <tr>\n      <th>24</th>\n      <td>caroltitaninria</td>\n      <td>OrdInvNanR6</td>\n      <td>Zero Val</td>\n      <td>400</td>\n      <td>133.0</td>\n      <td>0.0</td>\n      <td>400</td>\n      <td>Cifar 10</td>\n    </tr>\n    <tr>\n      <th>25</th>\n      <td>caroltitaninria</td>\n      <td>OrdInv</td>\n      <td>Single Bit</td>\n      <td>400</td>\n      <td>104.0</td>\n      <td>1.0</td>\n      <td>400</td>\n      <td>Cifar 10</td>\n    </tr>\n    <tr>\n      <th>26</th>\n      <td>caroltitaninria</td>\n      <td>OrdInv</td>\n      <td>Rand Val</td>\n      <td>400</td>\n      <td>166.0</td>\n      <td>0.0</td>\n      <td>400</td>\n      <td>Cifar 10</td>\n    </tr>\n    <tr>\n      <th>27</th>\n      <td>caroltitaninria</td>\n      <td>OrdInv</td>\n      <td>Warp R. V.</td>\n      <td>400</td>\n      <td>237.0</td>\n      <td>6.0</td>\n      <td>400</td>\n      <td>Cifar 10</td>\n    </tr>\n    <tr>\n      <th>28</th>\n      <td>caroltitaninria</td>\n      <td>OrdInv</td>\n      <td>Warp Z.V.</td>\n      <td>400</td>\n      <td>208.0</td>\n      <td>0.0</td>\n      <td>400</td>\n      <td>Cifar 10</td>\n    </tr>\n    <tr>\n      <th>29</th>\n      <td>caroltitaninria</td>\n      <td>OrdInv</td>\n      <td>Zero Val</td>\n      <td>400</td>\n      <td>140.0</td>\n      <td>0.0</td>\n      <td>400</td>\n      <td>Cifar 10</td>\n    </tr>\n  </tbody>\n</table>\n</div>"
     },
     "execution_count": 320,
     "metadata": {},
     "output_type": "execute_result"
    }
   ],
   "source": [
    "to_save"
   ],
   "metadata": {
    "collapsed": false
   }
  },
  {
   "cell_type": "code",
   "execution_count": 321,
   "outputs": [],
   "source": [
    "to_save_tail = to_save.groupby([\"hostname\", \"dataset\", \"config\"]).sum().reset_index()"
   ],
   "metadata": {
    "collapsed": false
   }
  },
  {
   "cell_type": "code",
   "execution_count": 322,
   "outputs": [],
   "source": [
    "to_save_tail[\"fi_model\"] = \"Overall\""
   ],
   "metadata": {
    "collapsed": false
   }
  },
  {
   "cell_type": "code",
   "execution_count": 323,
   "outputs": [],
   "source": [
    "to_save_gp = pd.concat([to_save, to_save_tail])"
   ],
   "metadata": {
    "collapsed": false
   }
  },
  {
   "cell_type": "code",
   "execution_count": 326,
   "outputs": [],
   "source": [
    "to_save_gp = to_save_gp.groupby([\"hostname\", \"dataset\", \"fi_model\", \"config\"]).sum()"
   ],
   "metadata": {
    "collapsed": false
   }
  },
  {
   "cell_type": "code",
   "execution_count": 327,
   "outputs": [],
   "source": [
    "to_save_gp.to_excel(\"/home/fernando/git_research/dsn_2023_diehardnet/data/c10_avf_400faults.xlsx\")"
   ],
   "metadata": {
    "collapsed": false
   }
  },
  {
   "cell_type": "code",
   "execution_count": null,
   "outputs": [],
   "source": [],
   "metadata": {
    "collapsed": false
   }
  }
 ],
 "metadata": {
  "kernelspec": {
   "display_name": "Python 3 (ipykernel)",
   "language": "python",
   "name": "python3"
  },
  "language_info": {
   "codemirror_mode": {
    "name": "ipython",
    "version": 3
   },
   "file_extension": ".py",
   "mimetype": "text/x-python",
   "name": "python",
   "nbconvert_exporter": "python",
   "pygments_lexer": "ipython3",
   "version": "3.8.10"
  }
 },
 "nbformat": 4,
 "nbformat_minor": 5
}
