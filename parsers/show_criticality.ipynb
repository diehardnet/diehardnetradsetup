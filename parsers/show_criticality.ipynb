{
 "cells": [
  {
   "cell_type": "code",
   "execution_count": 1,
   "id": "a7e0b53b-dea0-4def-a448-26a29bc3eaca",
   "metadata": {},
   "outputs": [],
   "source": [
    "import pandas as pd\n",
    "import matplotlib.pyplot as plt"
   ]
  },
  {
   "cell_type": "code",
   "execution_count": 2,
   "id": "9b9f9d1c-95f4-407e-ac60-696d80eab5de",
   "metadata": {},
   "outputs": [],
   "source": [
    "df = pd.read_csv(\"parsed_logs.csv\")"
   ]
  },
  {
   "cell_type": "code",
   "execution_count": 3,
   "id": "38e93e65-800c-4215-a83f-448f1333e337",
   "metadata": {},
   "outputs": [
    {
     "data": {
      "text/html": [
       "<div>\n",
       "<style scoped>\n",
       "    .dataframe tbody tr th:only-of-type {\n",
       "        vertical-align: middle;\n",
       "    }\n",
       "\n",
       "    .dataframe tbody tr th {\n",
       "        vertical-align: top;\n",
       "    }\n",
       "\n",
       "    .dataframe thead th {\n",
       "        text-align: right;\n",
       "    }\n",
       "</style>\n",
       "<table border=\"1\" class=\"dataframe\">\n",
       "  <thead>\n",
       "    <tr style=\"text-align: right;\">\n",
       "      <th></th>\n",
       "      <th>start_dt</th>\n",
       "      <th>config</th>\n",
       "      <th>ecc</th>\n",
       "      <th>hostname</th>\n",
       "      <th>it</th>\n",
       "      <th>ker_time</th>\n",
       "      <th>acc_time</th>\n",
       "      <th>ker_err</th>\n",
       "      <th>acc_err</th>\n",
       "      <th>sdc</th>\n",
       "      <th>critical_sdc</th>\n",
       "    </tr>\n",
       "  </thead>\n",
       "  <tbody>\n",
       "  </tbody>\n",
       "</table>\n",
       "</div>"
      ],
      "text/plain": [
       "Empty DataFrame\n",
       "Columns: [start_dt, config, ecc, hostname, it, ker_time, acc_time, ker_err, acc_err, sdc, critical_sdc]\n",
       "Index: []"
      ]
     },
     "execution_count": 3,
     "metadata": {},
     "output_type": "execute_result"
    }
   ],
   "source": [
    "df[df[\"config\"] == \"cifar100_mobilenetv2_x1_4\"]"
   ]
  },
  {
   "cell_type": "code",
   "execution_count": 4,
   "id": "6165e02d-53d3-46cd-ac13-44d014cc8f75",
   "metadata": {},
   "outputs": [],
   "source": [
    "df = df[df[\"config\"] != \"main.py\"]"
   ]
  },
  {
   "cell_type": "code",
   "execution_count": 5,
   "id": "67491d89-1160-4a1b-b522-8f9d89a2bcaa",
   "metadata": {},
   "outputs": [],
   "source": [
    "configs = dict(\n",
    "    # Baseline C100\n",
    "    BaseC100=\"c100_res44_test_01_bn-relu_base.yaml\",\n",
    "    # \"c100_res44_test_02_bn-relu6.yaml\",\n",
    "    # Order inversion with relu6 C100\n",
    "    OrderInvC100=\"c100_res44_test_02_relu6-bn_200_epochs.yaml\",\n",
    "    # \"c100_res44_test_02_bn-relu6_base.yaml\",\n",
    "    # Order inversion + nan filter + Relu6\n",
    "    OINanRelu6C100=\"c100_res44_test_02_relu6-bn_200_epochs_nanfilter.yaml\",\n",
    "    # Gelu and nan C100\n",
    "    GeluNanC100=\"c100_res44_test_02_gelu6_nans.yaml\",\n",
    "\n",
    "    # Baseline C10\n",
    "    BaseC10=\"c10_res44_test_01_bn-relu_base.yaml\",\n",
    "    # \"c10_res44_test_02_bn-relu6.yaml\",\n",
    "    # Order inversion with relu6 C10\n",
    "    OrderInvC10=\"c10_res44_test_02_relu6-bn_200_epochs.yaml\",\n",
    "    # \"c10_res44_test_02_bn-relu6_base.yaml\",\n",
    "    OINanRelu6C10=\"c10_res44_test_02_relu6-bn_200_epochs_nanfilter.yaml\",\n",
    "    # Gelu and nan C10\n",
    "    GeluNanC10=\"c10_res44_test_02_gelu6_nans.yaml\",\n",
    "\n",
    "    MobileNetC100=\"cifar100_mobilenetv2_x1_4.yaml\",\n",
    "    MobileNetC10=\"cifar10_mobilenetv2_x1_4.yaml\"\n",
    ")\n",
    "configs_inv = {v.replace(\".yaml\", \"\"): k for k, v in configs.items()}"
   ]
  },
  {
   "cell_type": "code",
   "execution_count": null,
   "id": "f2b5b9dd-2f23-4b1f-b850-72ea3e47be18",
   "metadata": {},
   "outputs": [],
   "source": []
  },
  {
   "cell_type": "code",
   "execution_count": 6,
   "id": "1a98e0d8-9ed6-40f1-9116-d658f168c767",
   "metadata": {},
   "outputs": [],
   "source": [
    "configs_df = pd.DataFrame([configs]).T.reset_index().rename(columns={0:\"YAML\", \"index\": \"config\"})"
   ]
  },
  {
   "cell_type": "code",
   "execution_count": 7,
   "id": "c6929a77-35e1-4d1f-bfbf-1f1d10515d98",
   "metadata": {},
   "outputs": [
    {
     "data": {
      "text/html": [
       "<div>\n",
       "<style scoped>\n",
       "    .dataframe tbody tr th:only-of-type {\n",
       "        vertical-align: middle;\n",
       "    }\n",
       "\n",
       "    .dataframe tbody tr th {\n",
       "        vertical-align: top;\n",
       "    }\n",
       "\n",
       "    .dataframe thead th {\n",
       "        text-align: right;\n",
       "    }\n",
       "</style>\n",
       "<table border=\"1\" class=\"dataframe\">\n",
       "  <thead>\n",
       "    <tr style=\"text-align: right;\">\n",
       "      <th></th>\n",
       "      <th>config</th>\n",
       "      <th>YAML</th>\n",
       "    </tr>\n",
       "  </thead>\n",
       "  <tbody>\n",
       "    <tr>\n",
       "      <th>0</th>\n",
       "      <td>BaseC100</td>\n",
       "      <td>c100_res44_test_01_bn-relu_base.yaml</td>\n",
       "    </tr>\n",
       "    <tr>\n",
       "      <th>1</th>\n",
       "      <td>OrderInvC100</td>\n",
       "      <td>c100_res44_test_02_relu6-bn_200_epochs.yaml</td>\n",
       "    </tr>\n",
       "    <tr>\n",
       "      <th>2</th>\n",
       "      <td>OINanRelu6C100</td>\n",
       "      <td>c100_res44_test_02_relu6-bn_200_epochs_nanfilt...</td>\n",
       "    </tr>\n",
       "    <tr>\n",
       "      <th>3</th>\n",
       "      <td>GeluNanC100</td>\n",
       "      <td>c100_res44_test_02_gelu6_nans.yaml</td>\n",
       "    </tr>\n",
       "    <tr>\n",
       "      <th>4</th>\n",
       "      <td>BaseC10</td>\n",
       "      <td>c10_res44_test_01_bn-relu_base.yaml</td>\n",
       "    </tr>\n",
       "    <tr>\n",
       "      <th>5</th>\n",
       "      <td>OrderInvC10</td>\n",
       "      <td>c10_res44_test_02_relu6-bn_200_epochs.yaml</td>\n",
       "    </tr>\n",
       "    <tr>\n",
       "      <th>6</th>\n",
       "      <td>OINanRelu6C10</td>\n",
       "      <td>c10_res44_test_02_relu6-bn_200_epochs_nanfilte...</td>\n",
       "    </tr>\n",
       "    <tr>\n",
       "      <th>7</th>\n",
       "      <td>GeluNanC10</td>\n",
       "      <td>c10_res44_test_02_gelu6_nans.yaml</td>\n",
       "    </tr>\n",
       "    <tr>\n",
       "      <th>8</th>\n",
       "      <td>MobileNetC100</td>\n",
       "      <td>cifar100_mobilenetv2_x1_4.yaml</td>\n",
       "    </tr>\n",
       "    <tr>\n",
       "      <th>9</th>\n",
       "      <td>MobileNetC10</td>\n",
       "      <td>cifar10_mobilenetv2_x1_4.yaml</td>\n",
       "    </tr>\n",
       "  </tbody>\n",
       "</table>\n",
       "</div>"
      ],
      "text/plain": [
       "           config                                               YAML\n",
       "0        BaseC100               c100_res44_test_01_bn-relu_base.yaml\n",
       "1    OrderInvC100        c100_res44_test_02_relu6-bn_200_epochs.yaml\n",
       "2  OINanRelu6C100  c100_res44_test_02_relu6-bn_200_epochs_nanfilt...\n",
       "3     GeluNanC100                 c100_res44_test_02_gelu6_nans.yaml\n",
       "4         BaseC10                c10_res44_test_01_bn-relu_base.yaml\n",
       "5     OrderInvC10         c10_res44_test_02_relu6-bn_200_epochs.yaml\n",
       "6   OINanRelu6C10  c10_res44_test_02_relu6-bn_200_epochs_nanfilte...\n",
       "7      GeluNanC10                  c10_res44_test_02_gelu6_nans.yaml\n",
       "8   MobileNetC100                     cifar100_mobilenetv2_x1_4.yaml\n",
       "9    MobileNetC10                      cifar10_mobilenetv2_x1_4.yaml"
      ]
     },
     "execution_count": 7,
     "metadata": {},
     "output_type": "execute_result"
    }
   ],
   "source": [
    "configs_df"
   ]
  },
  {
   "cell_type": "code",
   "execution_count": 8,
   "id": "46d5c87d-df10-4fb2-b355-67a24b1d2c4a",
   "metadata": {},
   "outputs": [],
   "source": [
    "df[\"config\"] = df[\"config\"].apply(lambda x: configs_inv[x])"
   ]
  },
  {
   "cell_type": "code",
   "execution_count": 9,
   "id": "61d0d008-d4bd-4efb-a2d3-9c82d84c719b",
   "metadata": {},
   "outputs": [],
   "source": [
    "df[\"count\"] = 1"
   ]
  },
  {
   "cell_type": "code",
   "execution_count": 10,
   "id": "a25581f5-4d23-4c36-884f-545661bd6bee",
   "metadata": {},
   "outputs": [],
   "source": [
    "grouped_df = df.groupby([\"config\"]).sum()"
   ]
  },
  {
   "cell_type": "code",
   "execution_count": 11,
   "id": "b6a642a5-93cf-49f6-96a0-ba4cae4ff286",
   "metadata": {},
   "outputs": [
    {
     "data": {
      "text/html": [
       "<div>\n",
       "<style scoped>\n",
       "    .dataframe tbody tr th:only-of-type {\n",
       "        vertical-align: middle;\n",
       "    }\n",
       "\n",
       "    .dataframe tbody tr th {\n",
       "        vertical-align: top;\n",
       "    }\n",
       "\n",
       "    .dataframe thead th {\n",
       "        text-align: right;\n",
       "    }\n",
       "</style>\n",
       "<table border=\"1\" class=\"dataframe\">\n",
       "  <thead>\n",
       "    <tr style=\"text-align: right;\">\n",
       "      <th></th>\n",
       "      <th>it</th>\n",
       "      <th>ker_time</th>\n",
       "      <th>acc_time</th>\n",
       "      <th>ker_err</th>\n",
       "      <th>acc_err</th>\n",
       "      <th>sdc</th>\n",
       "      <th>critical_sdc</th>\n",
       "      <th>count</th>\n",
       "    </tr>\n",
       "    <tr>\n",
       "      <th>config</th>\n",
       "      <th></th>\n",
       "      <th></th>\n",
       "      <th></th>\n",
       "      <th></th>\n",
       "      <th></th>\n",
       "      <th></th>\n",
       "      <th></th>\n",
       "      <th></th>\n",
       "    </tr>\n",
       "  </thead>\n",
       "  <tbody>\n",
       "    <tr>\n",
       "      <th>BaseC100</th>\n",
       "      <td>823386</td>\n",
       "      <td>2.526905</td>\n",
       "      <td>10152.78036</td>\n",
       "      <td>66939</td>\n",
       "      <td>344437</td>\n",
       "      <td>132</td>\n",
       "      <td>6</td>\n",
       "      <td>132</td>\n",
       "    </tr>\n",
       "  </tbody>\n",
       "</table>\n",
       "</div>"
      ],
      "text/plain": [
       "              it  ker_time     acc_time  ker_err  acc_err  sdc  critical_sdc  \\\n",
       "config                                                                         \n",
       "BaseC100  823386  2.526905  10152.78036    66939   344437  132             6   \n",
       "\n",
       "          count  \n",
       "config           \n",
       "BaseC100    132  "
      ]
     },
     "execution_count": 11,
     "metadata": {},
     "output_type": "execute_result"
    }
   ],
   "source": [
    "grouped_df"
   ]
  },
  {
   "cell_type": "code",
   "execution_count": 12,
   "id": "afb3adac-caf2-47e7-b78d-32cf798b9144",
   "metadata": {},
   "outputs": [],
   "source": [
    "grouped_df[[\"sdc\", \"critical_sdc\", \"ker_err\", \"count\"]].to_csv(\"avf.csv\")"
   ]
  },
  {
   "cell_type": "code",
   "execution_count": 13,
   "id": "b1de70a3-885e-4336-b001-1c2477c4516a",
   "metadata": {},
   "outputs": [
    {
     "data": {
      "text/html": [
       "<div>\n",
       "<style scoped>\n",
       "    .dataframe tbody tr th:only-of-type {\n",
       "        vertical-align: middle;\n",
       "    }\n",
       "\n",
       "    .dataframe tbody tr th {\n",
       "        vertical-align: top;\n",
       "    }\n",
       "\n",
       "    .dataframe thead th {\n",
       "        text-align: right;\n",
       "    }\n",
       "</style>\n",
       "<table border=\"1\" class=\"dataframe\">\n",
       "  <thead>\n",
       "    <tr style=\"text-align: right;\">\n",
       "      <th></th>\n",
       "      <th>it</th>\n",
       "      <th>ker_time</th>\n",
       "      <th>acc_time</th>\n",
       "      <th>ker_err</th>\n",
       "      <th>acc_err</th>\n",
       "      <th>sdc</th>\n",
       "      <th>critical_sdc</th>\n",
       "      <th>count</th>\n",
       "    </tr>\n",
       "    <tr>\n",
       "      <th>config</th>\n",
       "      <th></th>\n",
       "      <th></th>\n",
       "      <th></th>\n",
       "      <th></th>\n",
       "      <th></th>\n",
       "      <th></th>\n",
       "      <th></th>\n",
       "      <th></th>\n",
       "    </tr>\n",
       "  </thead>\n",
       "  <tbody>\n",
       "    <tr>\n",
       "      <th>BaseC100</th>\n",
       "      <td>823386</td>\n",
       "      <td>2.526905</td>\n",
       "      <td>10152.78036</td>\n",
       "      <td>66939</td>\n",
       "      <td>344437</td>\n",
       "      <td>132</td>\n",
       "      <td>6</td>\n",
       "      <td>132</td>\n",
       "    </tr>\n",
       "  </tbody>\n",
       "</table>\n",
       "</div>"
      ],
      "text/plain": [
       "              it  ker_time     acc_time  ker_err  acc_err  sdc  critical_sdc  \\\n",
       "config                                                                         \n",
       "BaseC100  823386  2.526905  10152.78036    66939   344437  132             6   \n",
       "\n",
       "          count  \n",
       "config           \n",
       "BaseC100    132  "
      ]
     },
     "execution_count": 13,
     "metadata": {},
     "output_type": "execute_result"
    }
   ],
   "source": [
    "grouped_df"
   ]
  },
  {
   "cell_type": "code",
   "execution_count": null,
   "id": "10801461-cd27-4b6f-91eb-7653b5203c30",
   "metadata": {},
   "outputs": [],
   "source": []
  }
 ],
 "metadata": {
  "kernelspec": {
   "display_name": "Python 3 (ipykernel)",
   "language": "python",
   "name": "python3"
  },
  "language_info": {
   "codemirror_mode": {
    "name": "ipython",
    "version": 3
   },
   "file_extension": ".py",
   "mimetype": "text/x-python",
   "name": "python",
   "nbconvert_exporter": "python",
   "pygments_lexer": "ipython3",
   "version": "3.8.10"
  }
 },
 "nbformat": 4,
 "nbformat_minor": 5
}
