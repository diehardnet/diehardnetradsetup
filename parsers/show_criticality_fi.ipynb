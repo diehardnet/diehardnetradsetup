{
 "cells": [
  {
   "cell_type": "code",
   "execution_count": 22,
   "outputs": [],
   "source": [
    "import pandas as pd"
   ],
   "metadata": {
    "collapsed": false
   }
  },
  {
   "cell_type": "code",
   "execution_count": 23,
   "id": "9b9f9d1c-95f4-407e-ac60-696d80eab5de",
   "metadata": {},
   "outputs": [],
   "source": [
    "df = pd.read_csv(\"../data/parsed_logs_fi.csv\")"
   ]
  },
  {
   "cell_type": "code",
   "execution_count": 24,
   "id": "ad94d243-01d4-4b2f-807f-13f9cffbaeaf",
   "metadata": {},
   "outputs": [
    {
     "data": {
      "text/plain": "array(['c10_res44_test_01_bn-relu_base', 'c10_res44_test_02_bn-relu6',\n       'c10_res44_test_02_bn-relu6_base', 'c10_res44_test_02_relu6-bn',\n       'c10_res44_test_02_relu6-bn_nanfilter',\n       'c10_res44_test_02_gelu6_nans', 'c100_res44_test_01_bn-relu_base',\n       'c100_res44_test_02_bn-relu6', 'c100_res44_test_02_bn-relu6_base',\n       'c100_res44_test_02_relu6-bn',\n       'c100_res44_test_02_relu6-bn_nanfilter',\n       'c100_res44_test_02_gelu6_nans', 'imagenet1k_v2_base'],\n      dtype=object)"
     },
     "execution_count": 24,
     "metadata": {},
     "output_type": "execute_result"
    }
   ],
   "source": [
    "df[\"config\"].unique()"
   ]
  },
  {
   "cell_type": "code",
   "execution_count": 25,
   "id": "67491d89-1160-4a1b-b522-8f9d89a2bcaa",
   "metadata": {},
   "outputs": [],
   "source": [
    "configs = dict(\n",
    "    # Baseline C100\n",
    "    BaseC100=\"c100_res44_test_01_bn-relu_base.yaml\",\n",
    "    # \"c100_res44_test_02_bn-relu6.yaml\",\n",
    "    # Order inversion with relu6 C100\n",
    "    OrderInvC100=\"c100_res44_test_02_relu6-bn.yaml\",\n",
    "    # \"c100_res44_test_02_bn-relu6_base.yaml\",\n",
    "    BaseBnRelu6C100=\"c100_res44_test_02_bn-relu6_base.yaml\",\n",
    "    BnRelu6C100=\"c100_res44_test_02_bn-relu6.yaml\",\n",
    "    # Order inversion + nan filter + Relu6\n",
    "    OrderINanRelu6C100=\"c100_res44_test_02_relu6-bn_nanfilter.yaml\",\n",
    "    # Gelu and nan C100\n",
    "    GeluNanC100=\"c100_res44_test_02_gelu6_nans.yaml\",\n",
    "\n",
    "    # Baseline C10\n",
    "    BaseC10=\"c10_res44_test_01_bn-relu_base.yaml\",\n",
    "    # \"c10_res44_test_02_bn-relu6.yaml\",\n",
    "    BnRelu6C10=\"c10_res44_test_02_bn-relu6.yaml\",\n",
    "    # Order inversion with relu6 C10\n",
    "    OrderInvC10=\"c10_res44_test_02_relu6-bn.yaml\",\n",
    "    # \"c10_res44_test_02_bn-relu6_base.yaml\",\n",
    "    BaseBnRelu6C10=\"c10_res44_test_02_bn-relu6_base.yaml\",\n",
    "    OrderINanRelu6C10=\"c10_res44_test_02_relu6-bn_nanfilter.yaml\",\n",
    "    # Gelu and nan C10\n",
    "    GeluNanC10=\"c10_res44_test_02_gelu6_nans.yaml\",\n",
    "\n",
    "    MobileNetC100=\"cifar100_mobilenetv2_x1_4.yaml\",\n",
    "    MobileNetC10=\"cifar10_mobilenetv2_x1_4.yaml\",\n",
    "\n",
    "    Resnet50ImagenetBase=\"imagenet1k_v2_base\"\n",
    ")\n",
    "configs_inv = {v.replace(\".yaml\", \"\"): k for k, v in configs.items()}"
   ]
  },
  {
   "cell_type": "code",
   "execution_count": 26,
   "id": "1a98e0d8-9ed6-40f1-9116-d658f168c767",
   "metadata": {},
   "outputs": [],
   "source": [
    "configs_df = pd.DataFrame([configs]).T.reset_index().rename(columns={0: \"YAML\", \"index\": \"config\"})"
   ]
  },
  {
   "cell_type": "code",
   "execution_count": 27,
   "id": "c6929a77-35e1-4d1f-bfbf-1f1d10515d98",
   "metadata": {},
   "outputs": [
    {
     "data": {
      "text/plain": "                  config                                        YAML\n0               BaseC100        c100_res44_test_01_bn-relu_base.yaml\n1           OrderInvC100            c100_res44_test_02_relu6-bn.yaml\n2        BaseBnRelu6C100       c100_res44_test_02_bn-relu6_base.yaml\n3            BnRelu6C100            c100_res44_test_02_bn-relu6.yaml\n4     OrderINanRelu6C100  c100_res44_test_02_relu6-bn_nanfilter.yaml\n5            GeluNanC100          c100_res44_test_02_gelu6_nans.yaml\n6                BaseC10         c10_res44_test_01_bn-relu_base.yaml\n7             BnRelu6C10             c10_res44_test_02_bn-relu6.yaml\n8            OrderInvC10             c10_res44_test_02_relu6-bn.yaml\n9         BaseBnRelu6C10        c10_res44_test_02_bn-relu6_base.yaml\n10     OrderINanRelu6C10   c10_res44_test_02_relu6-bn_nanfilter.yaml\n11            GeluNanC10           c10_res44_test_02_gelu6_nans.yaml\n12         MobileNetC100              cifar100_mobilenetv2_x1_4.yaml\n13          MobileNetC10               cifar10_mobilenetv2_x1_4.yaml\n14  Resnet50ImagenetBase                          imagenet1k_v2_base",
      "text/html": "<div>\n<style scoped>\n    .dataframe tbody tr th:only-of-type {\n        vertical-align: middle;\n    }\n\n    .dataframe tbody tr th {\n        vertical-align: top;\n    }\n\n    .dataframe thead th {\n        text-align: right;\n    }\n</style>\n<table border=\"1\" class=\"dataframe\">\n  <thead>\n    <tr style=\"text-align: right;\">\n      <th></th>\n      <th>config</th>\n      <th>YAML</th>\n    </tr>\n  </thead>\n  <tbody>\n    <tr>\n      <th>0</th>\n      <td>BaseC100</td>\n      <td>c100_res44_test_01_bn-relu_base.yaml</td>\n    </tr>\n    <tr>\n      <th>1</th>\n      <td>OrderInvC100</td>\n      <td>c100_res44_test_02_relu6-bn.yaml</td>\n    </tr>\n    <tr>\n      <th>2</th>\n      <td>BaseBnRelu6C100</td>\n      <td>c100_res44_test_02_bn-relu6_base.yaml</td>\n    </tr>\n    <tr>\n      <th>3</th>\n      <td>BnRelu6C100</td>\n      <td>c100_res44_test_02_bn-relu6.yaml</td>\n    </tr>\n    <tr>\n      <th>4</th>\n      <td>OrderINanRelu6C100</td>\n      <td>c100_res44_test_02_relu6-bn_nanfilter.yaml</td>\n    </tr>\n    <tr>\n      <th>5</th>\n      <td>GeluNanC100</td>\n      <td>c100_res44_test_02_gelu6_nans.yaml</td>\n    </tr>\n    <tr>\n      <th>6</th>\n      <td>BaseC10</td>\n      <td>c10_res44_test_01_bn-relu_base.yaml</td>\n    </tr>\n    <tr>\n      <th>7</th>\n      <td>BnRelu6C10</td>\n      <td>c10_res44_test_02_bn-relu6.yaml</td>\n    </tr>\n    <tr>\n      <th>8</th>\n      <td>OrderInvC10</td>\n      <td>c10_res44_test_02_relu6-bn.yaml</td>\n    </tr>\n    <tr>\n      <th>9</th>\n      <td>BaseBnRelu6C10</td>\n      <td>c10_res44_test_02_bn-relu6_base.yaml</td>\n    </tr>\n    <tr>\n      <th>10</th>\n      <td>OrderINanRelu6C10</td>\n      <td>c10_res44_test_02_relu6-bn_nanfilter.yaml</td>\n    </tr>\n    <tr>\n      <th>11</th>\n      <td>GeluNanC10</td>\n      <td>c10_res44_test_02_gelu6_nans.yaml</td>\n    </tr>\n    <tr>\n      <th>12</th>\n      <td>MobileNetC100</td>\n      <td>cifar100_mobilenetv2_x1_4.yaml</td>\n    </tr>\n    <tr>\n      <th>13</th>\n      <td>MobileNetC10</td>\n      <td>cifar10_mobilenetv2_x1_4.yaml</td>\n    </tr>\n    <tr>\n      <th>14</th>\n      <td>Resnet50ImagenetBase</td>\n      <td>imagenet1k_v2_base</td>\n    </tr>\n  </tbody>\n</table>\n</div>"
     },
     "execution_count": 27,
     "metadata": {},
     "output_type": "execute_result"
    }
   ],
   "source": [
    "configs_df"
   ]
  },
  {
   "cell_type": "code",
   "execution_count": 28,
   "id": "46d5c87d-df10-4fb2-b355-67a24b1d2c4a",
   "metadata": {},
   "outputs": [],
   "source": [
    "df[\"config\"] = df[\"config\"].apply(lambda x: configs_inv[x])"
   ]
  },
  {
   "cell_type": "code",
   "execution_count": 29,
   "id": "61d0d008-d4bd-4efb-a2d3-9c82d84c719b",
   "metadata": {},
   "outputs": [],
   "source": [
    "df[\"count\"] = 1"
   ]
  },
  {
   "cell_type": "code",
   "execution_count": 30,
   "outputs": [
    {
     "data": {
      "text/plain": "                     config  ecc         hostname         fi_model group  \\\n0                   BaseC10  OFF  caroltitaninria  FLIP_SINGLE_BIT  fp32   \n1                   BaseC10  OFF  caroltitaninria  FLIP_SINGLE_BIT  fp32   \n4                   BaseC10  OFF  caroltitaninria  FLIP_SINGLE_BIT  fp32   \n5                   BaseC10  OFF  caroltitaninria  FLIP_SINGLE_BIT  fp32   \n6                   BaseC10  OFF  caroltitaninria  FLIP_SINGLE_BIT  fp32   \n...                     ...  ...              ...              ...   ...   \n39855  Resnet50ImagenetBase  OFF  caroltitaninria  WARP_ZERO_VALUE  fp32   \n39862  Resnet50ImagenetBase  OFF  caroltitaninria  WARP_ZERO_VALUE  fp32   \n39904  Resnet50ImagenetBase  OFF  caroltitaninria  WARP_ZERO_VALUE  fp32   \n39939  Resnet50ImagenetBase  OFF  caroltitaninria  WARP_ZERO_VALUE  fp32   \n39955  Resnet50ImagenetBase  OFF  caroltitaninria  WARP_ZERO_VALUE  fp32   \n\n       has_end  it  ker_time  acc_time  ker_err  acc_err  sdc  critical_sdc  \\\n0            1   0       0.0       0.0        0        0  0.0           0.0   \n1            1   0       0.0       0.0        0        0  0.0           0.0   \n4            1   0       0.0       0.0        0        0  0.0           0.0   \n5            1   0       0.0       0.0        0        0  0.0           0.0   \n6            1   0       0.0       0.0        0        0  0.0           0.0   \n...        ...  ..       ...       ...      ...      ...  ...           ...   \n39855        1   0       0.0       0.0        0        0  0.0           0.0   \n39862        1   0       0.0       0.0        0        0  0.0           0.0   \n39904        1   0       0.0       0.0        0        0  0.0           0.0   \n39939        1   0       0.0       0.0        0        0  0.0           0.0   \n39955        1   0       0.0       0.0        0        0  0.0           0.0   \n\n       count  \n0          1  \n1          1  \n4          1  \n5          1  \n6          1  \n...      ...  \n39855      1  \n39862      1  \n39904      1  \n39939      1  \n39955      1  \n\n[18328 rows x 14 columns]",
      "text/html": "<div>\n<style scoped>\n    .dataframe tbody tr th:only-of-type {\n        vertical-align: middle;\n    }\n\n    .dataframe tbody tr th {\n        vertical-align: top;\n    }\n\n    .dataframe thead th {\n        text-align: right;\n    }\n</style>\n<table border=\"1\" class=\"dataframe\">\n  <thead>\n    <tr style=\"text-align: right;\">\n      <th></th>\n      <th>config</th>\n      <th>ecc</th>\n      <th>hostname</th>\n      <th>fi_model</th>\n      <th>group</th>\n      <th>has_end</th>\n      <th>it</th>\n      <th>ker_time</th>\n      <th>acc_time</th>\n      <th>ker_err</th>\n      <th>acc_err</th>\n      <th>sdc</th>\n      <th>critical_sdc</th>\n      <th>count</th>\n    </tr>\n  </thead>\n  <tbody>\n    <tr>\n      <th>0</th>\n      <td>BaseC10</td>\n      <td>OFF</td>\n      <td>caroltitaninria</td>\n      <td>FLIP_SINGLE_BIT</td>\n      <td>fp32</td>\n      <td>1</td>\n      <td>0</td>\n      <td>0.0</td>\n      <td>0.0</td>\n      <td>0</td>\n      <td>0</td>\n      <td>0.0</td>\n      <td>0.0</td>\n      <td>1</td>\n    </tr>\n    <tr>\n      <th>1</th>\n      <td>BaseC10</td>\n      <td>OFF</td>\n      <td>caroltitaninria</td>\n      <td>FLIP_SINGLE_BIT</td>\n      <td>fp32</td>\n      <td>1</td>\n      <td>0</td>\n      <td>0.0</td>\n      <td>0.0</td>\n      <td>0</td>\n      <td>0</td>\n      <td>0.0</td>\n      <td>0.0</td>\n      <td>1</td>\n    </tr>\n    <tr>\n      <th>4</th>\n      <td>BaseC10</td>\n      <td>OFF</td>\n      <td>caroltitaninria</td>\n      <td>FLIP_SINGLE_BIT</td>\n      <td>fp32</td>\n      <td>1</td>\n      <td>0</td>\n      <td>0.0</td>\n      <td>0.0</td>\n      <td>0</td>\n      <td>0</td>\n      <td>0.0</td>\n      <td>0.0</td>\n      <td>1</td>\n    </tr>\n    <tr>\n      <th>5</th>\n      <td>BaseC10</td>\n      <td>OFF</td>\n      <td>caroltitaninria</td>\n      <td>FLIP_SINGLE_BIT</td>\n      <td>fp32</td>\n      <td>1</td>\n      <td>0</td>\n      <td>0.0</td>\n      <td>0.0</td>\n      <td>0</td>\n      <td>0</td>\n      <td>0.0</td>\n      <td>0.0</td>\n      <td>1</td>\n    </tr>\n    <tr>\n      <th>6</th>\n      <td>BaseC10</td>\n      <td>OFF</td>\n      <td>caroltitaninria</td>\n      <td>FLIP_SINGLE_BIT</td>\n      <td>fp32</td>\n      <td>1</td>\n      <td>0</td>\n      <td>0.0</td>\n      <td>0.0</td>\n      <td>0</td>\n      <td>0</td>\n      <td>0.0</td>\n      <td>0.0</td>\n      <td>1</td>\n    </tr>\n    <tr>\n      <th>...</th>\n      <td>...</td>\n      <td>...</td>\n      <td>...</td>\n      <td>...</td>\n      <td>...</td>\n      <td>...</td>\n      <td>...</td>\n      <td>...</td>\n      <td>...</td>\n      <td>...</td>\n      <td>...</td>\n      <td>...</td>\n      <td>...</td>\n      <td>...</td>\n    </tr>\n    <tr>\n      <th>39855</th>\n      <td>Resnet50ImagenetBase</td>\n      <td>OFF</td>\n      <td>caroltitaninria</td>\n      <td>WARP_ZERO_VALUE</td>\n      <td>fp32</td>\n      <td>1</td>\n      <td>0</td>\n      <td>0.0</td>\n      <td>0.0</td>\n      <td>0</td>\n      <td>0</td>\n      <td>0.0</td>\n      <td>0.0</td>\n      <td>1</td>\n    </tr>\n    <tr>\n      <th>39862</th>\n      <td>Resnet50ImagenetBase</td>\n      <td>OFF</td>\n      <td>caroltitaninria</td>\n      <td>WARP_ZERO_VALUE</td>\n      <td>fp32</td>\n      <td>1</td>\n      <td>0</td>\n      <td>0.0</td>\n      <td>0.0</td>\n      <td>0</td>\n      <td>0</td>\n      <td>0.0</td>\n      <td>0.0</td>\n      <td>1</td>\n    </tr>\n    <tr>\n      <th>39904</th>\n      <td>Resnet50ImagenetBase</td>\n      <td>OFF</td>\n      <td>caroltitaninria</td>\n      <td>WARP_ZERO_VALUE</td>\n      <td>fp32</td>\n      <td>1</td>\n      <td>0</td>\n      <td>0.0</td>\n      <td>0.0</td>\n      <td>0</td>\n      <td>0</td>\n      <td>0.0</td>\n      <td>0.0</td>\n      <td>1</td>\n    </tr>\n    <tr>\n      <th>39939</th>\n      <td>Resnet50ImagenetBase</td>\n      <td>OFF</td>\n      <td>caroltitaninria</td>\n      <td>WARP_ZERO_VALUE</td>\n      <td>fp32</td>\n      <td>1</td>\n      <td>0</td>\n      <td>0.0</td>\n      <td>0.0</td>\n      <td>0</td>\n      <td>0</td>\n      <td>0.0</td>\n      <td>0.0</td>\n      <td>1</td>\n    </tr>\n    <tr>\n      <th>39955</th>\n      <td>Resnet50ImagenetBase</td>\n      <td>OFF</td>\n      <td>caroltitaninria</td>\n      <td>WARP_ZERO_VALUE</td>\n      <td>fp32</td>\n      <td>1</td>\n      <td>0</td>\n      <td>0.0</td>\n      <td>0.0</td>\n      <td>0</td>\n      <td>0</td>\n      <td>0.0</td>\n      <td>0.0</td>\n      <td>1</td>\n    </tr>\n  </tbody>\n</table>\n<p>18328 rows × 14 columns</p>\n</div>"
     },
     "execution_count": 30,
     "metadata": {},
     "output_type": "execute_result"
    }
   ],
   "source": [
    "df[df[\"sdc\"] == 0]"
   ],
   "metadata": {
    "collapsed": false
   }
  },
  {
   "cell_type": "code",
   "execution_count": 31,
   "id": "b1de70a3-885e-4336-b001-1c2477c4516a",
   "metadata": {},
   "outputs": [],
   "source": [
    "to_save = df.groupby([\"hostname\", \"config\", \"fi_model\"]).sum()[\n",
    "    [\"has_end\", \"sdc\", \"critical_sdc\", \"count\"]].reset_index()"
   ]
  },
  {
   "cell_type": "code",
   "execution_count": 32,
   "id": "10801461-cd27-4b6f-91eb-7653b5203c30",
   "metadata": {},
   "outputs": [],
   "source": [
    "NEW_NAMES = dict(\n",
    "    # Baseline C100\n",
    "    BaseC100=\"Base\",\n",
    "    # \"c100_res44_test_02_bn-relu6.yaml\",\n",
    "    # Order inversion with relu6 C100\n",
    "    OrderInvC100=\"OrdInv\",\n",
    "    # \"c100_res44_test_02_bn-relu6_base.yaml\",\n",
    "    BaseBnRelu6C100=\"BaseR6\",\n",
    "    BnRelu6C100=\"BnR6\",\n",
    "    # Order inversion + nan filter + Relu6\n",
    "    OrderINanRelu6C100=\"OrdInvNanR6\",\n",
    "    # Gelu and nan C100\n",
    "    GeluNanC100=\"Gelu6Nan\",\n",
    ")\n",
    "NEW_NAMES.update({k.replace(\"C100\", \"C10\"): v for k, v in NEW_NAMES.items()})\n",
    "NEW_NAMES[\"Resnet50ImagenetBase\"] = \"Resnet50ImagenetBase\""
   ]
  },
  {
   "cell_type": "code",
   "execution_count": 33,
   "outputs": [
    {
     "data": {
      "text/plain": "           hostname                config           fi_model  has_end    sdc  \\\n0   caroltitaninria        BaseBnRelu6C10    FLIP_SINGLE_BIT      400  124.0   \n1   caroltitaninria        BaseBnRelu6C10       RANDOM_VALUE      400  179.0   \n2   caroltitaninria        BaseBnRelu6C10  WARP_RANDOM_VALUE      400  246.0   \n3   caroltitaninria        BaseBnRelu6C10    WARP_ZERO_VALUE      400  251.0   \n4   caroltitaninria        BaseBnRelu6C10         ZERO_VALUE      400  158.0   \n..              ...                   ...                ...      ...    ...   \n95     caroltitantn  Resnet50ImagenetBase    FLIP_SINGLE_BIT      400  166.0   \n96     caroltitantn  Resnet50ImagenetBase       RANDOM_VALUE      400  237.0   \n97     caroltitantn  Resnet50ImagenetBase  WARP_RANDOM_VALUE      400  382.0   \n98     caroltitantn  Resnet50ImagenetBase    WARP_ZERO_VALUE      400  385.0   \n99     caroltitantn  Resnet50ImagenetBase         ZERO_VALUE      400  214.0   \n\n    critical_sdc  count  \n0            1.0    400  \n1            2.0    400  \n2           12.0    400  \n3            0.0    400  \n4            0.0    400  \n..           ...    ...  \n95           9.0    400  \n96          95.0    400  \n97         256.0    400  \n98           1.0    400  \n99           0.0    400  \n\n[100 rows x 7 columns]",
      "text/html": "<div>\n<style scoped>\n    .dataframe tbody tr th:only-of-type {\n        vertical-align: middle;\n    }\n\n    .dataframe tbody tr th {\n        vertical-align: top;\n    }\n\n    .dataframe thead th {\n        text-align: right;\n    }\n</style>\n<table border=\"1\" class=\"dataframe\">\n  <thead>\n    <tr style=\"text-align: right;\">\n      <th></th>\n      <th>hostname</th>\n      <th>config</th>\n      <th>fi_model</th>\n      <th>has_end</th>\n      <th>sdc</th>\n      <th>critical_sdc</th>\n      <th>count</th>\n    </tr>\n  </thead>\n  <tbody>\n    <tr>\n      <th>0</th>\n      <td>caroltitaninria</td>\n      <td>BaseBnRelu6C10</td>\n      <td>FLIP_SINGLE_BIT</td>\n      <td>400</td>\n      <td>124.0</td>\n      <td>1.0</td>\n      <td>400</td>\n    </tr>\n    <tr>\n      <th>1</th>\n      <td>caroltitaninria</td>\n      <td>BaseBnRelu6C10</td>\n      <td>RANDOM_VALUE</td>\n      <td>400</td>\n      <td>179.0</td>\n      <td>2.0</td>\n      <td>400</td>\n    </tr>\n    <tr>\n      <th>2</th>\n      <td>caroltitaninria</td>\n      <td>BaseBnRelu6C10</td>\n      <td>WARP_RANDOM_VALUE</td>\n      <td>400</td>\n      <td>246.0</td>\n      <td>12.0</td>\n      <td>400</td>\n    </tr>\n    <tr>\n      <th>3</th>\n      <td>caroltitaninria</td>\n      <td>BaseBnRelu6C10</td>\n      <td>WARP_ZERO_VALUE</td>\n      <td>400</td>\n      <td>251.0</td>\n      <td>0.0</td>\n      <td>400</td>\n    </tr>\n    <tr>\n      <th>4</th>\n      <td>caroltitaninria</td>\n      <td>BaseBnRelu6C10</td>\n      <td>ZERO_VALUE</td>\n      <td>400</td>\n      <td>158.0</td>\n      <td>0.0</td>\n      <td>400</td>\n    </tr>\n    <tr>\n      <th>...</th>\n      <td>...</td>\n      <td>...</td>\n      <td>...</td>\n      <td>...</td>\n      <td>...</td>\n      <td>...</td>\n      <td>...</td>\n    </tr>\n    <tr>\n      <th>95</th>\n      <td>caroltitantn</td>\n      <td>Resnet50ImagenetBase</td>\n      <td>FLIP_SINGLE_BIT</td>\n      <td>400</td>\n      <td>166.0</td>\n      <td>9.0</td>\n      <td>400</td>\n    </tr>\n    <tr>\n      <th>96</th>\n      <td>caroltitantn</td>\n      <td>Resnet50ImagenetBase</td>\n      <td>RANDOM_VALUE</td>\n      <td>400</td>\n      <td>237.0</td>\n      <td>95.0</td>\n      <td>400</td>\n    </tr>\n    <tr>\n      <th>97</th>\n      <td>caroltitantn</td>\n      <td>Resnet50ImagenetBase</td>\n      <td>WARP_RANDOM_VALUE</td>\n      <td>400</td>\n      <td>382.0</td>\n      <td>256.0</td>\n      <td>400</td>\n    </tr>\n    <tr>\n      <th>98</th>\n      <td>caroltitantn</td>\n      <td>Resnet50ImagenetBase</td>\n      <td>WARP_ZERO_VALUE</td>\n      <td>400</td>\n      <td>385.0</td>\n      <td>1.0</td>\n      <td>400</td>\n    </tr>\n    <tr>\n      <th>99</th>\n      <td>caroltitantn</td>\n      <td>Resnet50ImagenetBase</td>\n      <td>ZERO_VALUE</td>\n      <td>400</td>\n      <td>214.0</td>\n      <td>0.0</td>\n      <td>400</td>\n    </tr>\n  </tbody>\n</table>\n<p>100 rows × 7 columns</p>\n</div>"
     },
     "execution_count": 33,
     "metadata": {},
     "output_type": "execute_result"
    }
   ],
   "source": [
    "to_save"
   ],
   "metadata": {
    "collapsed": false
   }
  },
  {
   "cell_type": "code",
   "execution_count": 34,
   "outputs": [],
   "source": [
    "FM_NAMES = dict(FLIP_SINGLE_BIT=\"Single Bit\", ZERO_VALUE=\"Zero Val\", WARP_ZERO_VALUE=\"Warp Z.V.\",\n",
    "                RANDOM_VALUE=\"Rand Val\", WARP_RANDOM_VALUE=\"Warp R. V.\")"
   ],
   "metadata": {
    "collapsed": false
   }
  },
  {
   "cell_type": "code",
   "execution_count": 35,
   "outputs": [],
   "source": [
    "def set_dataset(x):\n",
    "    if \"C100\" in x:\n",
    "        return \"Cifar 100\"\n",
    "    elif \"Imagenet\" in x:\n",
    "        return \"Imagenet\"\n",
    "    else:\n",
    "        return \"Cifar 10\""
   ],
   "metadata": {
    "collapsed": false
   }
  },
  {
   "cell_type": "code",
   "execution_count": 36,
   "outputs": [],
   "source": [
    "to_save[\"dataset\"] = to_save[\"config\"].apply(set_dataset)\n",
    "to_save[\"config\"] = to_save[\"config\"].apply(lambda x: NEW_NAMES[x])\n",
    "to_save[\"fi_model\"] = to_save[\"fi_model\"].apply(lambda x: FM_NAMES[x])\n"
   ],
   "metadata": {
    "collapsed": false
   }
  },
  {
   "cell_type": "code",
   "execution_count": 37,
   "outputs": [
    {
     "data": {
      "text/plain": "           hostname                config    fi_model  has_end    sdc  \\\n0   caroltitaninria                BaseR6  Single Bit      400  124.0   \n1   caroltitaninria                BaseR6    Rand Val      400  179.0   \n2   caroltitaninria                BaseR6  Warp R. V.      400  246.0   \n3   caroltitaninria                BaseR6   Warp Z.V.      400  251.0   \n4   caroltitaninria                BaseR6    Zero Val      400  158.0   \n..              ...                   ...         ...      ...    ...   \n95     caroltitantn  Resnet50ImagenetBase  Single Bit      400  166.0   \n96     caroltitantn  Resnet50ImagenetBase    Rand Val      400  237.0   \n97     caroltitantn  Resnet50ImagenetBase  Warp R. V.      400  382.0   \n98     caroltitantn  Resnet50ImagenetBase   Warp Z.V.      400  385.0   \n99     caroltitantn  Resnet50ImagenetBase    Zero Val      400  214.0   \n\n    critical_sdc  count   dataset  \n0            1.0    400  Cifar 10  \n1            2.0    400  Cifar 10  \n2           12.0    400  Cifar 10  \n3            0.0    400  Cifar 10  \n4            0.0    400  Cifar 10  \n..           ...    ...       ...  \n95           9.0    400  Imagenet  \n96          95.0    400  Imagenet  \n97         256.0    400  Imagenet  \n98           1.0    400  Imagenet  \n99           0.0    400  Imagenet  \n\n[100 rows x 8 columns]",
      "text/html": "<div>\n<style scoped>\n    .dataframe tbody tr th:only-of-type {\n        vertical-align: middle;\n    }\n\n    .dataframe tbody tr th {\n        vertical-align: top;\n    }\n\n    .dataframe thead th {\n        text-align: right;\n    }\n</style>\n<table border=\"1\" class=\"dataframe\">\n  <thead>\n    <tr style=\"text-align: right;\">\n      <th></th>\n      <th>hostname</th>\n      <th>config</th>\n      <th>fi_model</th>\n      <th>has_end</th>\n      <th>sdc</th>\n      <th>critical_sdc</th>\n      <th>count</th>\n      <th>dataset</th>\n    </tr>\n  </thead>\n  <tbody>\n    <tr>\n      <th>0</th>\n      <td>caroltitaninria</td>\n      <td>BaseR6</td>\n      <td>Single Bit</td>\n      <td>400</td>\n      <td>124.0</td>\n      <td>1.0</td>\n      <td>400</td>\n      <td>Cifar 10</td>\n    </tr>\n    <tr>\n      <th>1</th>\n      <td>caroltitaninria</td>\n      <td>BaseR6</td>\n      <td>Rand Val</td>\n      <td>400</td>\n      <td>179.0</td>\n      <td>2.0</td>\n      <td>400</td>\n      <td>Cifar 10</td>\n    </tr>\n    <tr>\n      <th>2</th>\n      <td>caroltitaninria</td>\n      <td>BaseR6</td>\n      <td>Warp R. V.</td>\n      <td>400</td>\n      <td>246.0</td>\n      <td>12.0</td>\n      <td>400</td>\n      <td>Cifar 10</td>\n    </tr>\n    <tr>\n      <th>3</th>\n      <td>caroltitaninria</td>\n      <td>BaseR6</td>\n      <td>Warp Z.V.</td>\n      <td>400</td>\n      <td>251.0</td>\n      <td>0.0</td>\n      <td>400</td>\n      <td>Cifar 10</td>\n    </tr>\n    <tr>\n      <th>4</th>\n      <td>caroltitaninria</td>\n      <td>BaseR6</td>\n      <td>Zero Val</td>\n      <td>400</td>\n      <td>158.0</td>\n      <td>0.0</td>\n      <td>400</td>\n      <td>Cifar 10</td>\n    </tr>\n    <tr>\n      <th>...</th>\n      <td>...</td>\n      <td>...</td>\n      <td>...</td>\n      <td>...</td>\n      <td>...</td>\n      <td>...</td>\n      <td>...</td>\n      <td>...</td>\n    </tr>\n    <tr>\n      <th>95</th>\n      <td>caroltitantn</td>\n      <td>Resnet50ImagenetBase</td>\n      <td>Single Bit</td>\n      <td>400</td>\n      <td>166.0</td>\n      <td>9.0</td>\n      <td>400</td>\n      <td>Imagenet</td>\n    </tr>\n    <tr>\n      <th>96</th>\n      <td>caroltitantn</td>\n      <td>Resnet50ImagenetBase</td>\n      <td>Rand Val</td>\n      <td>400</td>\n      <td>237.0</td>\n      <td>95.0</td>\n      <td>400</td>\n      <td>Imagenet</td>\n    </tr>\n    <tr>\n      <th>97</th>\n      <td>caroltitantn</td>\n      <td>Resnet50ImagenetBase</td>\n      <td>Warp R. V.</td>\n      <td>400</td>\n      <td>382.0</td>\n      <td>256.0</td>\n      <td>400</td>\n      <td>Imagenet</td>\n    </tr>\n    <tr>\n      <th>98</th>\n      <td>caroltitantn</td>\n      <td>Resnet50ImagenetBase</td>\n      <td>Warp Z.V.</td>\n      <td>400</td>\n      <td>385.0</td>\n      <td>1.0</td>\n      <td>400</td>\n      <td>Imagenet</td>\n    </tr>\n    <tr>\n      <th>99</th>\n      <td>caroltitantn</td>\n      <td>Resnet50ImagenetBase</td>\n      <td>Zero Val</td>\n      <td>400</td>\n      <td>214.0</td>\n      <td>0.0</td>\n      <td>400</td>\n      <td>Imagenet</td>\n    </tr>\n  </tbody>\n</table>\n<p>100 rows × 8 columns</p>\n</div>"
     },
     "execution_count": 37,
     "metadata": {},
     "output_type": "execute_result"
    }
   ],
   "source": [
    "to_save"
   ],
   "metadata": {
    "collapsed": false
   }
  },
  {
   "cell_type": "code",
   "execution_count": 38,
   "outputs": [],
   "source": [
    "to_save_tail = to_save.groupby([\"hostname\", \"dataset\", \"config\"]).sum().reset_index()"
   ],
   "metadata": {
    "collapsed": false
   }
  },
  {
   "cell_type": "code",
   "execution_count": 39,
   "outputs": [],
   "source": [
    "to_save_tail[\"fi_model\"] = \"Overall\""
   ],
   "metadata": {
    "collapsed": false
   }
  },
  {
   "cell_type": "code",
   "execution_count": 40,
   "outputs": [],
   "source": [
    "to_save_gp = pd.concat([to_save, to_save_tail])"
   ],
   "metadata": {
    "collapsed": false
   }
  },
  {
   "cell_type": "code",
   "execution_count": 41,
   "outputs": [],
   "source": [
    "to_save_gp = to_save_gp.groupby([\"hostname\", \"dataset\", \"fi_model\", \"config\"]).sum()"
   ],
   "metadata": {
    "collapsed": false
   }
  },
  {
   "cell_type": "code",
   "execution_count": 42,
   "outputs": [],
   "source": [
    "to_save_gp[\"avf sdc\"] = (to_save_gp[\"sdc\"] - to_save_gp[\"critical_sdc\"]) / to_save_gp[\"count\"]\n",
    "to_save_gp[\"avf critical sdc\"] = to_save_gp[\"critical_sdc\"] / to_save_gp[\"count\"]"
   ],
   "metadata": {
    "collapsed": false
   }
  },
  {
   "cell_type": "code",
   "execution_count": 43,
   "outputs": [
    {
     "data": {
      "text/plain": "                                                          has_end     sdc  \\\nhostname        dataset  fi_model   config                                  \ncaroltitaninria Cifar 10 Overall    Base                     2000   927.0   \n                                    BaseR6                   2000   958.0   \n                                    BnR6                     2000   904.0   \n                                    Gelu6Nan                 2000  1131.0   \n                                    OrdInv                   2000   855.0   \n...                                                           ...     ...   \ncaroltitantn    Imagenet Rand Val   Resnet50ImagenetBase      400   237.0   \n                         Single Bit Resnet50ImagenetBase      400   166.0   \n                         Warp R. V. Resnet50ImagenetBase      400   382.0   \n                         Warp Z.V.  Resnet50ImagenetBase      400   385.0   \n                         Zero Val   Resnet50ImagenetBase      400   214.0   \n\n                                                          critical_sdc  count  \\\nhostname        dataset  fi_model   config                                      \ncaroltitaninria Cifar 10 Overall    Base                         213.0   2000   \n                                    BaseR6                        15.0   2000   \n                                    BnR6                          11.0   2000   \n                                    Gelu6Nan                      15.0   2000   \n                                    OrdInv                         7.0   2000   \n...                                                                ...    ...   \ncaroltitantn    Imagenet Rand Val   Resnet50ImagenetBase          95.0    400   \n                         Single Bit Resnet50ImagenetBase           9.0    400   \n                         Warp R. V. Resnet50ImagenetBase         256.0    400   \n                         Warp Z.V.  Resnet50ImagenetBase           1.0    400   \n                         Zero Val   Resnet50ImagenetBase           0.0    400   \n\n                                                          avf sdc  \\\nhostname        dataset  fi_model   config                          \ncaroltitaninria Cifar 10 Overall    Base                   0.3570   \n                                    BaseR6                 0.4715   \n                                    BnR6                   0.4465   \n                                    Gelu6Nan               0.5580   \n                                    OrdInv                 0.4240   \n...                                                           ...   \ncaroltitantn    Imagenet Rand Val   Resnet50ImagenetBase   0.3550   \n                         Single Bit Resnet50ImagenetBase   0.3925   \n                         Warp R. V. Resnet50ImagenetBase   0.3150   \n                         Warp Z.V.  Resnet50ImagenetBase   0.9600   \n                         Zero Val   Resnet50ImagenetBase   0.5350   \n\n                                                          avf critical sdc  \nhostname        dataset  fi_model   config                                  \ncaroltitaninria Cifar 10 Overall    Base                            0.1065  \n                                    BaseR6                          0.0075  \n                                    BnR6                            0.0055  \n                                    Gelu6Nan                        0.0075  \n                                    OrdInv                          0.0035  \n...                                                                    ...  \ncaroltitantn    Imagenet Rand Val   Resnet50ImagenetBase            0.2375  \n                         Single Bit Resnet50ImagenetBase            0.0225  \n                         Warp R. V. Resnet50ImagenetBase            0.6400  \n                         Warp Z.V.  Resnet50ImagenetBase            0.0025  \n                         Zero Val   Resnet50ImagenetBase            0.0000  \n\n[120 rows x 6 columns]",
      "text/html": "<div>\n<style scoped>\n    .dataframe tbody tr th:only-of-type {\n        vertical-align: middle;\n    }\n\n    .dataframe tbody tr th {\n        vertical-align: top;\n    }\n\n    .dataframe thead th {\n        text-align: right;\n    }\n</style>\n<table border=\"1\" class=\"dataframe\">\n  <thead>\n    <tr style=\"text-align: right;\">\n      <th></th>\n      <th></th>\n      <th></th>\n      <th></th>\n      <th>has_end</th>\n      <th>sdc</th>\n      <th>critical_sdc</th>\n      <th>count</th>\n      <th>avf sdc</th>\n      <th>avf critical sdc</th>\n    </tr>\n    <tr>\n      <th>hostname</th>\n      <th>dataset</th>\n      <th>fi_model</th>\n      <th>config</th>\n      <th></th>\n      <th></th>\n      <th></th>\n      <th></th>\n      <th></th>\n      <th></th>\n    </tr>\n  </thead>\n  <tbody>\n    <tr>\n      <th rowspan=\"5\" valign=\"top\">caroltitaninria</th>\n      <th rowspan=\"5\" valign=\"top\">Cifar 10</th>\n      <th rowspan=\"5\" valign=\"top\">Overall</th>\n      <th>Base</th>\n      <td>2000</td>\n      <td>927.0</td>\n      <td>213.0</td>\n      <td>2000</td>\n      <td>0.3570</td>\n      <td>0.1065</td>\n    </tr>\n    <tr>\n      <th>BaseR6</th>\n      <td>2000</td>\n      <td>958.0</td>\n      <td>15.0</td>\n      <td>2000</td>\n      <td>0.4715</td>\n      <td>0.0075</td>\n    </tr>\n    <tr>\n      <th>BnR6</th>\n      <td>2000</td>\n      <td>904.0</td>\n      <td>11.0</td>\n      <td>2000</td>\n      <td>0.4465</td>\n      <td>0.0055</td>\n    </tr>\n    <tr>\n      <th>Gelu6Nan</th>\n      <td>2000</td>\n      <td>1131.0</td>\n      <td>15.0</td>\n      <td>2000</td>\n      <td>0.5580</td>\n      <td>0.0075</td>\n    </tr>\n    <tr>\n      <th>OrdInv</th>\n      <td>2000</td>\n      <td>855.0</td>\n      <td>7.0</td>\n      <td>2000</td>\n      <td>0.4240</td>\n      <td>0.0035</td>\n    </tr>\n    <tr>\n      <th>...</th>\n      <th>...</th>\n      <th>...</th>\n      <th>...</th>\n      <td>...</td>\n      <td>...</td>\n      <td>...</td>\n      <td>...</td>\n      <td>...</td>\n      <td>...</td>\n    </tr>\n    <tr>\n      <th rowspan=\"5\" valign=\"top\">caroltitantn</th>\n      <th rowspan=\"5\" valign=\"top\">Imagenet</th>\n      <th>Rand Val</th>\n      <th>Resnet50ImagenetBase</th>\n      <td>400</td>\n      <td>237.0</td>\n      <td>95.0</td>\n      <td>400</td>\n      <td>0.3550</td>\n      <td>0.2375</td>\n    </tr>\n    <tr>\n      <th>Single Bit</th>\n      <th>Resnet50ImagenetBase</th>\n      <td>400</td>\n      <td>166.0</td>\n      <td>9.0</td>\n      <td>400</td>\n      <td>0.3925</td>\n      <td>0.0225</td>\n    </tr>\n    <tr>\n      <th>Warp R. V.</th>\n      <th>Resnet50ImagenetBase</th>\n      <td>400</td>\n      <td>382.0</td>\n      <td>256.0</td>\n      <td>400</td>\n      <td>0.3150</td>\n      <td>0.6400</td>\n    </tr>\n    <tr>\n      <th>Warp Z.V.</th>\n      <th>Resnet50ImagenetBase</th>\n      <td>400</td>\n      <td>385.0</td>\n      <td>1.0</td>\n      <td>400</td>\n      <td>0.9600</td>\n      <td>0.0025</td>\n    </tr>\n    <tr>\n      <th>Zero Val</th>\n      <th>Resnet50ImagenetBase</th>\n      <td>400</td>\n      <td>214.0</td>\n      <td>0.0</td>\n      <td>400</td>\n      <td>0.5350</td>\n      <td>0.0000</td>\n    </tr>\n  </tbody>\n</table>\n<p>120 rows × 6 columns</p>\n</div>"
     },
     "execution_count": 43,
     "metadata": {},
     "output_type": "execute_result"
    }
   ],
   "source": [
    "to_save_gp"
   ],
   "metadata": {
    "collapsed": false
   }
  },
  {
   "cell_type": "code",
   "execution_count": 43,
   "outputs": [],
   "source": [],
   "metadata": {
    "collapsed": false
   }
  },
  {
   "cell_type": "code",
   "execution_count": 45,
   "outputs": [],
   "source": [
    "to_save_gp.to_excel(\"/home/fernando/git_research/dsn_2023_diehardnet/data/c10_avf_400faults.xlsx\")"
   ],
   "metadata": {
    "collapsed": false
   }
  },
  {
   "cell_type": "code",
   "execution_count": 46,
   "outputs": [
    {
     "data": {
      "text/plain": "                                                          has_end     sdc  \\\nhostname        dataset  fi_model   config                                  \ncaroltitaninria Cifar 10 Overall    Base                     2000   927.0   \n                                    BaseR6                   2000   958.0   \n                                    BnR6                     2000   904.0   \n                                    Gelu6Nan                 2000  1131.0   \n                                    OrdInv                   2000   855.0   \n...                                                           ...     ...   \ncaroltitantn    Imagenet Rand Val   Resnet50ImagenetBase      400   237.0   \n                         Single Bit Resnet50ImagenetBase      400   166.0   \n                         Warp R. V. Resnet50ImagenetBase      400   382.0   \n                         Warp Z.V.  Resnet50ImagenetBase      400   385.0   \n                         Zero Val   Resnet50ImagenetBase      400   214.0   \n\n                                                          critical_sdc  count  \\\nhostname        dataset  fi_model   config                                      \ncaroltitaninria Cifar 10 Overall    Base                         213.0   2000   \n                                    BaseR6                        15.0   2000   \n                                    BnR6                          11.0   2000   \n                                    Gelu6Nan                      15.0   2000   \n                                    OrdInv                         7.0   2000   \n...                                                                ...    ...   \ncaroltitantn    Imagenet Rand Val   Resnet50ImagenetBase          95.0    400   \n                         Single Bit Resnet50ImagenetBase           9.0    400   \n                         Warp R. V. Resnet50ImagenetBase         256.0    400   \n                         Warp Z.V.  Resnet50ImagenetBase           1.0    400   \n                         Zero Val   Resnet50ImagenetBase           0.0    400   \n\n                                                          avf sdc  \\\nhostname        dataset  fi_model   config                          \ncaroltitaninria Cifar 10 Overall    Base                   0.3570   \n                                    BaseR6                 0.4715   \n                                    BnR6                   0.4465   \n                                    Gelu6Nan               0.5580   \n                                    OrdInv                 0.4240   \n...                                                           ...   \ncaroltitantn    Imagenet Rand Val   Resnet50ImagenetBase   0.3550   \n                         Single Bit Resnet50ImagenetBase   0.3925   \n                         Warp R. V. Resnet50ImagenetBase   0.3150   \n                         Warp Z.V.  Resnet50ImagenetBase   0.9600   \n                         Zero Val   Resnet50ImagenetBase   0.5350   \n\n                                                          avf critical sdc  \nhostname        dataset  fi_model   config                                  \ncaroltitaninria Cifar 10 Overall    Base                            0.1065  \n                                    BaseR6                          0.0075  \n                                    BnR6                            0.0055  \n                                    Gelu6Nan                        0.0075  \n                                    OrdInv                          0.0035  \n...                                                                    ...  \ncaroltitantn    Imagenet Rand Val   Resnet50ImagenetBase            0.2375  \n                         Single Bit Resnet50ImagenetBase            0.0225  \n                         Warp R. V. Resnet50ImagenetBase            0.6400  \n                         Warp Z.V.  Resnet50ImagenetBase            0.0025  \n                         Zero Val   Resnet50ImagenetBase            0.0000  \n\n[120 rows x 6 columns]",
      "text/html": "<div>\n<style scoped>\n    .dataframe tbody tr th:only-of-type {\n        vertical-align: middle;\n    }\n\n    .dataframe tbody tr th {\n        vertical-align: top;\n    }\n\n    .dataframe thead th {\n        text-align: right;\n    }\n</style>\n<table border=\"1\" class=\"dataframe\">\n  <thead>\n    <tr style=\"text-align: right;\">\n      <th></th>\n      <th></th>\n      <th></th>\n      <th></th>\n      <th>has_end</th>\n      <th>sdc</th>\n      <th>critical_sdc</th>\n      <th>count</th>\n      <th>avf sdc</th>\n      <th>avf critical sdc</th>\n    </tr>\n    <tr>\n      <th>hostname</th>\n      <th>dataset</th>\n      <th>fi_model</th>\n      <th>config</th>\n      <th></th>\n      <th></th>\n      <th></th>\n      <th></th>\n      <th></th>\n      <th></th>\n    </tr>\n  </thead>\n  <tbody>\n    <tr>\n      <th rowspan=\"5\" valign=\"top\">caroltitaninria</th>\n      <th rowspan=\"5\" valign=\"top\">Cifar 10</th>\n      <th rowspan=\"5\" valign=\"top\">Overall</th>\n      <th>Base</th>\n      <td>2000</td>\n      <td>927.0</td>\n      <td>213.0</td>\n      <td>2000</td>\n      <td>0.3570</td>\n      <td>0.1065</td>\n    </tr>\n    <tr>\n      <th>BaseR6</th>\n      <td>2000</td>\n      <td>958.0</td>\n      <td>15.0</td>\n      <td>2000</td>\n      <td>0.4715</td>\n      <td>0.0075</td>\n    </tr>\n    <tr>\n      <th>BnR6</th>\n      <td>2000</td>\n      <td>904.0</td>\n      <td>11.0</td>\n      <td>2000</td>\n      <td>0.4465</td>\n      <td>0.0055</td>\n    </tr>\n    <tr>\n      <th>Gelu6Nan</th>\n      <td>2000</td>\n      <td>1131.0</td>\n      <td>15.0</td>\n      <td>2000</td>\n      <td>0.5580</td>\n      <td>0.0075</td>\n    </tr>\n    <tr>\n      <th>OrdInv</th>\n      <td>2000</td>\n      <td>855.0</td>\n      <td>7.0</td>\n      <td>2000</td>\n      <td>0.4240</td>\n      <td>0.0035</td>\n    </tr>\n    <tr>\n      <th>...</th>\n      <th>...</th>\n      <th>...</th>\n      <th>...</th>\n      <td>...</td>\n      <td>...</td>\n      <td>...</td>\n      <td>...</td>\n      <td>...</td>\n      <td>...</td>\n    </tr>\n    <tr>\n      <th rowspan=\"5\" valign=\"top\">caroltitantn</th>\n      <th rowspan=\"5\" valign=\"top\">Imagenet</th>\n      <th>Rand Val</th>\n      <th>Resnet50ImagenetBase</th>\n      <td>400</td>\n      <td>237.0</td>\n      <td>95.0</td>\n      <td>400</td>\n      <td>0.3550</td>\n      <td>0.2375</td>\n    </tr>\n    <tr>\n      <th>Single Bit</th>\n      <th>Resnet50ImagenetBase</th>\n      <td>400</td>\n      <td>166.0</td>\n      <td>9.0</td>\n      <td>400</td>\n      <td>0.3925</td>\n      <td>0.0225</td>\n    </tr>\n    <tr>\n      <th>Warp R. V.</th>\n      <th>Resnet50ImagenetBase</th>\n      <td>400</td>\n      <td>382.0</td>\n      <td>256.0</td>\n      <td>400</td>\n      <td>0.3150</td>\n      <td>0.6400</td>\n    </tr>\n    <tr>\n      <th>Warp Z.V.</th>\n      <th>Resnet50ImagenetBase</th>\n      <td>400</td>\n      <td>385.0</td>\n      <td>1.0</td>\n      <td>400</td>\n      <td>0.9600</td>\n      <td>0.0025</td>\n    </tr>\n    <tr>\n      <th>Zero Val</th>\n      <th>Resnet50ImagenetBase</th>\n      <td>400</td>\n      <td>214.0</td>\n      <td>0.0</td>\n      <td>400</td>\n      <td>0.5350</td>\n      <td>0.0000</td>\n    </tr>\n  </tbody>\n</table>\n<p>120 rows × 6 columns</p>\n</div>"
     },
     "execution_count": 46,
     "metadata": {},
     "output_type": "execute_result"
    }
   ],
   "source": [
    "to_save_gp"
   ],
   "metadata": {
    "collapsed": false
   }
  },
  {
   "cell_type": "code",
   "execution_count": null,
   "outputs": [],
   "source": [
    "df[\"hostname\"].unique()"
   ],
   "metadata": {
    "collapsed": false
   }
  },
  {
   "cell_type": "code",
   "execution_count": null,
   "outputs": [],
   "source": [],
   "metadata": {
    "collapsed": false
   }
  }
 ],
 "metadata": {
  "kernelspec": {
   "display_name": "Python 3 (ipykernel)",
   "language": "python",
   "name": "python3"
  },
  "language_info": {
   "codemirror_mode": {
    "name": "ipython",
    "version": 3
   },
   "file_extension": ".py",
   "mimetype": "text/x-python",
   "name": "python",
   "nbconvert_exporter": "python",
   "pygments_lexer": "ipython3",
   "version": "3.8.10"
  }
 },
 "nbformat": 4,
 "nbformat_minor": 5
}
