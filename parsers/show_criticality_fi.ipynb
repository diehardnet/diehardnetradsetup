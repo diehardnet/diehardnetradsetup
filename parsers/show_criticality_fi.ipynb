{
 "cells": [
  {
   "cell_type": "code",
   "source": [
    "import pandas as pd"
   ],
   "metadata": {
    "collapsed": false,
    "ExecuteTime": {
     "end_time": "2024-07-12T14:32:25.653802Z",
     "start_time": "2024-07-12T14:32:25.650909Z"
    }
   },
   "id": "a7528bb52b46dc72",
   "outputs": [],
   "execution_count": 56
  },
  {
   "cell_type": "code",
   "id": "9b9f9d1c-95f4-407e-ac60-696d80eab5de",
   "metadata": {
    "ExecuteTime": {
     "end_time": "2024-07-12T14:32:25.697294Z",
     "start_time": "2024-07-12T14:32:25.665191Z"
    }
   },
   "source": [
    "df = pd.read_csv(\"../data/parsed_logs_fi.csv\")"
   ],
   "outputs": [],
   "execution_count": 57
  },
  {
   "cell_type": "code",
   "id": "ad94d243-01d4-4b2f-807f-13f9cffbaeaf",
   "metadata": {
    "ExecuteTime": {
     "end_time": "2024-07-12T14:32:25.700897Z",
     "start_time": "2024-07-12T14:32:25.698097Z"
    }
   },
   "source": [
    "df[\"config\"].unique()"
   ],
   "outputs": [
    {
     "data": {
      "text/plain": [
       "array(['c10_res44_test_01_bn-relu_base', 'c10_res44_test_02_bn-relu6',\n",
       "       'c10_res44_test_02_bn-relu6_base', 'c10_res44_test_02_relu6-bn',\n",
       "       'c10_res44_test_02_relu6-bn_nanfilter',\n",
       "       'c10_res44_test_02_gelu6_nans', 'c100_res44_test_01_bn-relu_base',\n",
       "       'c100_res44_test_02_bn-relu6', 'c100_res44_test_02_bn-relu6_base',\n",
       "       'c100_res44_test_02_relu6-bn',\n",
       "       'c100_res44_test_02_relu6-bn_nanfilter',\n",
       "       'c100_res44_test_02_gelu6_nans'], dtype=object)"
      ]
     },
     "execution_count": 58,
     "metadata": {},
     "output_type": "execute_result"
    }
   ],
   "execution_count": 58
  },
  {
   "cell_type": "code",
   "id": "67491d89-1160-4a1b-b522-8f9d89a2bcaa",
   "metadata": {
    "ExecuteTime": {
     "end_time": "2024-07-12T14:32:25.709104Z",
     "start_time": "2024-07-12T14:32:25.701359Z"
    }
   },
   "source": [
    "configs = dict(\n",
    "    # Baseline C100\n",
    "    BaseC100=\"c100_res44_test_01_bn-relu_base.yaml\",\n",
    "    # \"c100_res44_test_02_bn-relu6.yaml\",\n",
    "    # Order inversion with relu6 C100\n",
    "    OrderInvC100=\"c100_res44_test_02_relu6-bn.yaml\",\n",
    "    # \"c100_res44_test_02_bn-relu6_base.yaml\",\n",
    "    BaseBnRelu6C100=\"c100_res44_test_02_bn-relu6_base.yaml\",\n",
    "    BnRelu6C100=\"c100_res44_test_02_bn-relu6.yaml\",\n",
    "    # Order inversion + nan filter + Relu6\n",
    "    OrderINanRelu6C100=\"c100_res44_test_02_relu6-bn_nanfilter.yaml\",\n",
    "    # Gelu and nan C100\n",
    "    GeluNanC100=\"c100_res44_test_02_gelu6_nans.yaml\",\n",
    "\n",
    "    # Baseline C10\n",
    "    BaseC10=\"c10_res44_test_01_bn-relu_base.yaml\",\n",
    "    # \"c10_res44_test_02_bn-relu6.yaml\",\n",
    "    BnRelu6C10=\"c10_res44_test_02_bn-relu6.yaml\",\n",
    "    # Order inversion with relu6 C10\n",
    "    OrderInvC10=\"c10_res44_test_02_relu6-bn.yaml\",\n",
    "    # \"c10_res44_test_02_bn-relu6_base.yaml\",\n",
    "    BaseBnRelu6C10=\"c10_res44_test_02_bn-relu6_base.yaml\",\n",
    "    OrderINanRelu6C10=\"c10_res44_test_02_relu6-bn_nanfilter.yaml\",\n",
    "    # Gelu and nan C10\n",
    "    GeluNanC10=\"c10_res44_test_02_gelu6_nans.yaml\",\n",
    "\n",
    "    MobileNetC100=\"cifar100_mobilenetv2_x1_4.yaml\",\n",
    "    MobileNetC10=\"cifar10_mobilenetv2_x1_4.yaml\",\n",
    "\n",
    "    Resnet50ImagenetBase=\"imagenet1k_v2_base\"\n",
    ")\n",
    "configs_inv = {v.replace(\".yaml\", \"\"): k for k, v in configs.items()}"
   ],
   "outputs": [],
   "execution_count": 59
  },
  {
   "cell_type": "code",
   "id": "1a98e0d8-9ed6-40f1-9116-d658f168c767",
   "metadata": {
    "ExecuteTime": {
     "end_time": "2024-07-12T14:32:25.719319Z",
     "start_time": "2024-07-12T14:32:25.709817Z"
    }
   },
   "source": [
    "configs_df = pd.DataFrame([configs]).T.reset_index().rename(columns={0: \"YAML\", \"index\": \"config\"})"
   ],
   "outputs": [],
   "execution_count": 60
  },
  {
   "cell_type": "code",
   "id": "c6929a77-35e1-4d1f-bfbf-1f1d10515d98",
   "metadata": {
    "ExecuteTime": {
     "end_time": "2024-07-12T14:32:25.730261Z",
     "start_time": "2024-07-12T14:32:25.719891Z"
    }
   },
   "source": [
    "configs_df"
   ],
   "outputs": [
    {
     "data": {
      "text/plain": [
       "                  config                                        YAML\n",
       "0               BaseC100        c100_res44_test_01_bn-relu_base.yaml\n",
       "1           OrderInvC100            c100_res44_test_02_relu6-bn.yaml\n",
       "2        BaseBnRelu6C100       c100_res44_test_02_bn-relu6_base.yaml\n",
       "3            BnRelu6C100            c100_res44_test_02_bn-relu6.yaml\n",
       "4     OrderINanRelu6C100  c100_res44_test_02_relu6-bn_nanfilter.yaml\n",
       "5            GeluNanC100          c100_res44_test_02_gelu6_nans.yaml\n",
       "6                BaseC10         c10_res44_test_01_bn-relu_base.yaml\n",
       "7             BnRelu6C10             c10_res44_test_02_bn-relu6.yaml\n",
       "8            OrderInvC10             c10_res44_test_02_relu6-bn.yaml\n",
       "9         BaseBnRelu6C10        c10_res44_test_02_bn-relu6_base.yaml\n",
       "10     OrderINanRelu6C10   c10_res44_test_02_relu6-bn_nanfilter.yaml\n",
       "11            GeluNanC10           c10_res44_test_02_gelu6_nans.yaml\n",
       "12         MobileNetC100              cifar100_mobilenetv2_x1_4.yaml\n",
       "13          MobileNetC10               cifar10_mobilenetv2_x1_4.yaml\n",
       "14  Resnet50ImagenetBase                          imagenet1k_v2_base"
      ],
      "text/html": [
       "<div>\n",
       "<style scoped>\n",
       "    .dataframe tbody tr th:only-of-type {\n",
       "        vertical-align: middle;\n",
       "    }\n",
       "\n",
       "    .dataframe tbody tr th {\n",
       "        vertical-align: top;\n",
       "    }\n",
       "\n",
       "    .dataframe thead th {\n",
       "        text-align: right;\n",
       "    }\n",
       "</style>\n",
       "<table border=\"1\" class=\"dataframe\">\n",
       "  <thead>\n",
       "    <tr style=\"text-align: right;\">\n",
       "      <th></th>\n",
       "      <th>config</th>\n",
       "      <th>YAML</th>\n",
       "    </tr>\n",
       "  </thead>\n",
       "  <tbody>\n",
       "    <tr>\n",
       "      <th>0</th>\n",
       "      <td>BaseC100</td>\n",
       "      <td>c100_res44_test_01_bn-relu_base.yaml</td>\n",
       "    </tr>\n",
       "    <tr>\n",
       "      <th>1</th>\n",
       "      <td>OrderInvC100</td>\n",
       "      <td>c100_res44_test_02_relu6-bn.yaml</td>\n",
       "    </tr>\n",
       "    <tr>\n",
       "      <th>2</th>\n",
       "      <td>BaseBnRelu6C100</td>\n",
       "      <td>c100_res44_test_02_bn-relu6_base.yaml</td>\n",
       "    </tr>\n",
       "    <tr>\n",
       "      <th>3</th>\n",
       "      <td>BnRelu6C100</td>\n",
       "      <td>c100_res44_test_02_bn-relu6.yaml</td>\n",
       "    </tr>\n",
       "    <tr>\n",
       "      <th>4</th>\n",
       "      <td>OrderINanRelu6C100</td>\n",
       "      <td>c100_res44_test_02_relu6-bn_nanfilter.yaml</td>\n",
       "    </tr>\n",
       "    <tr>\n",
       "      <th>5</th>\n",
       "      <td>GeluNanC100</td>\n",
       "      <td>c100_res44_test_02_gelu6_nans.yaml</td>\n",
       "    </tr>\n",
       "    <tr>\n",
       "      <th>6</th>\n",
       "      <td>BaseC10</td>\n",
       "      <td>c10_res44_test_01_bn-relu_base.yaml</td>\n",
       "    </tr>\n",
       "    <tr>\n",
       "      <th>7</th>\n",
       "      <td>BnRelu6C10</td>\n",
       "      <td>c10_res44_test_02_bn-relu6.yaml</td>\n",
       "    </tr>\n",
       "    <tr>\n",
       "      <th>8</th>\n",
       "      <td>OrderInvC10</td>\n",
       "      <td>c10_res44_test_02_relu6-bn.yaml</td>\n",
       "    </tr>\n",
       "    <tr>\n",
       "      <th>9</th>\n",
       "      <td>BaseBnRelu6C10</td>\n",
       "      <td>c10_res44_test_02_bn-relu6_base.yaml</td>\n",
       "    </tr>\n",
       "    <tr>\n",
       "      <th>10</th>\n",
       "      <td>OrderINanRelu6C10</td>\n",
       "      <td>c10_res44_test_02_relu6-bn_nanfilter.yaml</td>\n",
       "    </tr>\n",
       "    <tr>\n",
       "      <th>11</th>\n",
       "      <td>GeluNanC10</td>\n",
       "      <td>c10_res44_test_02_gelu6_nans.yaml</td>\n",
       "    </tr>\n",
       "    <tr>\n",
       "      <th>12</th>\n",
       "      <td>MobileNetC100</td>\n",
       "      <td>cifar100_mobilenetv2_x1_4.yaml</td>\n",
       "    </tr>\n",
       "    <tr>\n",
       "      <th>13</th>\n",
       "      <td>MobileNetC10</td>\n",
       "      <td>cifar10_mobilenetv2_x1_4.yaml</td>\n",
       "    </tr>\n",
       "    <tr>\n",
       "      <th>14</th>\n",
       "      <td>Resnet50ImagenetBase</td>\n",
       "      <td>imagenet1k_v2_base</td>\n",
       "    </tr>\n",
       "  </tbody>\n",
       "</table>\n",
       "</div>"
      ]
     },
     "execution_count": 61,
     "metadata": {},
     "output_type": "execute_result"
    }
   ],
   "execution_count": 61
  },
  {
   "cell_type": "code",
   "id": "46d5c87d-df10-4fb2-b355-67a24b1d2c4a",
   "metadata": {
    "ExecuteTime": {
     "end_time": "2024-07-12T14:32:25.740632Z",
     "start_time": "2024-07-12T14:32:25.730960Z"
    }
   },
   "source": [
    "df[\"config\"] = df[\"config\"].apply(lambda x: configs_inv[x])"
   ],
   "outputs": [],
   "execution_count": 62
  },
  {
   "cell_type": "code",
   "id": "61d0d008-d4bd-4efb-a2d3-9c82d84c719b",
   "metadata": {
    "ExecuteTime": {
     "end_time": "2024-07-12T14:32:25.749466Z",
     "start_time": "2024-07-12T14:32:25.741305Z"
    }
   },
   "source": [
    "df[\"count\"] = 1"
   ],
   "outputs": [],
   "execution_count": 63
  },
  {
   "cell_type": "code",
   "source": [
    "df[df[\"sdc\"] == 0]"
   ],
   "metadata": {
    "collapsed": false,
    "ExecuteTime": {
     "end_time": "2024-07-12T14:32:25.761703Z",
     "start_time": "2024-07-12T14:32:25.750061Z"
    }
   },
   "id": "7905636824024be6",
   "outputs": [
    {
     "data": {
      "text/plain": [
       "Empty DataFrame\n",
       "Columns: [start_dt, config, ecc, hostname, logfile, batch_size, it, ker_time, acc_time, ker_err, acc_err, sdc, critical_sdc, fi_model, group, count]\n",
       "Index: []"
      ],
      "text/html": [
       "<div>\n",
       "<style scoped>\n",
       "    .dataframe tbody tr th:only-of-type {\n",
       "        vertical-align: middle;\n",
       "    }\n",
       "\n",
       "    .dataframe tbody tr th {\n",
       "        vertical-align: top;\n",
       "    }\n",
       "\n",
       "    .dataframe thead th {\n",
       "        text-align: right;\n",
       "    }\n",
       "</style>\n",
       "<table border=\"1\" class=\"dataframe\">\n",
       "  <thead>\n",
       "    <tr style=\"text-align: right;\">\n",
       "      <th></th>\n",
       "      <th>start_dt</th>\n",
       "      <th>config</th>\n",
       "      <th>ecc</th>\n",
       "      <th>hostname</th>\n",
       "      <th>logfile</th>\n",
       "      <th>batch_size</th>\n",
       "      <th>it</th>\n",
       "      <th>ker_time</th>\n",
       "      <th>acc_time</th>\n",
       "      <th>ker_err</th>\n",
       "      <th>acc_err</th>\n",
       "      <th>sdc</th>\n",
       "      <th>critical_sdc</th>\n",
       "      <th>fi_model</th>\n",
       "      <th>group</th>\n",
       "      <th>count</th>\n",
       "    </tr>\n",
       "  </thead>\n",
       "  <tbody>\n",
       "  </tbody>\n",
       "</table>\n",
       "</div>"
      ]
     },
     "execution_count": 64,
     "metadata": {},
     "output_type": "execute_result"
    }
   ],
   "execution_count": 64
  },
  {
   "cell_type": "code",
   "id": "b1de70a3-885e-4336-b001-1c2477c4516a",
   "metadata": {
    "ExecuteTime": {
     "end_time": "2024-07-12T14:32:25.773369Z",
     "start_time": "2024-07-12T14:32:25.762498Z"
    }
   },
   "source": "to_save = df.groupby([\"hostname\", \"config\", \"fi_model\"]).sum()[[\"sdc\", \"critical_sdc\", \"count\"]].reset_index()",
   "outputs": [],
   "execution_count": 65
  },
  {
   "cell_type": "code",
   "id": "10801461-cd27-4b6f-91eb-7653b5203c30",
   "metadata": {
    "ExecuteTime": {
     "end_time": "2024-07-12T14:32:25.778086Z",
     "start_time": "2024-07-12T14:32:25.774011Z"
    }
   },
   "source": [
    "NEW_NAMES = dict(\n",
    "    # Baseline C100\n",
    "    BaseC100=\"Base\",\n",
    "    # \"c100_res44_test_02_bn-relu6.yaml\",\n",
    "    # Order inversion with relu6 C100\n",
    "    OrderInvC100=\"OrdInv\",\n",
    "    # \"c100_res44_test_02_bn-relu6_base.yaml\",\n",
    "    BaseBnRelu6C100=\"BaseR6\",\n",
    "    BnRelu6C100=\"BnR6\",\n",
    "    # Order inversion + nan filter + Relu6\n",
    "    OrderINanRelu6C100=\"OrdInvNanR6\",\n",
    "    # Gelu and nan C100\n",
    "    GeluNanC100=\"Gelu6Nan\",\n",
    ")\n",
    "NEW_NAMES.update({k.replace(\"C100\", \"C10\"): v for k, v in NEW_NAMES.items()})\n",
    "NEW_NAMES[\"Resnet50ImagenetBase\"] = \"Resnet50ImagenetBase\""
   ],
   "outputs": [],
   "execution_count": 66
  },
  {
   "cell_type": "code",
   "source": [
    "to_save"
   ],
   "metadata": {
    "collapsed": false,
    "ExecuteTime": {
     "end_time": "2024-07-12T14:32:25.800154Z",
     "start_time": "2024-07-12T14:32:25.778620Z"
    }
   },
   "id": "fab0259fe5579188",
   "outputs": [
    {
     "data": {
      "text/plain": [
       "           hostname          config  fi_model  sdc  critical_sdc  count\n",
       "0   caroltitaninria  BaseBnRelu6C10         0  124             1    124\n",
       "1   caroltitaninria  BaseBnRelu6C10         2  179             2    179\n",
       "2   caroltitaninria  BaseBnRelu6C10         3  158             0    158\n",
       "3   caroltitaninria  BaseBnRelu6C10         4  246            12    246\n",
       "4   caroltitaninria  BaseBnRelu6C10         5  251             0    251\n",
       "..              ...             ...       ...  ...           ...    ...\n",
       "85     caroltitantn    OrderInvC100         0  152             0    152\n",
       "86     caroltitantn    OrderInvC100         2  224             8    224\n",
       "87     caroltitantn    OrderInvC100         3  193             0    193\n",
       "88     caroltitantn    OrderInvC100         4  308            37    308\n",
       "89     caroltitantn    OrderInvC100         5  293             0    293\n",
       "\n",
       "[90 rows x 6 columns]"
      ],
      "text/html": [
       "<div>\n",
       "<style scoped>\n",
       "    .dataframe tbody tr th:only-of-type {\n",
       "        vertical-align: middle;\n",
       "    }\n",
       "\n",
       "    .dataframe tbody tr th {\n",
       "        vertical-align: top;\n",
       "    }\n",
       "\n",
       "    .dataframe thead th {\n",
       "        text-align: right;\n",
       "    }\n",
       "</style>\n",
       "<table border=\"1\" class=\"dataframe\">\n",
       "  <thead>\n",
       "    <tr style=\"text-align: right;\">\n",
       "      <th></th>\n",
       "      <th>hostname</th>\n",
       "      <th>config</th>\n",
       "      <th>fi_model</th>\n",
       "      <th>sdc</th>\n",
       "      <th>critical_sdc</th>\n",
       "      <th>count</th>\n",
       "    </tr>\n",
       "  </thead>\n",
       "  <tbody>\n",
       "    <tr>\n",
       "      <th>0</th>\n",
       "      <td>caroltitaninria</td>\n",
       "      <td>BaseBnRelu6C10</td>\n",
       "      <td>0</td>\n",
       "      <td>124</td>\n",
       "      <td>1</td>\n",
       "      <td>124</td>\n",
       "    </tr>\n",
       "    <tr>\n",
       "      <th>1</th>\n",
       "      <td>caroltitaninria</td>\n",
       "      <td>BaseBnRelu6C10</td>\n",
       "      <td>2</td>\n",
       "      <td>179</td>\n",
       "      <td>2</td>\n",
       "      <td>179</td>\n",
       "    </tr>\n",
       "    <tr>\n",
       "      <th>2</th>\n",
       "      <td>caroltitaninria</td>\n",
       "      <td>BaseBnRelu6C10</td>\n",
       "      <td>3</td>\n",
       "      <td>158</td>\n",
       "      <td>0</td>\n",
       "      <td>158</td>\n",
       "    </tr>\n",
       "    <tr>\n",
       "      <th>3</th>\n",
       "      <td>caroltitaninria</td>\n",
       "      <td>BaseBnRelu6C10</td>\n",
       "      <td>4</td>\n",
       "      <td>246</td>\n",
       "      <td>12</td>\n",
       "      <td>246</td>\n",
       "    </tr>\n",
       "    <tr>\n",
       "      <th>4</th>\n",
       "      <td>caroltitaninria</td>\n",
       "      <td>BaseBnRelu6C10</td>\n",
       "      <td>5</td>\n",
       "      <td>251</td>\n",
       "      <td>0</td>\n",
       "      <td>251</td>\n",
       "    </tr>\n",
       "    <tr>\n",
       "      <th>...</th>\n",
       "      <td>...</td>\n",
       "      <td>...</td>\n",
       "      <td>...</td>\n",
       "      <td>...</td>\n",
       "      <td>...</td>\n",
       "      <td>...</td>\n",
       "    </tr>\n",
       "    <tr>\n",
       "      <th>85</th>\n",
       "      <td>caroltitantn</td>\n",
       "      <td>OrderInvC100</td>\n",
       "      <td>0</td>\n",
       "      <td>152</td>\n",
       "      <td>0</td>\n",
       "      <td>152</td>\n",
       "    </tr>\n",
       "    <tr>\n",
       "      <th>86</th>\n",
       "      <td>caroltitantn</td>\n",
       "      <td>OrderInvC100</td>\n",
       "      <td>2</td>\n",
       "      <td>224</td>\n",
       "      <td>8</td>\n",
       "      <td>224</td>\n",
       "    </tr>\n",
       "    <tr>\n",
       "      <th>87</th>\n",
       "      <td>caroltitantn</td>\n",
       "      <td>OrderInvC100</td>\n",
       "      <td>3</td>\n",
       "      <td>193</td>\n",
       "      <td>0</td>\n",
       "      <td>193</td>\n",
       "    </tr>\n",
       "    <tr>\n",
       "      <th>88</th>\n",
       "      <td>caroltitantn</td>\n",
       "      <td>OrderInvC100</td>\n",
       "      <td>4</td>\n",
       "      <td>308</td>\n",
       "      <td>37</td>\n",
       "      <td>308</td>\n",
       "    </tr>\n",
       "    <tr>\n",
       "      <th>89</th>\n",
       "      <td>caroltitantn</td>\n",
       "      <td>OrderInvC100</td>\n",
       "      <td>5</td>\n",
       "      <td>293</td>\n",
       "      <td>0</td>\n",
       "      <td>293</td>\n",
       "    </tr>\n",
       "  </tbody>\n",
       "</table>\n",
       "<p>90 rows × 6 columns</p>\n",
       "</div>"
      ]
     },
     "execution_count": 67,
     "metadata": {},
     "output_type": "execute_result"
    }
   ],
   "execution_count": 67
  },
  {
   "cell_type": "code",
   "source": [
    "FM_NAMES = dict(FLIP_SINGLE_BIT=\"Single Bit\", ZERO_VALUE=\"Zero Val\", WARP_ZERO_VALUE=\"Warp Z.V.\",\n",
    "                RANDOM_VALUE=\"Rand Val\", WARP_RANDOM_VALUE=\"Warp R. V.\")\n",
    "FM_IDS = dict(FLIP_SINGLE_BIT=0, RANDOM_VALUE=2, ZERO_VALUE=3, WARP_RANDOM_VALUE=4, WARP_ZERO_VALUE=5)\n",
    "FM_ID_TO_NAMES = {fmv: FM_NAMES[fmk] for fmk, fmv in FM_IDS.items()}"
   ],
   "metadata": {
    "collapsed": false,
    "ExecuteTime": {
     "end_time": "2024-07-12T14:32:25.808630Z",
     "start_time": "2024-07-12T14:32:25.800722Z"
    }
   },
   "id": "44fc58af56aa8cfc",
   "outputs": [],
   "execution_count": 68
  },
  {
   "cell_type": "code",
   "source": [
    "def set_dataset(x):\n",
    "    if \"C100\" in x:\n",
    "        return \"Cifar 100\"\n",
    "    elif \"Imagenet\" in x:\n",
    "        return \"Imagenet\"\n",
    "    else:\n",
    "        return \"Cifar 10\""
   ],
   "metadata": {
    "collapsed": false,
    "ExecuteTime": {
     "end_time": "2024-07-12T14:32:25.817243Z",
     "start_time": "2024-07-12T14:32:25.809273Z"
    }
   },
   "id": "87481d490201d7ef",
   "outputs": [],
   "execution_count": 69
  },
  {
   "cell_type": "code",
   "source": [
    "to_save[\"dataset\"] = to_save[\"config\"].apply(set_dataset)\n",
    "to_save[\"config\"] = to_save[\"config\"].apply(lambda x: NEW_NAMES[x])\n",
    "to_save[\"fi_model\"] = to_save[\"fi_model\"].apply(lambda x: FM_ID_TO_NAMES[x])"
   ],
   "metadata": {
    "collapsed": false,
    "ExecuteTime": {
     "end_time": "2024-07-12T14:32:25.827179Z",
     "start_time": "2024-07-12T14:32:25.818117Z"
    }
   },
   "id": "32ca4b0b5e66f6ec",
   "outputs": [],
   "execution_count": 70
  },
  {
   "cell_type": "code",
   "source": [
    "to_save"
   ],
   "metadata": {
    "collapsed": false,
    "ExecuteTime": {
     "end_time": "2024-07-12T14:32:25.840407Z",
     "start_time": "2024-07-12T14:32:25.827771Z"
    }
   },
   "id": "2dc4a00104137196",
   "outputs": [
    {
     "data": {
      "text/plain": [
       "           hostname  config    fi_model  sdc  critical_sdc  count    dataset\n",
       "0   caroltitaninria  BaseR6  Single Bit  124             1    124   Cifar 10\n",
       "1   caroltitaninria  BaseR6    Rand Val  179             2    179   Cifar 10\n",
       "2   caroltitaninria  BaseR6    Zero Val  158             0    158   Cifar 10\n",
       "3   caroltitaninria  BaseR6  Warp R. V.  246            12    246   Cifar 10\n",
       "4   caroltitaninria  BaseR6   Warp Z.V.  251             0    251   Cifar 10\n",
       "..              ...     ...         ...  ...           ...    ...        ...\n",
       "85     caroltitantn  OrdInv  Single Bit  152             0    152  Cifar 100\n",
       "86     caroltitantn  OrdInv    Rand Val  224             8    224  Cifar 100\n",
       "87     caroltitantn  OrdInv    Zero Val  193             0    193  Cifar 100\n",
       "88     caroltitantn  OrdInv  Warp R. V.  308            37    308  Cifar 100\n",
       "89     caroltitantn  OrdInv   Warp Z.V.  293             0    293  Cifar 100\n",
       "\n",
       "[90 rows x 7 columns]"
      ],
      "text/html": [
       "<div>\n",
       "<style scoped>\n",
       "    .dataframe tbody tr th:only-of-type {\n",
       "        vertical-align: middle;\n",
       "    }\n",
       "\n",
       "    .dataframe tbody tr th {\n",
       "        vertical-align: top;\n",
       "    }\n",
       "\n",
       "    .dataframe thead th {\n",
       "        text-align: right;\n",
       "    }\n",
       "</style>\n",
       "<table border=\"1\" class=\"dataframe\">\n",
       "  <thead>\n",
       "    <tr style=\"text-align: right;\">\n",
       "      <th></th>\n",
       "      <th>hostname</th>\n",
       "      <th>config</th>\n",
       "      <th>fi_model</th>\n",
       "      <th>sdc</th>\n",
       "      <th>critical_sdc</th>\n",
       "      <th>count</th>\n",
       "      <th>dataset</th>\n",
       "    </tr>\n",
       "  </thead>\n",
       "  <tbody>\n",
       "    <tr>\n",
       "      <th>0</th>\n",
       "      <td>caroltitaninria</td>\n",
       "      <td>BaseR6</td>\n",
       "      <td>Single Bit</td>\n",
       "      <td>124</td>\n",
       "      <td>1</td>\n",
       "      <td>124</td>\n",
       "      <td>Cifar 10</td>\n",
       "    </tr>\n",
       "    <tr>\n",
       "      <th>1</th>\n",
       "      <td>caroltitaninria</td>\n",
       "      <td>BaseR6</td>\n",
       "      <td>Rand Val</td>\n",
       "      <td>179</td>\n",
       "      <td>2</td>\n",
       "      <td>179</td>\n",
       "      <td>Cifar 10</td>\n",
       "    </tr>\n",
       "    <tr>\n",
       "      <th>2</th>\n",
       "      <td>caroltitaninria</td>\n",
       "      <td>BaseR6</td>\n",
       "      <td>Zero Val</td>\n",
       "      <td>158</td>\n",
       "      <td>0</td>\n",
       "      <td>158</td>\n",
       "      <td>Cifar 10</td>\n",
       "    </tr>\n",
       "    <tr>\n",
       "      <th>3</th>\n",
       "      <td>caroltitaninria</td>\n",
       "      <td>BaseR6</td>\n",
       "      <td>Warp R. V.</td>\n",
       "      <td>246</td>\n",
       "      <td>12</td>\n",
       "      <td>246</td>\n",
       "      <td>Cifar 10</td>\n",
       "    </tr>\n",
       "    <tr>\n",
       "      <th>4</th>\n",
       "      <td>caroltitaninria</td>\n",
       "      <td>BaseR6</td>\n",
       "      <td>Warp Z.V.</td>\n",
       "      <td>251</td>\n",
       "      <td>0</td>\n",
       "      <td>251</td>\n",
       "      <td>Cifar 10</td>\n",
       "    </tr>\n",
       "    <tr>\n",
       "      <th>...</th>\n",
       "      <td>...</td>\n",
       "      <td>...</td>\n",
       "      <td>...</td>\n",
       "      <td>...</td>\n",
       "      <td>...</td>\n",
       "      <td>...</td>\n",
       "      <td>...</td>\n",
       "    </tr>\n",
       "    <tr>\n",
       "      <th>85</th>\n",
       "      <td>caroltitantn</td>\n",
       "      <td>OrdInv</td>\n",
       "      <td>Single Bit</td>\n",
       "      <td>152</td>\n",
       "      <td>0</td>\n",
       "      <td>152</td>\n",
       "      <td>Cifar 100</td>\n",
       "    </tr>\n",
       "    <tr>\n",
       "      <th>86</th>\n",
       "      <td>caroltitantn</td>\n",
       "      <td>OrdInv</td>\n",
       "      <td>Rand Val</td>\n",
       "      <td>224</td>\n",
       "      <td>8</td>\n",
       "      <td>224</td>\n",
       "      <td>Cifar 100</td>\n",
       "    </tr>\n",
       "    <tr>\n",
       "      <th>87</th>\n",
       "      <td>caroltitantn</td>\n",
       "      <td>OrdInv</td>\n",
       "      <td>Zero Val</td>\n",
       "      <td>193</td>\n",
       "      <td>0</td>\n",
       "      <td>193</td>\n",
       "      <td>Cifar 100</td>\n",
       "    </tr>\n",
       "    <tr>\n",
       "      <th>88</th>\n",
       "      <td>caroltitantn</td>\n",
       "      <td>OrdInv</td>\n",
       "      <td>Warp R. V.</td>\n",
       "      <td>308</td>\n",
       "      <td>37</td>\n",
       "      <td>308</td>\n",
       "      <td>Cifar 100</td>\n",
       "    </tr>\n",
       "    <tr>\n",
       "      <th>89</th>\n",
       "      <td>caroltitantn</td>\n",
       "      <td>OrdInv</td>\n",
       "      <td>Warp Z.V.</td>\n",
       "      <td>293</td>\n",
       "      <td>0</td>\n",
       "      <td>293</td>\n",
       "      <td>Cifar 100</td>\n",
       "    </tr>\n",
       "  </tbody>\n",
       "</table>\n",
       "<p>90 rows × 7 columns</p>\n",
       "</div>"
      ]
     },
     "execution_count": 71,
     "metadata": {},
     "output_type": "execute_result"
    }
   ],
   "execution_count": 71
  },
  {
   "cell_type": "code",
   "source": [
    "to_save_tail = to_save.groupby([\"hostname\", \"dataset\", \"config\"]).sum().reset_index()"
   ],
   "metadata": {
    "collapsed": false,
    "ExecuteTime": {
     "end_time": "2024-07-12T14:32:25.851346Z",
     "start_time": "2024-07-12T14:32:25.841128Z"
    }
   },
   "id": "48e95a65e7a5b69c",
   "outputs": [],
   "execution_count": 72
  },
  {
   "cell_type": "code",
   "source": [
    "to_save_tail[\"fi_model\"] = \"Overall\""
   ],
   "metadata": {
    "collapsed": false,
    "ExecuteTime": {
     "end_time": "2024-07-12T14:32:25.867915Z",
     "start_time": "2024-07-12T14:32:25.865730Z"
    }
   },
   "id": "697322c2dac178af",
   "outputs": [],
   "execution_count": 73
  },
  {
   "cell_type": "code",
   "source": [
    "to_save_gp = pd.concat([to_save, to_save_tail])"
   ],
   "metadata": {
    "collapsed": false,
    "ExecuteTime": {
     "end_time": "2024-07-12T14:32:25.907472Z",
     "start_time": "2024-07-12T14:32:25.904442Z"
    }
   },
   "id": "b1f9e3d5aa48c876",
   "outputs": [],
   "execution_count": 74
  },
  {
   "cell_type": "code",
   "source": [
    "to_save_gp = to_save_gp.groupby([\"hostname\", \"dataset\", \"fi_model\", \"config\"]).sum()"
   ],
   "metadata": {
    "collapsed": false,
    "ExecuteTime": {
     "end_time": "2024-07-12T14:32:25.953825Z",
     "start_time": "2024-07-12T14:32:25.949369Z"
    }
   },
   "id": "aebcb0550805af80",
   "outputs": [],
   "execution_count": 75
  },
  {
   "cell_type": "code",
   "source": [
    "to_save_gp[\"avf sdc\"] = (to_save_gp[\"sdc\"] - to_save_gp[\"critical_sdc\"]) / to_save_gp[\"count\"]\n",
    "to_save_gp[\"avf critical sdc\"] = to_save_gp[\"critical_sdc\"] / to_save_gp[\"count\"]"
   ],
   "metadata": {
    "collapsed": false,
    "ExecuteTime": {
     "end_time": "2024-07-12T14:32:26.012154Z",
     "start_time": "2024-07-12T14:32:26.008816Z"
    }
   },
   "id": "2d38f862d6312891",
   "outputs": [],
   "execution_count": 76
  },
  {
   "cell_type": "code",
   "source": [
    "to_save_gp"
   ],
   "metadata": {
    "collapsed": false,
    "ExecuteTime": {
     "end_time": "2024-07-12T14:32:26.034478Z",
     "start_time": "2024-07-12T14:32:26.026223Z"
    }
   },
   "id": "fddfc9c209d5f521",
   "outputs": [
    {
     "data": {
      "text/plain": [
       "                                                 sdc  critical_sdc  count  \\\n",
       "hostname        dataset   fi_model config                                   \n",
       "caroltitaninria Cifar 10  Overall  Base          927           213    927   \n",
       "                                   BaseR6        958            15    958   \n",
       "                                   BnR6          904            11    904   \n",
       "                                   Gelu6Nan     1131            15   1131   \n",
       "                                   OrdInv        855             7    855   \n",
       "...                                              ...           ...    ...   \n",
       "caroltitantn    Cifar 100 Zero Val BaseR6        205             0    205   \n",
       "                                   BnR6          183             0    183   \n",
       "                                   Gelu6Nan      290             0    290   \n",
       "                                   OrdInv        193             0    193   \n",
       "                                   OrdInvNanR6   200             0    200   \n",
       "\n",
       "                                                 avf sdc  avf critical sdc  \n",
       "hostname        dataset   fi_model config                                   \n",
       "caroltitaninria Cifar 10  Overall  Base         0.770227          0.229773  \n",
       "                                   BaseR6       0.984342          0.015658  \n",
       "                                   BnR6         0.987832          0.012168  \n",
       "                                   Gelu6Nan     0.986737          0.013263  \n",
       "                                   OrdInv       0.991813          0.008187  \n",
       "...                                                  ...               ...  \n",
       "caroltitantn    Cifar 100 Zero Val BaseR6       1.000000          0.000000  \n",
       "                                   BnR6         1.000000          0.000000  \n",
       "                                   Gelu6Nan     1.000000          0.000000  \n",
       "                                   OrdInv       1.000000          0.000000  \n",
       "                                   OrdInvNanR6  1.000000          0.000000  \n",
       "\n",
       "[108 rows x 5 columns]"
      ],
      "text/html": [
       "<div>\n",
       "<style scoped>\n",
       "    .dataframe tbody tr th:only-of-type {\n",
       "        vertical-align: middle;\n",
       "    }\n",
       "\n",
       "    .dataframe tbody tr th {\n",
       "        vertical-align: top;\n",
       "    }\n",
       "\n",
       "    .dataframe thead th {\n",
       "        text-align: right;\n",
       "    }\n",
       "</style>\n",
       "<table border=\"1\" class=\"dataframe\">\n",
       "  <thead>\n",
       "    <tr style=\"text-align: right;\">\n",
       "      <th></th>\n",
       "      <th></th>\n",
       "      <th></th>\n",
       "      <th></th>\n",
       "      <th>sdc</th>\n",
       "      <th>critical_sdc</th>\n",
       "      <th>count</th>\n",
       "      <th>avf sdc</th>\n",
       "      <th>avf critical sdc</th>\n",
       "    </tr>\n",
       "    <tr>\n",
       "      <th>hostname</th>\n",
       "      <th>dataset</th>\n",
       "      <th>fi_model</th>\n",
       "      <th>config</th>\n",
       "      <th></th>\n",
       "      <th></th>\n",
       "      <th></th>\n",
       "      <th></th>\n",
       "      <th></th>\n",
       "    </tr>\n",
       "  </thead>\n",
       "  <tbody>\n",
       "    <tr>\n",
       "      <th rowspan=\"5\" valign=\"top\">caroltitaninria</th>\n",
       "      <th rowspan=\"5\" valign=\"top\">Cifar 10</th>\n",
       "      <th rowspan=\"5\" valign=\"top\">Overall</th>\n",
       "      <th>Base</th>\n",
       "      <td>927</td>\n",
       "      <td>213</td>\n",
       "      <td>927</td>\n",
       "      <td>0.770227</td>\n",
       "      <td>0.229773</td>\n",
       "    </tr>\n",
       "    <tr>\n",
       "      <th>BaseR6</th>\n",
       "      <td>958</td>\n",
       "      <td>15</td>\n",
       "      <td>958</td>\n",
       "      <td>0.984342</td>\n",
       "      <td>0.015658</td>\n",
       "    </tr>\n",
       "    <tr>\n",
       "      <th>BnR6</th>\n",
       "      <td>904</td>\n",
       "      <td>11</td>\n",
       "      <td>904</td>\n",
       "      <td>0.987832</td>\n",
       "      <td>0.012168</td>\n",
       "    </tr>\n",
       "    <tr>\n",
       "      <th>Gelu6Nan</th>\n",
       "      <td>1131</td>\n",
       "      <td>15</td>\n",
       "      <td>1131</td>\n",
       "      <td>0.986737</td>\n",
       "      <td>0.013263</td>\n",
       "    </tr>\n",
       "    <tr>\n",
       "      <th>OrdInv</th>\n",
       "      <td>855</td>\n",
       "      <td>7</td>\n",
       "      <td>855</td>\n",
       "      <td>0.991813</td>\n",
       "      <td>0.008187</td>\n",
       "    </tr>\n",
       "    <tr>\n",
       "      <th>...</th>\n",
       "      <th>...</th>\n",
       "      <th>...</th>\n",
       "      <th>...</th>\n",
       "      <td>...</td>\n",
       "      <td>...</td>\n",
       "      <td>...</td>\n",
       "      <td>...</td>\n",
       "      <td>...</td>\n",
       "    </tr>\n",
       "    <tr>\n",
       "      <th rowspan=\"5\" valign=\"top\">caroltitantn</th>\n",
       "      <th rowspan=\"5\" valign=\"top\">Cifar 100</th>\n",
       "      <th rowspan=\"5\" valign=\"top\">Zero Val</th>\n",
       "      <th>BaseR6</th>\n",
       "      <td>205</td>\n",
       "      <td>0</td>\n",
       "      <td>205</td>\n",
       "      <td>1.000000</td>\n",
       "      <td>0.000000</td>\n",
       "    </tr>\n",
       "    <tr>\n",
       "      <th>BnR6</th>\n",
       "      <td>183</td>\n",
       "      <td>0</td>\n",
       "      <td>183</td>\n",
       "      <td>1.000000</td>\n",
       "      <td>0.000000</td>\n",
       "    </tr>\n",
       "    <tr>\n",
       "      <th>Gelu6Nan</th>\n",
       "      <td>290</td>\n",
       "      <td>0</td>\n",
       "      <td>290</td>\n",
       "      <td>1.000000</td>\n",
       "      <td>0.000000</td>\n",
       "    </tr>\n",
       "    <tr>\n",
       "      <th>OrdInv</th>\n",
       "      <td>193</td>\n",
       "      <td>0</td>\n",
       "      <td>193</td>\n",
       "      <td>1.000000</td>\n",
       "      <td>0.000000</td>\n",
       "    </tr>\n",
       "    <tr>\n",
       "      <th>OrdInvNanR6</th>\n",
       "      <td>200</td>\n",
       "      <td>0</td>\n",
       "      <td>200</td>\n",
       "      <td>1.000000</td>\n",
       "      <td>0.000000</td>\n",
       "    </tr>\n",
       "  </tbody>\n",
       "</table>\n",
       "<p>108 rows × 5 columns</p>\n",
       "</div>"
      ]
     },
     "execution_count": 77,
     "metadata": {},
     "output_type": "execute_result"
    }
   ],
   "execution_count": 77
  }
 ],
 "metadata": {
  "kernelspec": {
   "display_name": "Python 3 (ipykernel)",
   "language": "python",
   "name": "python3"
  },
  "language_info": {
   "codemirror_mode": {
    "name": "ipython",
    "version": 3
   },
   "file_extension": ".py",
   "mimetype": "text/x-python",
   "name": "python",
   "nbconvert_exporter": "python",
   "pygments_lexer": "ipython3",
   "version": "3.8.10"
  }
 },
 "nbformat": 4,
 "nbformat_minor": 5
}
